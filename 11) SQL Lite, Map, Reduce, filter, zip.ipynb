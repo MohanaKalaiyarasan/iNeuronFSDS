{
 "cells": [
  {
   "cell_type": "raw",
   "metadata": {},
   "source": [
    "SQL lite:  database (sql, mongodb)\n",
    "sql - need to create schema before storing the data, whereas mongodb just dump as a document/json\n",
    "structured (SQL), Unstructured (Mongodb)\n",
    "mobile app, need to store in a file system (html, json, xml datastore)\n",
    "\n",
    "sql lite - in memory database, store in a form of table (in device itself)\n",
    "create a table and dump inside, by default sql lite is available in mobile itself\n",
    "store in .db format (tabular format)\n",
    "whatsapp (store data inside a mobile and does the backup)\n",
    "\n",
    "no need to install any drivers\n",
    "\n",
    "1) import sqlite3 (it is avaialble already)\n",
    "2) create ineuron.db\n",
    "3) connect to ineuron.db\n"
   ]
  },
  {
   "cell_type": "code",
   "execution_count": 2,
   "metadata": {},
   "outputs": [],
   "source": [
    "import sqlite3 as sq"
   ]
  },
  {
   "cell_type": "code",
   "execution_count": 3,
   "metadata": {},
   "outputs": [],
   "source": [
    "db = sq.connect(\"ineuron.db\")"
   ]
  },
  {
   "cell_type": "code",
   "execution_count": 4,
   "metadata": {},
   "outputs": [
    {
     "name": "stdout",
     "output_type": "stream",
     "text": [
      " Volume in drive C has no label.\n",
      " Volume Serial Number is CE08-50A1\n",
      "\n",
      " Directory of C:\\Users\\mral\\Mohana Kalaiyarasan_Data Scientist\\FSDS_iNeuron\n",
      "\n",
      "18/09/2022  01:40 PM    <DIR>          .\n",
      "18/09/2022  01:40 PM    <DIR>          ..\n",
      "17/09/2022  05:50 PM    <DIR>          .ipynb_checkpoints\n",
      "21/08/2022  04:27 PM    <DIR>          __pycache__\n",
      "10/08/2022  09:56 PM            69,297 1) Python basic_String_list_Indexing.ipynb\n",
      "16/09/2022  07:25 AM            71,909 10) MongoDB.ipynb\n",
      "17/09/2022  05:49 PM            19,322 10.1) Mongodb exercise.ipynb\n",
      "18/09/2022  01:40 PM             1,618 11) SQL Lite, Map, Reduce, filter, zip.ipynb\n",
      "10/08/2022  10:02 PM            50,566 2) Tuple, Set Dict.ipynb\n",
      "10/08/2022  10:43 PM           226,340 3) 19Dec_Python Prog Discussion.ipynb\n",
      "10/08/2022  10:58 PM            28,649 4) Function_23Dec21.ipynb\n",
      "10/08/2022  11:34 PM            53,772 5) Function_Part2_8Jan22.ipynb\n",
      "10/08/2022  11:55 PM            97,813 6) 9th Jan - Iterator, Generator File System.ipynb\n",
      "14/08/2022  08:32 PM         1,397,957 6.1) Function_Assignment_10Aug2022.ipynb\n",
      "16/08/2022  05:23 PM            28,483 7) Exception Handling.ipynb\n",
      "22/08/2022  02:07 PM             8,701 7.1) Logging.ipynb\n",
      "21/08/2022  04:41 PM            20,334 8) Module and Import.ipynb\n",
      "22/08/2022  02:11 PM            25,214 8.1) OOPS concept.ipynb\n",
      "02/09/2022  09:26 PM            53,704 8.2) OOPS with Module_Packages.ipynb\n",
      "08/09/2022  08:41 PM            44,042 8.3) OOPs with Polymorphism.ipynb\n",
      "06/09/2022  05:32 PM            99,929 9) SQL.ipynb\n",
      "09/09/2022  03:15 PM           448,402 9.1) SQL Day2.ipynb\n",
      "06/09/2022  08:42 PM            51,867 car.data\n",
      "07/09/2022  10:10 AM             3,097 car.names\n",
      "16/09/2022  08:35 PM           628,633 carbon_nanotubes.csv\n",
      "12/07/2021  09:41 AM           147,652 file1.pdf\n",
      "06/09/2022  02:41 PM            11,903 glass.data\n",
      "10/08/2022  06:16 AM             2,332 google.txt\n",
      "27/11/2021  10:00 AM       239,419,577 IMG_7526.MOV\n",
      "18/09/2022  01:39 PM                 0 ineuron.db\n",
      "21/08/2022  07:28 PM                62 list.log\n",
      "17/08/2022  05:48 PM               230 my_module.py\n",
      "21/08/2022  04:27 PM             3,146 mydict.py\n",
      "13/08/2022  10:45 AM            26,187 mywordfile.docx\n",
      "13/08/2022  02:24 PM             3,649 mywordfile.pdf\n",
      "13/08/2022  02:28 PM                 0 new.pdf\n",
      "13/08/2022  02:29 PM           146,057 newPDF.pdf\n",
      "17/08/2022  05:05 PM             1,519 test\n",
      "16/08/2022  07:51 PM             1,193 test.log\n",
      "17/08/2022  05:08 PM                 0 test1.py\n",
      "21/08/2022  07:34 PM                22 test1.txt\n",
      "16/08/2022  08:13 PM             4,042 test2.log\n",
      "17/08/2022  05:25 PM               262 test2.py\n",
      "22/08/2022  02:08 PM             4,512 test3.log\n",
      "14/08/2022  11:21 PM                 6 text1.txt\n",
      "15/02/2018  08:15 PM           161,227 WIN_20180215_20_15_41_Pro.jpg\n",
      "              42 File(s)    243,363,227 bytes\n",
      "               4 Dir(s)  201,960,206,336 bytes free\n"
     ]
    }
   ],
   "source": [
    "ls"
   ]
  },
  {
   "cell_type": "code",
   "execution_count": 5,
   "metadata": {},
   "outputs": [],
   "source": [
    "c = db.cursor() #pointer"
   ]
  },
  {
   "cell_type": "code",
   "execution_count": 6,
   "metadata": {},
   "outputs": [
    {
     "data": {
      "text/plain": [
       "<sqlite3.Cursor at 0x1a8224bdab0>"
      ]
     },
     "execution_count": 6,
     "metadata": {},
     "output_type": "execute_result"
    }
   ],
   "source": [
    "c.execute('create table fsds(name text, batchid int, marks real)')"
   ]
  },
  {
   "cell_type": "code",
   "execution_count": 11,
   "metadata": {},
   "outputs": [
    {
     "name": "stdout",
     "output_type": "stream",
     "text": [
      " Volume in drive C has no label.\n",
      " Volume Serial Number is CE08-50A1\n",
      "\n",
      " Directory of C:\\Users\\mral\\Mohana Kalaiyarasan_Data Scientist\\FSDS_iNeuron\n",
      "\n",
      "18/09/2022  01:48 PM    <DIR>          .\n",
      "18/09/2022  01:48 PM    <DIR>          ..\n",
      "17/09/2022  05:50 PM    <DIR>          .ipynb_checkpoints\n",
      "21/08/2022  04:27 PM    <DIR>          __pycache__\n",
      "10/08/2022  09:56 PM            69,297 1) Python basic_String_list_Indexing.ipynb\n",
      "16/09/2022  07:25 AM            71,909 10) MongoDB.ipynb\n",
      "17/09/2022  05:49 PM            19,322 10.1) Mongodb exercise.ipynb\n",
      "18/09/2022  01:48 PM             9,992 11) SQL Lite, Map, Reduce, filter, zip.ipynb\n",
      "10/08/2022  10:02 PM            50,566 2) Tuple, Set Dict.ipynb\n",
      "10/08/2022  10:43 PM           226,340 3) 19Dec_Python Prog Discussion.ipynb\n",
      "10/08/2022  10:58 PM            28,649 4) Function_23Dec21.ipynb\n",
      "10/08/2022  11:34 PM            53,772 5) Function_Part2_8Jan22.ipynb\n",
      "10/08/2022  11:55 PM            97,813 6) 9th Jan - Iterator, Generator File System.ipynb\n",
      "14/08/2022  08:32 PM         1,397,957 6.1) Function_Assignment_10Aug2022.ipynb\n",
      "16/08/2022  05:23 PM            28,483 7) Exception Handling.ipynb\n",
      "22/08/2022  02:07 PM             8,701 7.1) Logging.ipynb\n",
      "21/08/2022  04:41 PM            20,334 8) Module and Import.ipynb\n",
      "22/08/2022  02:11 PM            25,214 8.1) OOPS concept.ipynb\n",
      "02/09/2022  09:26 PM            53,704 8.2) OOPS with Module_Packages.ipynb\n",
      "08/09/2022  08:41 PM            44,042 8.3) OOPs with Polymorphism.ipynb\n",
      "06/09/2022  05:32 PM            99,929 9) SQL.ipynb\n",
      "09/09/2022  03:15 PM           448,402 9.1) SQL Day2.ipynb\n",
      "06/09/2022  08:42 PM            51,867 car.data\n",
      "07/09/2022  10:10 AM             3,097 car.names\n",
      "16/09/2022  08:35 PM           628,633 carbon_nanotubes.csv\n",
      "12/07/2021  09:41 AM           147,652 file1.pdf\n",
      "06/09/2022  02:41 PM            11,903 glass.data\n",
      "10/08/2022  06:16 AM             2,332 google.txt\n",
      "27/11/2021  10:00 AM       239,419,577 IMG_7526.MOV\n",
      "18/09/2022  01:44 PM             8,192 ineuron.db\n",
      "18/09/2022  01:47 PM             4,616 ineuron.db-journal\n",
      "21/08/2022  07:28 PM                62 list.log\n",
      "17/08/2022  05:48 PM               230 my_module.py\n",
      "21/08/2022  04:27 PM             3,146 mydict.py\n",
      "13/08/2022  10:45 AM            26,187 mywordfile.docx\n",
      "13/08/2022  02:24 PM             3,649 mywordfile.pdf\n",
      "13/08/2022  02:28 PM                 0 new.pdf\n",
      "13/08/2022  02:29 PM           146,057 newPDF.pdf\n",
      "17/08/2022  05:05 PM             1,519 test\n",
      "16/08/2022  07:51 PM             1,193 test.log\n",
      "17/08/2022  05:08 PM                 0 test1.py\n",
      "21/08/2022  07:34 PM                22 test1.txt\n",
      "16/08/2022  08:13 PM             4,042 test2.log\n",
      "17/08/2022  05:25 PM               262 test2.py\n",
      "22/08/2022  02:08 PM             4,512 test3.log\n",
      "14/08/2022  11:21 PM                 6 text1.txt\n",
      "15/02/2018  08:15 PM           161,227 WIN_20180215_20_15_41_Pro.jpg\n",
      "              43 File(s)    243,384,409 bytes\n",
      "               4 Dir(s)  201,820,950,528 bytes free\n"
     ]
    }
   ],
   "source": [
    "ls"
   ]
  },
  {
   "cell_type": "code",
   "execution_count": 8,
   "metadata": {},
   "outputs": [
    {
     "data": {
      "text/plain": [
       "<sqlite3.Cursor at 0x1a8224bdab0>"
      ]
     },
     "execution_count": 8,
     "metadata": {},
     "output_type": "execute_result"
    }
   ],
   "source": [
    "c.execute('insert into fsds values(\"mohan\", 3456, 4.56)')"
   ]
  },
  {
   "cell_type": "code",
   "execution_count": 10,
   "metadata": {},
   "outputs": [
    {
     "data": {
      "text/plain": [
       "<sqlite3.Cursor at 0x1a8224bdab0>"
      ]
     },
     "execution_count": 10,
     "metadata": {},
     "output_type": "execute_result"
    }
   ],
   "source": [
    "#insert data into db, will create a ineuron.db-journal file (which is a catch file and store the data)\n",
    "c.execute('insert into fsds values(\"mohan\", 3456, 4.56)')\n",
    "c.execute('insert into fsds values(\"mohan\", 3456, 4.56)')\n",
    "c.execute('insert into fsds values(\"mohan\", 3456, 4.56)')\n",
    "c.execute('insert into fsds values(\"mohan\", 3456, 4.56)')\n",
    "c.execute('insert into fsds values(\"mohan\", 3456, 4.56)')\n",
    "c.execute('insert into fsds values(\"mohan\", 3456, 4.56)')\n",
    "c.execute('insert into fsds values(\"mohan\", 3456, 4.56)')\n",
    "c.execute('insert into fsds values(\"mohan\", 3456, 4.56)')"
   ]
  },
  {
   "cell_type": "code",
   "execution_count": 12,
   "metadata": {},
   "outputs": [],
   "source": [
    "data = c.execute(\"select * from fsds\")"
   ]
  },
  {
   "cell_type": "code",
   "execution_count": 13,
   "metadata": {},
   "outputs": [
    {
     "name": "stdout",
     "output_type": "stream",
     "text": [
      "('mohan', 3456, 4.56)\n",
      "('mohan', 3456, 4.56)\n",
      "('mohan', 3456, 4.56)\n",
      "('mohan', 3456, 4.56)\n",
      "('mohan', 3456, 4.56)\n",
      "('mohan', 3456, 4.56)\n",
      "('mohan', 3456, 4.56)\n",
      "('mohan', 3456, 4.56)\n",
      "('mohan', 3456, 4.56)\n"
     ]
    }
   ],
   "source": [
    "for i in data:\n",
    "    print(i)"
   ]
  },
  {
   "cell_type": "code",
   "execution_count": 14,
   "metadata": {},
   "outputs": [],
   "source": [
    "#store data\n",
    "db.commit()"
   ]
  },
  {
   "cell_type": "code",
   "execution_count": 15,
   "metadata": {},
   "outputs": [],
   "source": [
    "#close the database, upon closed the journal file also closed.\n",
    "db.close()"
   ]
  },
  {
   "cell_type": "code",
   "execution_count": 16,
   "metadata": {},
   "outputs": [
    {
     "name": "stdout",
     "output_type": "stream",
     "text": [
      " Volume in drive C has no label.\n",
      " Volume Serial Number is CE08-50A1\n",
      "\n",
      " Directory of C:\\Users\\mral\\Mohana Kalaiyarasan_Data Scientist\\FSDS_iNeuron\n",
      "\n",
      "18/09/2022  01:52 PM    <DIR>          .\n",
      "18/09/2022  01:52 PM    <DIR>          ..\n",
      "17/09/2022  05:50 PM    <DIR>          .ipynb_checkpoints\n",
      "21/08/2022  04:27 PM    <DIR>          __pycache__\n",
      "10/08/2022  09:56 PM            69,297 1) Python basic_String_list_Indexing.ipynb\n",
      "16/09/2022  07:25 AM            71,909 10) MongoDB.ipynb\n",
      "17/09/2022  05:49 PM            19,322 10.1) Mongodb exercise.ipynb\n",
      "18/09/2022  01:52 PM            11,901 11) SQL Lite, Map, Reduce, filter, zip.ipynb\n",
      "10/08/2022  10:02 PM            50,566 2) Tuple, Set Dict.ipynb\n",
      "10/08/2022  10:43 PM           226,340 3) 19Dec_Python Prog Discussion.ipynb\n",
      "10/08/2022  10:58 PM            28,649 4) Function_23Dec21.ipynb\n",
      "10/08/2022  11:34 PM            53,772 5) Function_Part2_8Jan22.ipynb\n",
      "10/08/2022  11:55 PM            97,813 6) 9th Jan - Iterator, Generator File System.ipynb\n",
      "14/08/2022  08:32 PM         1,397,957 6.1) Function_Assignment_10Aug2022.ipynb\n",
      "16/08/2022  05:23 PM            28,483 7) Exception Handling.ipynb\n",
      "22/08/2022  02:07 PM             8,701 7.1) Logging.ipynb\n",
      "21/08/2022  04:41 PM            20,334 8) Module and Import.ipynb\n",
      "22/08/2022  02:11 PM            25,214 8.1) OOPS concept.ipynb\n",
      "02/09/2022  09:26 PM            53,704 8.2) OOPS with Module_Packages.ipynb\n",
      "08/09/2022  08:41 PM            44,042 8.3) OOPs with Polymorphism.ipynb\n",
      "06/09/2022  05:32 PM            99,929 9) SQL.ipynb\n",
      "09/09/2022  03:15 PM           448,402 9.1) SQL Day2.ipynb\n",
      "06/09/2022  08:42 PM            51,867 car.data\n",
      "07/09/2022  10:10 AM             3,097 car.names\n",
      "16/09/2022  08:35 PM           628,633 carbon_nanotubes.csv\n",
      "12/07/2021  09:41 AM           147,652 file1.pdf\n",
      "06/09/2022  02:41 PM            11,903 glass.data\n",
      "10/08/2022  06:16 AM             2,332 google.txt\n",
      "27/11/2021  10:00 AM       239,419,577 IMG_7526.MOV\n",
      "18/09/2022  01:51 PM             8,192 ineuron.db\n",
      "21/08/2022  07:28 PM                62 list.log\n",
      "17/08/2022  05:48 PM               230 my_module.py\n",
      "21/08/2022  04:27 PM             3,146 mydict.py\n",
      "13/08/2022  10:45 AM            26,187 mywordfile.docx\n",
      "13/08/2022  02:24 PM             3,649 mywordfile.pdf\n",
      "13/08/2022  02:28 PM                 0 new.pdf\n",
      "13/08/2022  02:29 PM           146,057 newPDF.pdf\n",
      "17/08/2022  05:05 PM             1,519 test\n",
      "16/08/2022  07:51 PM             1,193 test.log\n",
      "17/08/2022  05:08 PM                 0 test1.py\n",
      "21/08/2022  07:34 PM                22 test1.txt\n",
      "16/08/2022  08:13 PM             4,042 test2.log\n",
      "17/08/2022  05:25 PM               262 test2.py\n",
      "22/08/2022  02:08 PM             4,512 test3.log\n",
      "14/08/2022  11:21 PM                 6 text1.txt\n",
      "15/02/2018  08:15 PM           161,227 WIN_20180215_20_15_41_Pro.jpg\n",
      "              42 File(s)    243,381,702 bytes\n",
      "               4 Dir(s)  201,824,047,104 bytes free\n"
     ]
    }
   ],
   "source": [
    "ls"
   ]
  },
  {
   "cell_type": "code",
   "execution_count": 17,
   "metadata": {},
   "outputs": [],
   "source": [
    "#again connected to the database\n",
    "db = sq.connect(\"ineuron.db\")"
   ]
  },
  {
   "cell_type": "code",
   "execution_count": 18,
   "metadata": {},
   "outputs": [],
   "source": [
    "c = db.cursor()"
   ]
  },
  {
   "cell_type": "code",
   "execution_count": 19,
   "metadata": {},
   "outputs": [],
   "source": [
    "data = c.execute(\"select * from fsds where marks >4\")"
   ]
  },
  {
   "cell_type": "code",
   "execution_count": 20,
   "metadata": {},
   "outputs": [
    {
     "name": "stdout",
     "output_type": "stream",
     "text": [
      "('mohan', 3456, 4.56)\n",
      "('mohan', 3456, 4.56)\n",
      "('mohan', 3456, 4.56)\n",
      "('mohan', 3456, 4.56)\n",
      "('mohan', 3456, 4.56)\n",
      "('mohan', 3456, 4.56)\n",
      "('mohan', 3456, 4.56)\n",
      "('mohan', 3456, 4.56)\n",
      "('mohan', 3456, 4.56)\n"
     ]
    }
   ],
   "source": [
    "for i in data:\n",
    "    print(i)"
   ]
  },
  {
   "cell_type": "code",
   "execution_count": 22,
   "metadata": {},
   "outputs": [],
   "source": [
    "data = c.execute(\"select * from fsds where name ='mohan'\")"
   ]
  },
  {
   "cell_type": "code",
   "execution_count": 23,
   "metadata": {},
   "outputs": [
    {
     "name": "stdout",
     "output_type": "stream",
     "text": [
      "('mohan', 3456, 4.56)\n",
      "('mohan', 3456, 4.56)\n",
      "('mohan', 3456, 4.56)\n",
      "('mohan', 3456, 4.56)\n",
      "('mohan', 3456, 4.56)\n",
      "('mohan', 3456, 4.56)\n",
      "('mohan', 3456, 4.56)\n",
      "('mohan', 3456, 4.56)\n",
      "('mohan', 3456, 4.56)\n"
     ]
    }
   ],
   "source": [
    "for i in data:\n",
    "    print(i)"
   ]
  },
  {
   "cell_type": "code",
   "execution_count": 24,
   "metadata": {},
   "outputs": [
    {
     "name": "stdout",
     "output_type": "stream",
     "text": [
      "('mohan', 4.56)\n",
      "('mohan', 4.56)\n",
      "('mohan', 4.56)\n",
      "('mohan', 4.56)\n",
      "('mohan', 4.56)\n",
      "('mohan', 4.56)\n",
      "('mohan', 4.56)\n",
      "('mohan', 4.56)\n",
      "('mohan', 4.56)\n"
     ]
    }
   ],
   "source": [
    "data = c. execute('select name, marks from fsds')\n",
    "for i in data:\n",
    "    print(i)"
   ]
  },
  {
   "cell_type": "code",
   "execution_count": 25,
   "metadata": {},
   "outputs": [],
   "source": [
    "db.close()"
   ]
  },
  {
   "cell_type": "code",
   "execution_count": 26,
   "metadata": {},
   "outputs": [],
   "source": [
    "db = sq.connect(\"person.db\")"
   ]
  },
  {
   "cell_type": "code",
   "execution_count": 27,
   "metadata": {},
   "outputs": [],
   "source": [
    "c = db.cursor()"
   ]
  },
  {
   "cell_type": "code",
   "execution_count": 28,
   "metadata": {},
   "outputs": [
    {
     "data": {
      "text/plain": [
       "<sqlite3.Cursor at 0x1a822607f80>"
      ]
     },
     "execution_count": 28,
     "metadata": {},
     "output_type": "execute_result"
    }
   ],
   "source": [
    "c.execute(\"create table person_table (name text, emailid text, age int, salary real)\")"
   ]
  },
  {
   "cell_type": "code",
   "execution_count": 31,
   "metadata": {},
   "outputs": [
    {
     "data": {
      "text/plain": [
       "<sqlite3.Cursor at 0x1a822607f80>"
      ]
     },
     "execution_count": 31,
     "metadata": {},
     "output_type": "execute_result"
    }
   ],
   "source": [
    "c.execute(\"insert into person_table values('mohan', 'asdd@gmail.com', 23, 23455)\")\n",
    "c.execute(\"insert into person_table values ('prasad', 'pras@gmail.com', 25, 243423)\")\n",
    "c.execute(\"insert into person_table values ('krish', 'krishgmail.com', 32, 2345340)\")\n",
    "c.execute(\"insert into person_table values('sunny', 'sunny@gmail.com', 27, 4235235)\")"
   ]
  },
  {
   "cell_type": "code",
   "execution_count": 34,
   "metadata": {},
   "outputs": [
    {
     "name": "stdout",
     "output_type": "stream",
     "text": [
      "('mohan', 'asdd@gmail.com', 23, 23455.0)\n",
      "('prasad', 'pras@gmail.com', 25, 243423.0)\n",
      "('krish', 'krishgmail.com', 32, 2345340.0)\n",
      "('mohan', 'asdd@gmail.com', 23, 23455.0)\n",
      "('prasad', 'pras@gmail.com', 25, 243423.0)\n",
      "('krish', 'krishgmail.com', 32, 2345340.0)\n",
      "('sunny', 'sunny@gmail.com', 27, 4235235.0)\n"
     ]
    }
   ],
   "source": [
    "data = c.execute(\"select * from person_table\")\n",
    "for i in data:\n",
    "    print(i)"
   ]
  },
  {
   "cell_type": "code",
   "execution_count": 35,
   "metadata": {},
   "outputs": [
    {
     "name": "stdout",
     "output_type": "stream",
     "text": [
      " Volume in drive C has no label.\n",
      " Volume Serial Number is CE08-50A1\n",
      "\n",
      " Directory of C:\\Users\\mral\\Mohana Kalaiyarasan_Data Scientist\\FSDS_iNeuron\n",
      "\n",
      "18/09/2022  02:10 PM    <DIR>          .\n",
      "18/09/2022  02:10 PM    <DIR>          ..\n",
      "17/09/2022  05:50 PM    <DIR>          .ipynb_checkpoints\n",
      "21/08/2022  04:27 PM    <DIR>          __pycache__\n",
      "10/08/2022  09:56 PM            69,297 1) Python basic_String_list_Indexing.ipynb\n",
      "16/09/2022  07:25 AM            71,909 10) MongoDB.ipynb\n",
      "17/09/2022  05:49 PM            19,322 10.1) Mongodb exercise.ipynb\n",
      "18/09/2022  02:10 PM            20,372 11) SQL Lite, Map, Reduce, filter, zip.ipynb\n",
      "10/08/2022  10:02 PM            50,566 2) Tuple, Set Dict.ipynb\n",
      "10/08/2022  10:43 PM           226,340 3) 19Dec_Python Prog Discussion.ipynb\n",
      "10/08/2022  10:58 PM            28,649 4) Function_23Dec21.ipynb\n",
      "10/08/2022  11:34 PM            53,772 5) Function_Part2_8Jan22.ipynb\n",
      "10/08/2022  11:55 PM            97,813 6) 9th Jan - Iterator, Generator File System.ipynb\n",
      "14/08/2022  08:32 PM         1,397,957 6.1) Function_Assignment_10Aug2022.ipynb\n",
      "16/08/2022  05:23 PM            28,483 7) Exception Handling.ipynb\n",
      "22/08/2022  02:07 PM             8,701 7.1) Logging.ipynb\n",
      "21/08/2022  04:41 PM            20,334 8) Module and Import.ipynb\n",
      "22/08/2022  02:11 PM            25,214 8.1) OOPS concept.ipynb\n",
      "02/09/2022  09:26 PM            53,704 8.2) OOPS with Module_Packages.ipynb\n",
      "08/09/2022  08:41 PM            44,042 8.3) OOPs with Polymorphism.ipynb\n",
      "06/09/2022  05:32 PM            99,929 9) SQL.ipynb\n",
      "09/09/2022  03:15 PM           448,402 9.1) SQL Day2.ipynb\n",
      "06/09/2022  08:42 PM            51,867 car.data\n",
      "07/09/2022  10:10 AM             3,097 car.names\n",
      "16/09/2022  08:35 PM           628,633 carbon_nanotubes.csv\n",
      "12/07/2021  09:41 AM           147,652 file1.pdf\n",
      "06/09/2022  02:41 PM            11,903 glass.data\n",
      "10/08/2022  06:16 AM             2,332 google.txt\n",
      "27/11/2021  10:00 AM       239,419,577 IMG_7526.MOV\n",
      "18/09/2022  01:51 PM             8,192 ineuron.db\n",
      "21/08/2022  07:28 PM                62 list.log\n",
      "17/08/2022  05:48 PM               230 my_module.py\n",
      "21/08/2022  04:27 PM             3,146 mydict.py\n",
      "13/08/2022  10:45 AM            26,187 mywordfile.docx\n",
      "13/08/2022  02:24 PM             3,649 mywordfile.pdf\n",
      "13/08/2022  02:28 PM                 0 new.pdf\n",
      "13/08/2022  02:29 PM           146,057 newPDF.pdf\n",
      "18/09/2022  02:02 PM             8,192 person.db\n",
      "18/09/2022  02:07 PM             4,616 person.db-journal\n",
      "17/08/2022  05:05 PM             1,519 test\n",
      "16/08/2022  07:51 PM             1,193 test.log\n",
      "17/08/2022  05:08 PM                 0 test1.py\n",
      "21/08/2022  07:34 PM                22 test1.txt\n",
      "16/08/2022  08:13 PM             4,042 test2.log\n",
      "17/08/2022  05:25 PM               262 test2.py\n",
      "22/08/2022  02:08 PM             4,512 test3.log\n",
      "14/08/2022  11:21 PM                 6 text1.txt\n",
      "15/02/2018  08:15 PM           161,227 WIN_20180215_20_15_41_Pro.jpg\n",
      "              44 File(s)    243,402,981 bytes\n",
      "               4 Dir(s)  201,821,962,240 bytes free\n"
     ]
    }
   ],
   "source": [
    "ls"
   ]
  },
  {
   "cell_type": "code",
   "execution_count": 36,
   "metadata": {},
   "outputs": [],
   "source": [
    "db.commit()"
   ]
  },
  {
   "cell_type": "code",
   "execution_count": 37,
   "metadata": {},
   "outputs": [],
   "source": [
    "db.close()"
   ]
  },
  {
   "cell_type": "code",
   "execution_count": 38,
   "metadata": {},
   "outputs": [],
   "source": [
    "#connect again i=on db\n",
    "db = sq.connect('ineuron.db')"
   ]
  },
  {
   "cell_type": "code",
   "execution_count": 39,
   "metadata": {},
   "outputs": [],
   "source": [
    "c = db.cursor()"
   ]
  },
  {
   "cell_type": "code",
   "execution_count": 40,
   "metadata": {},
   "outputs": [
    {
     "data": {
      "text/plain": [
       "<sqlite3.Cursor at 0x1a8231cdea0>"
      ]
     },
     "execution_count": 40,
     "metadata": {},
     "output_type": "execute_result"
    }
   ],
   "source": [
    "#drop the table\n",
    "c.execute('drop table fsds')"
   ]
  },
  {
   "cell_type": "code",
   "execution_count": 41,
   "metadata": {},
   "outputs": [
    {
     "ename": "OperationalError",
     "evalue": "no such table: fsds",
     "output_type": "error",
     "traceback": [
      "\u001b[1;31m---------------------------------------------------------------------------\u001b[0m",
      "\u001b[1;31mOperationalError\u001b[0m                          Traceback (most recent call last)",
      "\u001b[1;32m<ipython-input-41-85481486bd85>\u001b[0m in \u001b[0;36m<module>\u001b[1;34m\u001b[0m\n\u001b[1;32m----> 1\u001b[1;33m \u001b[0mc\u001b[0m\u001b[1;33m.\u001b[0m\u001b[0mexecute\u001b[0m\u001b[1;33m(\u001b[0m\u001b[1;34m\"select * from fsds\"\u001b[0m\u001b[1;33m)\u001b[0m\u001b[1;33m\u001b[0m\u001b[1;33m\u001b[0m\u001b[0m\n\u001b[0m",
      "\u001b[1;31mOperationalError\u001b[0m: no such table: fsds"
     ]
    }
   ],
   "source": [
    "c.execute(\"select * from fsds\")"
   ]
  },
  {
   "cell_type": "code",
   "execution_count": 42,
   "metadata": {},
   "outputs": [
    {
     "name": "stdout",
     "output_type": "stream",
     "text": [
      " Volume in drive C has no label.\n",
      " Volume Serial Number is CE08-50A1\n",
      "\n",
      " Directory of C:\\Users\\mral\\Mohana Kalaiyarasan_Data Scientist\\FSDS_iNeuron\n",
      "\n",
      "18/09/2022  02:12 PM    <DIR>          .\n",
      "18/09/2022  02:12 PM    <DIR>          ..\n",
      "17/09/2022  05:50 PM    <DIR>          .ipynb_checkpoints\n",
      "21/08/2022  04:27 PM    <DIR>          __pycache__\n",
      "10/08/2022  09:56 PM            69,297 1) Python basic_String_list_Indexing.ipynb\n",
      "16/09/2022  07:25 AM            71,909 10) MongoDB.ipynb\n",
      "17/09/2022  05:49 PM            19,322 10.1) Mongodb exercise.ipynb\n",
      "18/09/2022  02:12 PM            24,776 11) SQL Lite, Map, Reduce, filter, zip.ipynb\n",
      "10/08/2022  10:02 PM            50,566 2) Tuple, Set Dict.ipynb\n",
      "10/08/2022  10:43 PM           226,340 3) 19Dec_Python Prog Discussion.ipynb\n",
      "10/08/2022  10:58 PM            28,649 4) Function_23Dec21.ipynb\n",
      "10/08/2022  11:34 PM            53,772 5) Function_Part2_8Jan22.ipynb\n",
      "10/08/2022  11:55 PM            97,813 6) 9th Jan - Iterator, Generator File System.ipynb\n",
      "14/08/2022  08:32 PM         1,397,957 6.1) Function_Assignment_10Aug2022.ipynb\n",
      "16/08/2022  05:23 PM            28,483 7) Exception Handling.ipynb\n",
      "22/08/2022  02:07 PM             8,701 7.1) Logging.ipynb\n",
      "21/08/2022  04:41 PM            20,334 8) Module and Import.ipynb\n",
      "22/08/2022  02:11 PM            25,214 8.1) OOPS concept.ipynb\n",
      "02/09/2022  09:26 PM            53,704 8.2) OOPS with Module_Packages.ipynb\n",
      "08/09/2022  08:41 PM            44,042 8.3) OOPs with Polymorphism.ipynb\n",
      "06/09/2022  05:32 PM            99,929 9) SQL.ipynb\n",
      "09/09/2022  03:15 PM           448,402 9.1) SQL Day2.ipynb\n",
      "06/09/2022  08:42 PM            51,867 car.data\n",
      "07/09/2022  10:10 AM             3,097 car.names\n",
      "16/09/2022  08:35 PM           628,633 carbon_nanotubes.csv\n",
      "12/07/2021  09:41 AM           147,652 file1.pdf\n",
      "06/09/2022  02:41 PM            11,903 glass.data\n",
      "10/08/2022  06:16 AM             2,332 google.txt\n",
      "27/11/2021  10:00 AM       239,419,577 IMG_7526.MOV\n",
      "18/09/2022  02:12 PM             8,192 ineuron.db\n",
      "21/08/2022  07:28 PM                62 list.log\n",
      "17/08/2022  05:48 PM               230 my_module.py\n",
      "21/08/2022  04:27 PM             3,146 mydict.py\n",
      "13/08/2022  10:45 AM            26,187 mywordfile.docx\n",
      "13/08/2022  02:24 PM             3,649 mywordfile.pdf\n",
      "13/08/2022  02:28 PM                 0 new.pdf\n",
      "13/08/2022  02:29 PM           146,057 newPDF.pdf\n",
      "18/09/2022  02:11 PM             8,192 person.db\n",
      "17/08/2022  05:05 PM             1,519 test\n",
      "16/08/2022  07:51 PM             1,193 test.log\n",
      "17/08/2022  05:08 PM                 0 test1.py\n",
      "21/08/2022  07:34 PM                22 test1.txt\n",
      "16/08/2022  08:13 PM             4,042 test2.log\n",
      "17/08/2022  05:25 PM               262 test2.py\n",
      "22/08/2022  02:08 PM             4,512 test3.log\n",
      "14/08/2022  11:21 PM                 6 text1.txt\n",
      "15/02/2018  08:15 PM           161,227 WIN_20180215_20_15_41_Pro.jpg\n",
      "              43 File(s)    243,402,769 bytes\n",
      "               4 Dir(s)  201,821,093,888 bytes free\n"
     ]
    }
   ],
   "source": [
    "ls"
   ]
  },
  {
   "cell_type": "code",
   "execution_count": 43,
   "metadata": {},
   "outputs": [],
   "source": [
    "db.close()"
   ]
  },
  {
   "cell_type": "code",
   "execution_count": 44,
   "metadata": {},
   "outputs": [],
   "source": [
    "db = sq.connect('person.db')"
   ]
  },
  {
   "cell_type": "code",
   "execution_count": 45,
   "metadata": {},
   "outputs": [],
   "source": [
    "c = db.cursor()"
   ]
  },
  {
   "cell_type": "code",
   "execution_count": 46,
   "metadata": {},
   "outputs": [
    {
     "name": "stdout",
     "output_type": "stream",
     "text": [
      "('mohan', 'asdd@gmail.com', 23, 23455.0)\n",
      "('prasad', 'pras@gmail.com', 25, 243423.0)\n"
     ]
    }
   ],
   "source": [
    "data = c.execute(\"select * from person_table limit 2\")\n",
    "for i in data:\n",
    "    print(i)"
   ]
  },
  {
   "cell_type": "code",
   "execution_count": 48,
   "metadata": {},
   "outputs": [],
   "source": [
    "#SQL joint operation, venn diagram requires 2 tables\n",
    "db.close()\n",
    "\n"
   ]
  },
  {
   "cell_type": "code",
   "execution_count": 49,
   "metadata": {},
   "outputs": [],
   "source": [
    "db = sq.connect('joindb.db')"
   ]
  },
  {
   "cell_type": "code",
   "execution_count": 50,
   "metadata": {},
   "outputs": [],
   "source": [
    "c = db.cursor()"
   ]
  },
  {
   "cell_type": "code",
   "execution_count": 51,
   "metadata": {},
   "outputs": [
    {
     "data": {
      "text/plain": [
       "<sqlite3.Cursor at 0x1a8231cd110>"
      ]
     },
     "execution_count": 51,
     "metadata": {},
     "output_type": "execute_result"
    }
   ],
   "source": [
    "c.execute('create table student(student_id int, student_name text, student_mailid text, marks int)')"
   ]
  },
  {
   "cell_type": "code",
   "execution_count": 52,
   "metadata": {},
   "outputs": [
    {
     "data": {
      "text/plain": [
       "<sqlite3.Cursor at 0x1a8231cd110>"
      ]
     },
     "execution_count": 52,
     "metadata": {},
     "output_type": "execute_result"
    }
   ],
   "source": [
    "c.execute('create table address(student_id int, pincode int, location text, nearby text, phone_no int)')"
   ]
  },
  {
   "cell_type": "code",
   "execution_count": 68,
   "metadata": {},
   "outputs": [
    {
     "data": {
      "text/plain": [
       "<sqlite3.Cursor at 0x1a8231cd110>"
      ]
     },
     "execution_count": 68,
     "metadata": {},
     "output_type": "execute_result"
    }
   ],
   "source": [
    "c.execute('insert into student values(234, \"mohan\", \"moan@gmail.com\", 85)')\n",
    "c.execute('insert into student values(235, \"mohan\", \"moan@gmail.com\", 85)')\n",
    "c.execute('insert into student values(236, \"mohan\", \"moan@gmail.com\", 85)')\n",
    "c.execute('insert into student values(237, \"mohan\", \"moan@gmail.com\", 85)')\n",
    "c.execute('insert into student values(238, \"mohan\", \"moan@gmail.com\", 85)')\n",
    "c.execute('insert into student values(239, \"mohan\", \"moan@gmail.com\", 85)')\n",
    "c.execute('insert into student values(23440, \"mohan\", \"moan@gmail.com\", 85)')\n",
    "c.execute('insert into student values(24132, \"mohan\", \"moan@gmail.com\", 85)')\n",
    "c.execute('insert into student values(23223, \"mohan\", \"moan@gmail.com\", 85)')"
   ]
  },
  {
   "cell_type": "code",
   "execution_count": 69,
   "metadata": {},
   "outputs": [
    {
     "data": {
      "text/plain": [
       "<sqlite3.Cursor at 0x1a8231cd110>"
      ]
     },
     "execution_count": 69,
     "metadata": {},
     "output_type": "execute_result"
    }
   ],
   "source": [
    "c.execute(\"insert into address values(234, 730223, 'singaproe', 'school', 85858282)\")\n",
    "c.execute(\"insert into address values(235, 730223, 'singaproe', 'school', 85858282)\")\n",
    "c.execute(\"insert into address values(236, 730223, 'singaproe', 'school', 85858282)\")\n",
    "c.execute(\"insert into address values(2327, 730223, 'singaproe', 'school', 85858282)\")\n",
    "c.execute(\"insert into address values(2383, 730223, 'singaproe', 'school', 85858282)\")\n",
    "c.execute(\"insert into address values(2393, 730223, 'singaproe', 'school', 85858282)\")\n",
    "c.execute(\"insert into address values(240, 730223, 'singaproe', 'school', 85858282)\")\n",
    "c.execute(\"insert into address values(241, 730223, 'singaproe', 'school', 85858282)\")\n",
    "c.execute(\"insert into address values(232, 730223, 'singaproe', 'school', 85858282)\")"
   ]
  },
  {
   "cell_type": "code",
   "execution_count": 70,
   "metadata": {},
   "outputs": [
    {
     "name": "stdout",
     "output_type": "stream",
     "text": [
      "(234, 'mohan', 'moan@gmail.com', 85)\n",
      "(234, 'mohan', 'moan@gmail.com', 85)\n",
      "(234, 'mohan', 'moan@gmail.com', 85)\n",
      "(234, 'mohan', 'moan@gmail.com', 85)\n",
      "(234, 'mohan', 'moan@gmail.com', 85)\n",
      "(234, 'mohan', 'moan@gmail.com', 85)\n",
      "(234, 'mohan', 'moan@gmail.com', 85)\n",
      "(234, 'mohan', 'moan@gmail.com', 85)\n",
      "(234, 'mohan', 'moan@gmail.com', 85)\n",
      "(234, 'mohan', 'moan@gmail.com', 85)\n",
      "(234, 'mohan', 'moan@gmail.com', 85)\n",
      "(235, 'mohan', 'moan@gmail.com', 85)\n",
      "(236, 'mohan', 'moan@gmail.com', 85)\n",
      "(237, 'mohan', 'moan@gmail.com', 85)\n",
      "(238, 'mohan', 'moan@gmail.com', 85)\n",
      "(239, 'mohan', 'moan@gmail.com', 85)\n",
      "(240, 'mohan', 'moan@gmail.com', 85)\n",
      "(241, 'mohan', 'moan@gmail.com', 85)\n",
      "(232, 'mohan', 'moan@gmail.com', 85)\n",
      "(234, 'mohan', 'moan@gmail.com', 85)\n",
      "(235, 'mohan', 'moan@gmail.com', 85)\n",
      "(236, 'mohan', 'moan@gmail.com', 85)\n",
      "(237, 'mohan', 'moan@gmail.com', 85)\n",
      "(238, 'mohan', 'moan@gmail.com', 85)\n",
      "(239, 'mohan', 'moan@gmail.com', 85)\n",
      "(23440, 'mohan', 'moan@gmail.com', 85)\n",
      "(24132, 'mohan', 'moan@gmail.com', 85)\n",
      "(23223, 'mohan', 'moan@gmail.com', 85)\n"
     ]
    }
   ],
   "source": [
    "for i in c.execute(\"select * from student\"):\n",
    "    print(i)"
   ]
  },
  {
   "cell_type": "code",
   "execution_count": 71,
   "metadata": {},
   "outputs": [
    {
     "name": "stdout",
     "output_type": "stream",
     "text": [
      "(234, 730223, 'singaproe', 'school', 85858282)\n",
      "(235, 730223, 'singaproe', 'school', 85858282)\n",
      "(236, 730223, 'singaproe', 'school', 85858282)\n",
      "(237, 730223, 'singaproe', 'school', 85858282)\n",
      "(238, 730223, 'singaproe', 'school', 85858282)\n",
      "(239, 730223, 'singaproe', 'school', 85858282)\n",
      "(240, 730223, 'singaproe', 'school', 85858282)\n",
      "(241, 730223, 'singaproe', 'school', 85858282)\n",
      "(232, 730223, 'singaproe', 'school', 85858282)\n",
      "(234, 730223, 'singaproe', 'school', 85858282)\n",
      "(235, 730223, 'singaproe', 'school', 85858282)\n",
      "(236, 730223, 'singaproe', 'school', 85858282)\n",
      "(2327, 730223, 'singaproe', 'school', 85858282)\n",
      "(2383, 730223, 'singaproe', 'school', 85858282)\n",
      "(2393, 730223, 'singaproe', 'school', 85858282)\n",
      "(240, 730223, 'singaproe', 'school', 85858282)\n",
      "(241, 730223, 'singaproe', 'school', 85858282)\n",
      "(232, 730223, 'singaproe', 'school', 85858282)\n",
      "(234, 730223, 'singaproe', 'school', 85858282)\n",
      "(235, 730223, 'singaproe', 'school', 85858282)\n",
      "(236, 730223, 'singaproe', 'school', 85858282)\n",
      "(2327, 730223, 'singaproe', 'school', 85858282)\n",
      "(2383, 730223, 'singaproe', 'school', 85858282)\n",
      "(2393, 730223, 'singaproe', 'school', 85858282)\n",
      "(240, 730223, 'singaproe', 'school', 85858282)\n",
      "(241, 730223, 'singaproe', 'school', 85858282)\n",
      "(232, 730223, 'singaproe', 'school', 85858282)\n"
     ]
    }
   ],
   "source": [
    "for i in c.execute(\"select * from address\"):\n",
    "    print(i)"
   ]
  },
  {
   "cell_type": "code",
   "execution_count": 74,
   "metadata": {},
   "outputs": [],
   "source": [
    "#left joins, give all the record from student table and corresponding in address table\n",
    "data = c.execute(\"select *from student s left join address a on s.student_id = a.student_id where a.student_id is not null\")"
   ]
  },
  {
   "cell_type": "raw",
   "metadata": {},
   "source": [
    "data = c.execute(\"select *from student s (aliases s) left join address a (aliases s) on s.student_id = a.student_id where a.student_id is not null\")"
   ]
  },
  {
   "cell_type": "code",
   "execution_count": 75,
   "metadata": {},
   "outputs": [
    {
     "name": "stdout",
     "output_type": "stream",
     "text": [
      "(234, 'mohan', 'moan@gmail.com', 85, 234, 730223, 'singaproe', 'school', 85858282)\n",
      "(234, 'mohan', 'moan@gmail.com', 85, 234, 730223, 'singaproe', 'school', 85858282)\n",
      "(234, 'mohan', 'moan@gmail.com', 85, 234, 730223, 'singaproe', 'school', 85858282)\n",
      "(234, 'mohan', 'moan@gmail.com', 85, 234, 730223, 'singaproe', 'school', 85858282)\n",
      "(234, 'mohan', 'moan@gmail.com', 85, 234, 730223, 'singaproe', 'school', 85858282)\n",
      "(234, 'mohan', 'moan@gmail.com', 85, 234, 730223, 'singaproe', 'school', 85858282)\n",
      "(234, 'mohan', 'moan@gmail.com', 85, 234, 730223, 'singaproe', 'school', 85858282)\n",
      "(234, 'mohan', 'moan@gmail.com', 85, 234, 730223, 'singaproe', 'school', 85858282)\n",
      "(234, 'mohan', 'moan@gmail.com', 85, 234, 730223, 'singaproe', 'school', 85858282)\n",
      "(234, 'mohan', 'moan@gmail.com', 85, 234, 730223, 'singaproe', 'school', 85858282)\n",
      "(234, 'mohan', 'moan@gmail.com', 85, 234, 730223, 'singaproe', 'school', 85858282)\n",
      "(234, 'mohan', 'moan@gmail.com', 85, 234, 730223, 'singaproe', 'school', 85858282)\n",
      "(235, 'mohan', 'moan@gmail.com', 85, 235, 730223, 'singaproe', 'school', 85858282)\n",
      "(235, 'mohan', 'moan@gmail.com', 85, 235, 730223, 'singaproe', 'school', 85858282)\n",
      "(236, 'mohan', 'moan@gmail.com', 85, 236, 730223, 'singaproe', 'school', 85858282)\n",
      "(236, 'mohan', 'moan@gmail.com', 85, 236, 730223, 'singaproe', 'school', 85858282)\n",
      "(237, 'mohan', 'moan@gmail.com', 85, 237, 730223, 'singaproe', 'school', 85858282)\n",
      "(237, 'mohan', 'moan@gmail.com', 85, 237, 730223, 'singaproe', 'school', 85858282)\n",
      "(238, 'mohan', 'moan@gmail.com', 85, 238, 730223, 'singaproe', 'school', 85858282)\n",
      "(238, 'mohan', 'moan@gmail.com', 85, 238, 730223, 'singaproe', 'school', 85858282)\n",
      "(239, 'mohan', 'moan@gmail.com', 85, 239, 730223, 'singaproe', 'school', 85858282)\n",
      "(239, 'mohan', 'moan@gmail.com', 85, 239, 730223, 'singaproe', 'school', 85858282)\n",
      "(240, 'mohan', 'moan@gmail.com', 85, 240, 730223, 'singaproe', 'school', 85858282)\n",
      "(241, 'mohan', 'moan@gmail.com', 85, 241, 730223, 'singaproe', 'school', 85858282)\n",
      "(232, 'mohan', 'moan@gmail.com', 85, 232, 730223, 'singaproe', 'school', 85858282)\n",
      "(234, 'mohan', 'moan@gmail.com', 85, 234, 730223, 'singaproe', 'school', 85858282)\n",
      "(234, 'mohan', 'moan@gmail.com', 85, 234, 730223, 'singaproe', 'school', 85858282)\n",
      "(234, 'mohan', 'moan@gmail.com', 85, 234, 730223, 'singaproe', 'school', 85858282)\n",
      "(234, 'mohan', 'moan@gmail.com', 85, 234, 730223, 'singaproe', 'school', 85858282)\n",
      "(234, 'mohan', 'moan@gmail.com', 85, 234, 730223, 'singaproe', 'school', 85858282)\n",
      "(234, 'mohan', 'moan@gmail.com', 85, 234, 730223, 'singaproe', 'school', 85858282)\n",
      "(234, 'mohan', 'moan@gmail.com', 85, 234, 730223, 'singaproe', 'school', 85858282)\n",
      "(234, 'mohan', 'moan@gmail.com', 85, 234, 730223, 'singaproe', 'school', 85858282)\n",
      "(234, 'mohan', 'moan@gmail.com', 85, 234, 730223, 'singaproe', 'school', 85858282)\n",
      "(234, 'mohan', 'moan@gmail.com', 85, 234, 730223, 'singaproe', 'school', 85858282)\n",
      "(234, 'mohan', 'moan@gmail.com', 85, 234, 730223, 'singaproe', 'school', 85858282)\n",
      "(234, 'mohan', 'moan@gmail.com', 85, 234, 730223, 'singaproe', 'school', 85858282)\n",
      "(235, 'mohan', 'moan@gmail.com', 85, 235, 730223, 'singaproe', 'school', 85858282)\n",
      "(235, 'mohan', 'moan@gmail.com', 85, 235, 730223, 'singaproe', 'school', 85858282)\n",
      "(236, 'mohan', 'moan@gmail.com', 85, 236, 730223, 'singaproe', 'school', 85858282)\n",
      "(236, 'mohan', 'moan@gmail.com', 85, 236, 730223, 'singaproe', 'school', 85858282)\n",
      "(240, 'mohan', 'moan@gmail.com', 85, 240, 730223, 'singaproe', 'school', 85858282)\n",
      "(241, 'mohan', 'moan@gmail.com', 85, 241, 730223, 'singaproe', 'school', 85858282)\n",
      "(232, 'mohan', 'moan@gmail.com', 85, 232, 730223, 'singaproe', 'school', 85858282)\n",
      "(234, 'mohan', 'moan@gmail.com', 85, 234, 730223, 'singaproe', 'school', 85858282)\n",
      "(234, 'mohan', 'moan@gmail.com', 85, 234, 730223, 'singaproe', 'school', 85858282)\n",
      "(234, 'mohan', 'moan@gmail.com', 85, 234, 730223, 'singaproe', 'school', 85858282)\n",
      "(234, 'mohan', 'moan@gmail.com', 85, 234, 730223, 'singaproe', 'school', 85858282)\n",
      "(234, 'mohan', 'moan@gmail.com', 85, 234, 730223, 'singaproe', 'school', 85858282)\n",
      "(234, 'mohan', 'moan@gmail.com', 85, 234, 730223, 'singaproe', 'school', 85858282)\n",
      "(234, 'mohan', 'moan@gmail.com', 85, 234, 730223, 'singaproe', 'school', 85858282)\n",
      "(234, 'mohan', 'moan@gmail.com', 85, 234, 730223, 'singaproe', 'school', 85858282)\n",
      "(234, 'mohan', 'moan@gmail.com', 85, 234, 730223, 'singaproe', 'school', 85858282)\n",
      "(234, 'mohan', 'moan@gmail.com', 85, 234, 730223, 'singaproe', 'school', 85858282)\n",
      "(234, 'mohan', 'moan@gmail.com', 85, 234, 730223, 'singaproe', 'school', 85858282)\n",
      "(234, 'mohan', 'moan@gmail.com', 85, 234, 730223, 'singaproe', 'school', 85858282)\n",
      "(235, 'mohan', 'moan@gmail.com', 85, 235, 730223, 'singaproe', 'school', 85858282)\n",
      "(235, 'mohan', 'moan@gmail.com', 85, 235, 730223, 'singaproe', 'school', 85858282)\n",
      "(236, 'mohan', 'moan@gmail.com', 85, 236, 730223, 'singaproe', 'school', 85858282)\n",
      "(236, 'mohan', 'moan@gmail.com', 85, 236, 730223, 'singaproe', 'school', 85858282)\n",
      "(240, 'mohan', 'moan@gmail.com', 85, 240, 730223, 'singaproe', 'school', 85858282)\n",
      "(241, 'mohan', 'moan@gmail.com', 85, 241, 730223, 'singaproe', 'school', 85858282)\n",
      "(232, 'mohan', 'moan@gmail.com', 85, 232, 730223, 'singaproe', 'school', 85858282)\n"
     ]
    }
   ],
   "source": [
    "for i in data:\n",
    "    print(i)"
   ]
  },
  {
   "cell_type": "code",
   "execution_count": 76,
   "metadata": {},
   "outputs": [
    {
     "ename": "OperationalError",
     "evalue": "RIGHT and FULL OUTER JOINs are not currently supported",
     "output_type": "error",
     "traceback": [
      "\u001b[1;31m---------------------------------------------------------------------------\u001b[0m",
      "\u001b[1;31mOperationalError\u001b[0m                          Traceback (most recent call last)",
      "\u001b[1;32m<ipython-input-76-63d3b79ab057>\u001b[0m in \u001b[0;36m<module>\u001b[1;34m\u001b[0m\n\u001b[1;32m----> 1\u001b[1;33m \u001b[0mdata\u001b[0m \u001b[1;33m=\u001b[0m \u001b[0mc\u001b[0m\u001b[1;33m.\u001b[0m\u001b[0mexecute\u001b[0m\u001b[1;33m(\u001b[0m\u001b[1;34m\"select *from student s right join address a on s.student_id = a.student_id where a.student_id is not null\"\u001b[0m\u001b[1;33m)\u001b[0m\u001b[1;33m\u001b[0m\u001b[1;33m\u001b[0m\u001b[0m\n\u001b[0m",
      "\u001b[1;31mOperationalError\u001b[0m: RIGHT and FULL OUTER JOINs are not currently supported"
     ]
    }
   ],
   "source": [
    "data = c.execute(\"select *from student s right join address a on s.student_id = a.student_id where a.student_id is not null\")"
   ]
  },
  {
   "cell_type": "code",
   "execution_count": 79,
   "metadata": {},
   "outputs": [],
   "source": [
    "data = c.execute(\"select *from address a left join student s on s.student_id = a.student_id where s.student_id is not null\")"
   ]
  },
  {
   "cell_type": "code",
   "execution_count": 80,
   "metadata": {},
   "outputs": [
    {
     "name": "stdout",
     "output_type": "stream",
     "text": [
      "(234, 730223, 'singaproe', 'school', 85858282, 234, 'mohan', 'moan@gmail.com', 85)\n",
      "(234, 730223, 'singaproe', 'school', 85858282, 234, 'mohan', 'moan@gmail.com', 85)\n",
      "(234, 730223, 'singaproe', 'school', 85858282, 234, 'mohan', 'moan@gmail.com', 85)\n",
      "(234, 730223, 'singaproe', 'school', 85858282, 234, 'mohan', 'moan@gmail.com', 85)\n",
      "(234, 730223, 'singaproe', 'school', 85858282, 234, 'mohan', 'moan@gmail.com', 85)\n",
      "(234, 730223, 'singaproe', 'school', 85858282, 234, 'mohan', 'moan@gmail.com', 85)\n",
      "(234, 730223, 'singaproe', 'school', 85858282, 234, 'mohan', 'moan@gmail.com', 85)\n",
      "(234, 730223, 'singaproe', 'school', 85858282, 234, 'mohan', 'moan@gmail.com', 85)\n",
      "(234, 730223, 'singaproe', 'school', 85858282, 234, 'mohan', 'moan@gmail.com', 85)\n",
      "(234, 730223, 'singaproe', 'school', 85858282, 234, 'mohan', 'moan@gmail.com', 85)\n",
      "(234, 730223, 'singaproe', 'school', 85858282, 234, 'mohan', 'moan@gmail.com', 85)\n",
      "(234, 730223, 'singaproe', 'school', 85858282, 234, 'mohan', 'moan@gmail.com', 85)\n",
      "(234, 730223, 'singaproe', 'school', 85858282, 234, 'mohan', 'moan@gmail.com', 85)\n",
      "(234, 730223, 'singaproe', 'school', 85858282, 234, 'mohan', 'moan@gmail.com', 85)\n",
      "(234, 730223, 'singaproe', 'school', 85858282, 234, 'mohan', 'moan@gmail.com', 85)\n",
      "(234, 730223, 'singaproe', 'school', 85858282, 234, 'mohan', 'moan@gmail.com', 85)\n",
      "(234, 730223, 'singaproe', 'school', 85858282, 234, 'mohan', 'moan@gmail.com', 85)\n",
      "(234, 730223, 'singaproe', 'school', 85858282, 234, 'mohan', 'moan@gmail.com', 85)\n",
      "(234, 730223, 'singaproe', 'school', 85858282, 234, 'mohan', 'moan@gmail.com', 85)\n",
      "(234, 730223, 'singaproe', 'school', 85858282, 234, 'mohan', 'moan@gmail.com', 85)\n",
      "(234, 730223, 'singaproe', 'school', 85858282, 234, 'mohan', 'moan@gmail.com', 85)\n",
      "(234, 730223, 'singaproe', 'school', 85858282, 234, 'mohan', 'moan@gmail.com', 85)\n",
      "(234, 730223, 'singaproe', 'school', 85858282, 234, 'mohan', 'moan@gmail.com', 85)\n",
      "(234, 730223, 'singaproe', 'school', 85858282, 234, 'mohan', 'moan@gmail.com', 85)\n",
      "(234, 730223, 'singaproe', 'school', 85858282, 234, 'mohan', 'moan@gmail.com', 85)\n",
      "(234, 730223, 'singaproe', 'school', 85858282, 234, 'mohan', 'moan@gmail.com', 85)\n",
      "(234, 730223, 'singaproe', 'school', 85858282, 234, 'mohan', 'moan@gmail.com', 85)\n",
      "(234, 730223, 'singaproe', 'school', 85858282, 234, 'mohan', 'moan@gmail.com', 85)\n",
      "(234, 730223, 'singaproe', 'school', 85858282, 234, 'mohan', 'moan@gmail.com', 85)\n",
      "(234, 730223, 'singaproe', 'school', 85858282, 234, 'mohan', 'moan@gmail.com', 85)\n",
      "(234, 730223, 'singaproe', 'school', 85858282, 234, 'mohan', 'moan@gmail.com', 85)\n",
      "(234, 730223, 'singaproe', 'school', 85858282, 234, 'mohan', 'moan@gmail.com', 85)\n",
      "(234, 730223, 'singaproe', 'school', 85858282, 234, 'mohan', 'moan@gmail.com', 85)\n",
      "(235, 730223, 'singaproe', 'school', 85858282, 235, 'mohan', 'moan@gmail.com', 85)\n",
      "(235, 730223, 'singaproe', 'school', 85858282, 235, 'mohan', 'moan@gmail.com', 85)\n",
      "(235, 730223, 'singaproe', 'school', 85858282, 235, 'mohan', 'moan@gmail.com', 85)\n",
      "(236, 730223, 'singaproe', 'school', 85858282, 236, 'mohan', 'moan@gmail.com', 85)\n",
      "(236, 730223, 'singaproe', 'school', 85858282, 236, 'mohan', 'moan@gmail.com', 85)\n",
      "(236, 730223, 'singaproe', 'school', 85858282, 236, 'mohan', 'moan@gmail.com', 85)\n",
      "(237, 730223, 'singaproe', 'school', 85858282, 237, 'mohan', 'moan@gmail.com', 85)\n",
      "(238, 730223, 'singaproe', 'school', 85858282, 238, 'mohan', 'moan@gmail.com', 85)\n",
      "(239, 730223, 'singaproe', 'school', 85858282, 239, 'mohan', 'moan@gmail.com', 85)\n",
      "(240, 730223, 'singaproe', 'school', 85858282, 240, 'mohan', 'moan@gmail.com', 85)\n",
      "(240, 730223, 'singaproe', 'school', 85858282, 240, 'mohan', 'moan@gmail.com', 85)\n",
      "(240, 730223, 'singaproe', 'school', 85858282, 240, 'mohan', 'moan@gmail.com', 85)\n",
      "(241, 730223, 'singaproe', 'school', 85858282, 241, 'mohan', 'moan@gmail.com', 85)\n",
      "(241, 730223, 'singaproe', 'school', 85858282, 241, 'mohan', 'moan@gmail.com', 85)\n",
      "(241, 730223, 'singaproe', 'school', 85858282, 241, 'mohan', 'moan@gmail.com', 85)\n",
      "(232, 730223, 'singaproe', 'school', 85858282, 232, 'mohan', 'moan@gmail.com', 85)\n",
      "(232, 730223, 'singaproe', 'school', 85858282, 232, 'mohan', 'moan@gmail.com', 85)\n",
      "(232, 730223, 'singaproe', 'school', 85858282, 232, 'mohan', 'moan@gmail.com', 85)\n",
      "(234, 730223, 'singaproe', 'school', 85858282, 234, 'mohan', 'moan@gmail.com', 85)\n",
      "(234, 730223, 'singaproe', 'school', 85858282, 234, 'mohan', 'moan@gmail.com', 85)\n",
      "(234, 730223, 'singaproe', 'school', 85858282, 234, 'mohan', 'moan@gmail.com', 85)\n",
      "(235, 730223, 'singaproe', 'school', 85858282, 235, 'mohan', 'moan@gmail.com', 85)\n",
      "(235, 730223, 'singaproe', 'school', 85858282, 235, 'mohan', 'moan@gmail.com', 85)\n",
      "(235, 730223, 'singaproe', 'school', 85858282, 235, 'mohan', 'moan@gmail.com', 85)\n",
      "(236, 730223, 'singaproe', 'school', 85858282, 236, 'mohan', 'moan@gmail.com', 85)\n",
      "(236, 730223, 'singaproe', 'school', 85858282, 236, 'mohan', 'moan@gmail.com', 85)\n",
      "(236, 730223, 'singaproe', 'school', 85858282, 236, 'mohan', 'moan@gmail.com', 85)\n",
      "(237, 730223, 'singaproe', 'school', 85858282, 237, 'mohan', 'moan@gmail.com', 85)\n",
      "(238, 730223, 'singaproe', 'school', 85858282, 238, 'mohan', 'moan@gmail.com', 85)\n",
      "(239, 730223, 'singaproe', 'school', 85858282, 239, 'mohan', 'moan@gmail.com', 85)\n"
     ]
    }
   ],
   "source": [
    "for i in data:\n",
    "    print(i)"
   ]
  },
  {
   "cell_type": "code",
   "execution_count": 81,
   "metadata": {},
   "outputs": [
    {
     "name": "stdout",
     "output_type": "stream",
     "text": [
      "(234, 'mohan', 'moan@gmail.com', 85)\n",
      "(234, 'mohan', 'moan@gmail.com', 85)\n",
      "(234, 'mohan', 'moan@gmail.com', 85)\n",
      "(234, 'mohan', 'moan@gmail.com', 85)\n",
      "(234, 'mohan', 'moan@gmail.com', 85)\n",
      "(234, 'mohan', 'moan@gmail.com', 85)\n",
      "(234, 'mohan', 'moan@gmail.com', 85)\n",
      "(234, 'mohan', 'moan@gmail.com', 85)\n",
      "(234, 'mohan', 'moan@gmail.com', 85)\n",
      "(234, 'mohan', 'moan@gmail.com', 85)\n",
      "(234, 'mohan', 'moan@gmail.com', 85)\n",
      "(235, 'mohan', 'moan@gmail.com', 85)\n",
      "(236, 'mohan', 'moan@gmail.com', 85)\n",
      "(237, 'mohan', 'moan@gmail.com', 85)\n",
      "(238, 'mohan', 'moan@gmail.com', 85)\n",
      "(239, 'mohan', 'moan@gmail.com', 85)\n",
      "(240, 'mohan', 'moan@gmail.com', 85)\n",
      "(241, 'mohan', 'moan@gmail.com', 85)\n",
      "(232, 'mohan', 'moan@gmail.com', 85)\n",
      "(234, 'mohan', 'moan@gmail.com', 85)\n",
      "(235, 'mohan', 'moan@gmail.com', 85)\n",
      "(236, 'mohan', 'moan@gmail.com', 85)\n",
      "(237, 'mohan', 'moan@gmail.com', 85)\n",
      "(238, 'mohan', 'moan@gmail.com', 85)\n",
      "(239, 'mohan', 'moan@gmail.com', 85)\n",
      "(23440, 'mohan', 'moan@gmail.com', 85)\n",
      "(24132, 'mohan', 'moan@gmail.com', 85)\n",
      "(23223, 'mohan', 'moan@gmail.com', 85)\n"
     ]
    }
   ],
   "source": [
    "for i in c.execute(\"select * from student\"):\n",
    "    print(i)"
   ]
  },
  {
   "cell_type": "code",
   "execution_count": 84,
   "metadata": {},
   "outputs": [
    {
     "data": {
      "text/plain": [
       "<sqlite3.Cursor at 0x1a8231cd110>"
      ]
     },
     "execution_count": 84,
     "metadata": {},
     "output_type": "execute_result"
    }
   ],
   "source": [
    "#delete those student id > 2000\n",
    "c.execute('delete from student where student_id >2000')"
   ]
  },
  {
   "cell_type": "code",
   "execution_count": 85,
   "metadata": {},
   "outputs": [
    {
     "name": "stdout",
     "output_type": "stream",
     "text": [
      "(234, 'mohan', 'moan@gmail.com', 85)\n",
      "(234, 'mohan', 'moan@gmail.com', 85)\n",
      "(234, 'mohan', 'moan@gmail.com', 85)\n",
      "(234, 'mohan', 'moan@gmail.com', 85)\n",
      "(234, 'mohan', 'moan@gmail.com', 85)\n",
      "(234, 'mohan', 'moan@gmail.com', 85)\n",
      "(234, 'mohan', 'moan@gmail.com', 85)\n",
      "(234, 'mohan', 'moan@gmail.com', 85)\n",
      "(234, 'mohan', 'moan@gmail.com', 85)\n",
      "(234, 'mohan', 'moan@gmail.com', 85)\n",
      "(234, 'mohan', 'moan@gmail.com', 85)\n",
      "(235, 'mohan', 'moan@gmail.com', 85)\n",
      "(236, 'mohan', 'moan@gmail.com', 85)\n",
      "(237, 'mohan', 'moan@gmail.com', 85)\n",
      "(238, 'mohan', 'moan@gmail.com', 85)\n",
      "(239, 'mohan', 'moan@gmail.com', 85)\n",
      "(240, 'mohan', 'moan@gmail.com', 85)\n",
      "(241, 'mohan', 'moan@gmail.com', 85)\n",
      "(232, 'mohan', 'moan@gmail.com', 85)\n",
      "(234, 'mohan', 'moan@gmail.com', 85)\n",
      "(235, 'mohan', 'moan@gmail.com', 85)\n",
      "(236, 'mohan', 'moan@gmail.com', 85)\n",
      "(237, 'mohan', 'moan@gmail.com', 85)\n",
      "(238, 'mohan', 'moan@gmail.com', 85)\n",
      "(239, 'mohan', 'moan@gmail.com', 85)\n"
     ]
    }
   ],
   "source": [
    "for i in c.execute(\"select * from student\"):\n",
    "    print(i)"
   ]
  },
  {
   "cell_type": "code",
   "execution_count": 86,
   "metadata": {},
   "outputs": [],
   "source": [
    "#how to fetch all data instead of for loop\n",
    "data = c.execute(\"select *from student\")"
   ]
  },
  {
   "cell_type": "code",
   "execution_count": 87,
   "metadata": {},
   "outputs": [
    {
     "data": {
      "text/plain": [
       "[(234, 'mohan', 'moan@gmail.com', 85),\n",
       " (234, 'mohan', 'moan@gmail.com', 85),\n",
       " (234, 'mohan', 'moan@gmail.com', 85),\n",
       " (234, 'mohan', 'moan@gmail.com', 85),\n",
       " (234, 'mohan', 'moan@gmail.com', 85),\n",
       " (234, 'mohan', 'moan@gmail.com', 85),\n",
       " (234, 'mohan', 'moan@gmail.com', 85),\n",
       " (234, 'mohan', 'moan@gmail.com', 85),\n",
       " (234, 'mohan', 'moan@gmail.com', 85),\n",
       " (234, 'mohan', 'moan@gmail.com', 85),\n",
       " (234, 'mohan', 'moan@gmail.com', 85),\n",
       " (235, 'mohan', 'moan@gmail.com', 85),\n",
       " (236, 'mohan', 'moan@gmail.com', 85),\n",
       " (237, 'mohan', 'moan@gmail.com', 85),\n",
       " (238, 'mohan', 'moan@gmail.com', 85),\n",
       " (239, 'mohan', 'moan@gmail.com', 85),\n",
       " (240, 'mohan', 'moan@gmail.com', 85),\n",
       " (241, 'mohan', 'moan@gmail.com', 85),\n",
       " (232, 'mohan', 'moan@gmail.com', 85),\n",
       " (234, 'mohan', 'moan@gmail.com', 85),\n",
       " (235, 'mohan', 'moan@gmail.com', 85),\n",
       " (236, 'mohan', 'moan@gmail.com', 85),\n",
       " (237, 'mohan', 'moan@gmail.com', 85),\n",
       " (238, 'mohan', 'moan@gmail.com', 85),\n",
       " (239, 'mohan', 'moan@gmail.com', 85)]"
      ]
     },
     "execution_count": 87,
     "metadata": {},
     "output_type": "execute_result"
    }
   ],
   "source": [
    "data.fetchall()"
   ]
  },
  {
   "cell_type": "code",
   "execution_count": 88,
   "metadata": {},
   "outputs": [
    {
     "data": {
      "text/plain": [
       "<sqlite3.Cursor at 0x1a8231cd110>"
      ]
     },
     "execution_count": 88,
     "metadata": {},
     "output_type": "execute_result"
    }
   ],
   "source": [
    "#update the student ID 236 to 2000\n",
    "c.execute(\"update student set student_id = 2000 where student_id = 236\")"
   ]
  },
  {
   "cell_type": "code",
   "execution_count": 89,
   "metadata": {},
   "outputs": [],
   "source": [
    "data =c.execute(\"select * from student\")"
   ]
  },
  {
   "cell_type": "code",
   "execution_count": 90,
   "metadata": {},
   "outputs": [
    {
     "data": {
      "text/plain": [
       "[(234, 'mohan', 'moan@gmail.com', 85),\n",
       " (234, 'mohan', 'moan@gmail.com', 85),\n",
       " (234, 'mohan', 'moan@gmail.com', 85),\n",
       " (234, 'mohan', 'moan@gmail.com', 85),\n",
       " (234, 'mohan', 'moan@gmail.com', 85),\n",
       " (234, 'mohan', 'moan@gmail.com', 85),\n",
       " (234, 'mohan', 'moan@gmail.com', 85),\n",
       " (234, 'mohan', 'moan@gmail.com', 85),\n",
       " (234, 'mohan', 'moan@gmail.com', 85),\n",
       " (234, 'mohan', 'moan@gmail.com', 85),\n",
       " (234, 'mohan', 'moan@gmail.com', 85),\n",
       " (235, 'mohan', 'moan@gmail.com', 85),\n",
       " (2000, 'mohan', 'moan@gmail.com', 85),\n",
       " (237, 'mohan', 'moan@gmail.com', 85),\n",
       " (238, 'mohan', 'moan@gmail.com', 85),\n",
       " (239, 'mohan', 'moan@gmail.com', 85),\n",
       " (240, 'mohan', 'moan@gmail.com', 85),\n",
       " (241, 'mohan', 'moan@gmail.com', 85),\n",
       " (232, 'mohan', 'moan@gmail.com', 85),\n",
       " (234, 'mohan', 'moan@gmail.com', 85),\n",
       " (235, 'mohan', 'moan@gmail.com', 85),\n",
       " (2000, 'mohan', 'moan@gmail.com', 85),\n",
       " (237, 'mohan', 'moan@gmail.com', 85),\n",
       " (238, 'mohan', 'moan@gmail.com', 85),\n",
       " (239, 'mohan', 'moan@gmail.com', 85)]"
      ]
     },
     "execution_count": 90,
     "metadata": {},
     "output_type": "execute_result"
    }
   ],
   "source": [
    "data.fetchall()"
   ]
  },
  {
   "cell_type": "code",
   "execution_count": 91,
   "metadata": {},
   "outputs": [],
   "source": [
    "db.close()"
   ]
  },
  {
   "cell_type": "raw",
   "metadata": {},
   "source": [
    "Map: perform operation for every element and return all\n",
    "increase all no by 6 for a list\n",
    "l = [1,2,3,4,5,6]\n",
    "without doing the FOR loop and List comprehension, can do the similar operation is by MAP\n",
    "for MAP function, need 2 argument 1) function and 2) iterable object\n"
   ]
  },
  {
   "cell_type": "code",
   "execution_count": 92,
   "metadata": {},
   "outputs": [],
   "source": [
    "l = [1,2,3,4,5,6]"
   ]
  },
  {
   "cell_type": "code",
   "execution_count": 94,
   "metadata": {},
   "outputs": [],
   "source": [
    "l1 =[]\n",
    "for i in l:\n",
    "    l1.append (i+6)"
   ]
  },
  {
   "cell_type": "code",
   "execution_count": 95,
   "metadata": {},
   "outputs": [
    {
     "data": {
      "text/plain": [
       "[7, 8, 9, 10, 11, 12]"
      ]
     },
     "execution_count": 95,
     "metadata": {},
     "output_type": "execute_result"
    }
   ],
   "source": [
    "l1"
   ]
  },
  {
   "cell_type": "code",
   "execution_count": 96,
   "metadata": {},
   "outputs": [
    {
     "data": {
      "text/plain": [
       "[7, 8, 9, 10, 11, 12]"
      ]
     },
     "execution_count": 96,
     "metadata": {},
     "output_type": "execute_result"
    }
   ],
   "source": [
    "#list comprehension\n",
    "[i+6 for i in l]"
   ]
  },
  {
   "cell_type": "code",
   "execution_count": 101,
   "metadata": {},
   "outputs": [],
   "source": [
    "def test(a):\n",
    "    return a+6"
   ]
  },
  {
   "cell_type": "code",
   "execution_count": 102,
   "metadata": {},
   "outputs": [
    {
     "data": {
      "text/plain": [
       "11"
      ]
     },
     "execution_count": 102,
     "metadata": {},
     "output_type": "execute_result"
    }
   ],
   "source": [
    "test(5)"
   ]
  },
  {
   "cell_type": "code",
   "execution_count": 99,
   "metadata": {},
   "outputs": [
    {
     "data": {
      "text/plain": [
       "<map at 0x1a8226ec288>"
      ]
     },
     "execution_count": 99,
     "metadata": {},
     "output_type": "execute_result"
    }
   ],
   "source": [
    "#here given test function and iterable object list / tuple\n",
    "map(test, l)"
   ]
  },
  {
   "cell_type": "code",
   "execution_count": 103,
   "metadata": {},
   "outputs": [
    {
     "data": {
      "text/plain": [
       "[7, 8, 9, 10, 11, 12]"
      ]
     },
     "execution_count": 103,
     "metadata": {},
     "output_type": "execute_result"
    }
   ],
   "source": [
    "#to see the record enclose in list\n",
    "list(map(test, l))"
   ]
  },
  {
   "cell_type": "code",
   "execution_count": 104,
   "metadata": {},
   "outputs": [],
   "source": [
    "def test(a):\n",
    "    return a*54654"
   ]
  },
  {
   "cell_type": "code",
   "execution_count": 105,
   "metadata": {},
   "outputs": [
    {
     "data": {
      "text/plain": [
       "[54654, 109308, 163962, 218616, 273270, 327924]"
      ]
     },
     "execution_count": 105,
     "metadata": {},
     "output_type": "execute_result"
    }
   ],
   "source": [
    "list(map(test, l))"
   ]
  },
  {
   "cell_type": "code",
   "execution_count": 106,
   "metadata": {},
   "outputs": [],
   "source": [
    "l1 = ['234', '233', '224', '4356', '23456']"
   ]
  },
  {
   "cell_type": "code",
   "execution_count": 107,
   "metadata": {},
   "outputs": [],
   "source": [
    "#convert L1 into int format\n",
    "def test2(a):\n",
    "    return int(a)"
   ]
  },
  {
   "cell_type": "code",
   "execution_count": 108,
   "metadata": {},
   "outputs": [
    {
     "data": {
      "text/plain": [
       "[234, 233, 224, 4356, 23456]"
      ]
     },
     "execution_count": 108,
     "metadata": {},
     "output_type": "execute_result"
    }
   ],
   "source": [
    "list(map(test2, l1))"
   ]
  },
  {
   "cell_type": "code",
   "execution_count": 109,
   "metadata": {},
   "outputs": [
    {
     "data": {
      "text/plain": [
       "[234, 233, 224, 4356, 23456]"
      ]
     },
     "execution_count": 109,
     "metadata": {},
     "output_type": "execute_result"
    }
   ],
   "source": [
    "#lambda function\n",
    "list(map(lambda x:int(x), l1))"
   ]
  },
  {
   "cell_type": "code",
   "execution_count": 110,
   "metadata": {},
   "outputs": [
    {
     "data": {
      "text/plain": [
       "[7, 8, 9, 10, 11, 12]"
      ]
     },
     "execution_count": 110,
     "metadata": {},
     "output_type": "execute_result"
    }
   ],
   "source": [
    "list(map(lambda x:x+6, l))"
   ]
  },
  {
   "cell_type": "raw",
   "metadata": {},
   "source": [
    "Filter function: perform the operation only to the condition in the functionand return only those are true.\n",
    "try to filter out only the even integer from the list given\n",
    "filter function takes 2 argument, 1 is func and 2 is iterable object\n"
   ]
  },
  {
   "cell_type": "code",
   "execution_count": 129,
   "metadata": {},
   "outputs": [],
   "source": [
    "l = [4,5,6,7,8,9,12,16]"
   ]
  },
  {
   "cell_type": "code",
   "execution_count": 128,
   "metadata": {},
   "outputs": [],
   "source": [
    "def test3(a):\n",
    "    l1 = []\n",
    "    for i in a:\n",
    "        if i%2 == 0:\n",
    "            l1.append(i)\n",
    "    return l1"
   ]
  },
  {
   "cell_type": "code",
   "execution_count": 117,
   "metadata": {},
   "outputs": [
    {
     "data": {
      "text/plain": [
       "[4, 6, 8, 12, 16]"
      ]
     },
     "execution_count": 117,
     "metadata": {},
     "output_type": "execute_result"
    }
   ],
   "source": [
    "#list comprehension\n",
    "[i for i in l if i%2==0]"
   ]
  },
  {
   "cell_type": "code",
   "execution_count": 118,
   "metadata": {},
   "outputs": [],
   "source": [
    "l1 =[]\n",
    "for i in l:\n",
    "    if i%2==0:\n",
    "        l1.append(i)\n",
    "        "
   ]
  },
  {
   "cell_type": "code",
   "execution_count": 119,
   "metadata": {},
   "outputs": [
    {
     "data": {
      "text/plain": [
       "[4, 6, 8, 12, 16]"
      ]
     },
     "execution_count": 119,
     "metadata": {},
     "output_type": "execute_result"
    }
   ],
   "source": [
    "l1"
   ]
  },
  {
   "cell_type": "code",
   "execution_count": 130,
   "metadata": {},
   "outputs": [
    {
     "data": {
      "text/plain": [
       "[4, 6, 8, 12, 16]"
      ]
     },
     "execution_count": 130,
     "metadata": {},
     "output_type": "execute_result"
    }
   ],
   "source": [
    "test3(l)"
   ]
  },
  {
   "cell_type": "code",
   "execution_count": 131,
   "metadata": {},
   "outputs": [],
   "source": [
    "def test4(a):\n",
    "    if a%2==0:\n",
    "        return a"
   ]
  },
  {
   "cell_type": "code",
   "execution_count": 133,
   "metadata": {},
   "outputs": [
    {
     "data": {
      "text/plain": [
       "<filter at 0x1a823a7a108>"
      ]
     },
     "execution_count": 133,
     "metadata": {},
     "output_type": "execute_result"
    }
   ],
   "source": [
    "filter(test4,l)"
   ]
  },
  {
   "cell_type": "code",
   "execution_count": 134,
   "metadata": {},
   "outputs": [
    {
     "data": {
      "text/plain": [
       "[4, 6, 8, 12, 16]"
      ]
     },
     "execution_count": 134,
     "metadata": {},
     "output_type": "execute_result"
    }
   ],
   "source": [
    "#to see the filter, encapsulate in list format\n",
    "list(filter(test4,l))"
   ]
  },
  {
   "cell_type": "code",
   "execution_count": 137,
   "metadata": {},
   "outputs": [
    {
     "data": {
      "text/plain": [
       "[4, 6, 8, 12, 16]"
      ]
     },
     "execution_count": 137,
     "metadata": {},
     "output_type": "execute_result"
    }
   ],
   "source": [
    "#here it is having a condition\n",
    "list(filter(lambda x: x%2==0, l ))"
   ]
  },
  {
   "cell_type": "code",
   "execution_count": 138,
   "metadata": {},
   "outputs": [
    {
     "data": {
      "text/plain": [
       "[4, 5, 6, 7, 8, 9, 12, 16]"
      ]
     },
     "execution_count": 138,
     "metadata": {},
     "output_type": "execute_result"
    }
   ],
   "source": [
    "#there is no condition\n",
    "list(filter(lambda x:x+5, l))"
   ]
  },
  {
   "cell_type": "code",
   "execution_count": 139,
   "metadata": {},
   "outputs": [
    {
     "data": {
      "text/plain": [
       "[6, 9, 12]"
      ]
     },
     "execution_count": 139,
     "metadata": {},
     "output_type": "execute_result"
    }
   ],
   "source": [
    "list(filter(lambda x:x%3==0, l))"
   ]
  },
  {
   "cell_type": "raw",
   "metadata": {},
   "source": [
    "Reduce function:\n",
    "must import from functools\n",
    "\n",
    "reduce will have 2 argument, 1 is function and 2 is iterable object\n",
    "l = [a,b,c,d,e,f]\n",
    "l = [3,4,5,6,7,8,8,3]\n",
    "everytime it takes 2 argument from the list, \n",
    "a+b = a, then 3+4 = 7\n",
    "a+c = a, then 7+5 = 12\n",
    "a+d = a, then 12+6 = 18\n",
    "a+e = a, then 18+7 = 25\n",
    "a+f = a, then 25+8 = 33, 33+8 = 41, 41+3 = 44\n",
    "a .. only 44"
   ]
  },
  {
   "cell_type": "code",
   "execution_count": 3,
   "metadata": {},
   "outputs": [],
   "source": [
    "from functools import reduce"
   ]
  },
  {
   "cell_type": "code",
   "execution_count": 8,
   "metadata": {},
   "outputs": [],
   "source": [
    "l = [3,4,5,6,7,8,8,3]"
   ]
  },
  {
   "cell_type": "code",
   "execution_count": 142,
   "metadata": {},
   "outputs": [
    {
     "data": {
      "text/plain": [
       "44"
      ]
     },
     "execution_count": 142,
     "metadata": {},
     "output_type": "execute_result"
    }
   ],
   "source": [
    "#sum of all in the list\n",
    "sum(l)"
   ]
  },
  {
   "cell_type": "code",
   "execution_count": 6,
   "metadata": {},
   "outputs": [],
   "source": [
    "def test5(a,b):\n",
    "    return a+b"
   ]
  },
  {
   "cell_type": "code",
   "execution_count": 146,
   "metadata": {},
   "outputs": [
    {
     "data": {
      "text/plain": [
       "44"
      ]
     },
     "execution_count": 146,
     "metadata": {},
     "output_type": "execute_result"
    }
   ],
   "source": [
    "reduce(test5, l)"
   ]
  },
  {
   "cell_type": "raw",
   "metadata": {},
   "source": [
    "for example test5(a,b,c) then return add a+b+c\n",
    "in this case it wont work"
   ]
  },
  {
   "cell_type": "code",
   "execution_count": 10,
   "metadata": {},
   "outputs": [],
   "source": [
    "# there is some exception case when there is 1 argument, here it auto takes the 2nd input as 0\n",
    "l =[3]"
   ]
  },
  {
   "cell_type": "code",
   "execution_count": 11,
   "metadata": {},
   "outputs": [
    {
     "data": {
      "text/plain": [
       "3"
      ]
     },
     "execution_count": 11,
     "metadata": {},
     "output_type": "execute_result"
    }
   ],
   "source": [
    "reduce(test5, l)"
   ]
  },
  {
   "cell_type": "code",
   "execution_count": 13,
   "metadata": {},
   "outputs": [],
   "source": [
    "l = [3,4,5,6,7,8,8,3]"
   ]
  },
  {
   "cell_type": "code",
   "execution_count": 14,
   "metadata": {},
   "outputs": [
    {
     "data": {
      "text/plain": [
       "44"
      ]
     },
     "execution_count": 14,
     "metadata": {},
     "output_type": "execute_result"
    }
   ],
   "source": [
    "reduce(lambda x, y: x+y, l)"
   ]
  },
  {
   "cell_type": "raw",
   "metadata": {},
   "source": [
    "ZIP Function: takes 2 argument as iterable\n",
    "it zipping the values and return as tuple of the elements\n"
   ]
  },
  {
   "cell_type": "code",
   "execution_count": 19,
   "metadata": {},
   "outputs": [],
   "source": [
    "l =[1,2,3,5,7]\n",
    "l1=[2,4,5,7,8]\n",
    "l2=['mohn', 'kalai', 'raks', 'papa', 'thambi']"
   ]
  },
  {
   "cell_type": "code",
   "execution_count": 17,
   "metadata": {},
   "outputs": [
    {
     "data": {
      "text/plain": [
       "<zip at 0x1ed4aa039c8>"
      ]
     },
     "execution_count": 17,
     "metadata": {},
     "output_type": "execute_result"
    }
   ],
   "source": [
    "zip(l,l1)"
   ]
  },
  {
   "cell_type": "code",
   "execution_count": 21,
   "metadata": {},
   "outputs": [
    {
     "data": {
      "text/plain": [
       "[(1, 2, 'mohn'),\n",
       " (2, 4, 'kalai'),\n",
       " (3, 5, 'raks'),\n",
       " (5, 7, 'papa'),\n",
       " (7, 8, 'thambi')]"
      ]
     },
     "execution_count": 21,
     "metadata": {},
     "output_type": "execute_result"
    }
   ],
   "source": [
    "list(zip(l,l1,l2))"
   ]
  },
  {
   "cell_type": "code",
   "execution_count": 22,
   "metadata": {},
   "outputs": [],
   "source": [
    "l =[2,3,5,7]\n",
    "l1=[2,4,5,7,8]\n",
    "l2=['mohn', 'kalai', 'raks', 'papa', 'thambi']"
   ]
  },
  {
   "cell_type": "code",
   "execution_count": 23,
   "metadata": {},
   "outputs": [
    {
     "data": {
      "text/plain": [
       "[(2, 2, 'mohn'), (3, 4, 'kalai'), (5, 5, 'raks'), (7, 7, 'papa')]"
      ]
     },
     "execution_count": 23,
     "metadata": {},
     "output_type": "execute_result"
    }
   ],
   "source": [
    "list(zip(l,l1,l2))"
   ]
  },
  {
   "cell_type": "raw",
   "metadata": {},
   "source": [
    "\"\"\"Task for today :\n",
    "  dataset -   https://archive.ics.uci.edu/ml/datasets/Bag+of+Words\n",
    "    \n",
    "    q1 = try to find out a count of each and every word in a respective file return a list of tuple with word and its respective count \n",
    "       sample example -  [('sudh', 6 ) , ('kumar',3)]\n",
    "    q2 = try to perform a reduce operation to get a count of all the word starting with same alphabet\n",
    "        sample examle = [(a,56) , (b,34),...........]\n",
    "    q3 = Try to filter out all the words from dataset . \n",
    "    \n",
    "    .001.abstract = abstract\n",
    "    =.002 = delete\n",
    "    q4 = create a tuple set of all the records avaialble in all the five file and then store it in sqllite DB . \n",
    "    (aah,>=,354,fdsf,wer)\n",
    "    \n",
    "    Top 10 will be able to get kids neuron \"\"\"\n",
    "    \n",
    "Coding requirement: convention\n",
    "1. modular coding\n",
    "2. logging\n",
    "3. exception handling try and except\n",
    "\n",
    "Code share link:\n",
    "X8PY8Y.codeshare.iu/x8py8y"
   ]
  },
  {
   "cell_type": "code",
   "execution_count": null,
   "metadata": {},
   "outputs": [],
   "source": []
  }
 ],
 "metadata": {
  "kernelspec": {
   "display_name": "Python 3",
   "language": "python",
   "name": "python3"
  },
  "language_info": {
   "codemirror_mode": {
    "name": "ipython",
    "version": 3
   },
   "file_extension": ".py",
   "mimetype": "text/x-python",
   "name": "python",
   "nbconvert_exporter": "python",
   "pygments_lexer": "ipython3",
   "version": "3.7.6"
  }
 },
 "nbformat": 4,
 "nbformat_minor": 4
}
