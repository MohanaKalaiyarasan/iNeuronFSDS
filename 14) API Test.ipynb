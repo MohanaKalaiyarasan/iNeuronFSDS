{
 "cells": [
  {
   "cell_type": "raw",
   "metadata": {},
   "source": [
    "Download: Pycharm\n",
    "Postman API\n",
    "\n",
    "API: Application Program Intraface\n",
    "why is it important?\n",
    "UPI for payment services, google app, uber so many apps are using this API\n",
    "In everysteps API is used and built with it API concept.\n",
    "\n",
    "**Used Case**:\n",
    "Google pay App - configures with bank accounts, it is an app interface you and bank system\n",
    "for ex Gpay(interface): make a transaction to one to another ICICI (request) then another party request for valid information of account no and existing bank account had enough money to make a transaction.\n",
    "\n",
    "Then bank transfer the money to Gpay requested User\n",
    "Here Gpay run on Python system, ICICI using JAVA\n",
    "Both may be used different DB Exchange system (Backend system)\n",
    "\n",
    "We may be calling different system for making this transactions\n",
    "by considering:\n",
    "account legitimate?\n",
    "User ID and Password?\n",
    "Amount have ?\n",
    "Then make the transaction\n",
    "\n",
    "here 2 different language system intracting - language interfacing system - heterogeneous\n",
    "\n",
    "Sudhanshu@ineuron.ai\n",
    "Sudhanshu Kumar, +91 9176072251\n",
    "\n",
    "API : set of rules / protocol\n",
    "Client server\n",
    "\n",
    "Pycharm: IDE(integrated Development environment) tool to develop and create backend _ full scale IDE\n",
    "\n",
    "Postman: tool to test, call from Pycharm (call certain functions)\n",
    "\n",
    "Example fuction at Jupyter:\n",
    "def test(a,b):\n",
    "    return a+b\n",
    "    \n",
    "test(34,46)\n",
    "\n",
    "This same test function from other system, need to call from JAVA system, need postman > to do that we need API system.\n",
    "* need to expose to outside system\n",
    "\n",
    "**Going to write function in Pycharm and call from Postman**\n",
    "\n",
    "How are we going to call it at Postman?\n",
    "Flask is the python library(framework) which convert functions/method/Apps into the API. \n",
    "\n",
    "Pycharm: New project (API test at conda environment, version 3.7) > create.\n",
    "- Under API test Project\n",
    "    Create new File, test.py\n",
    "Pycharm: Folder is Package, inside the package is modules (files)\n",
    "\n",
    "Postman: pip install flask inside the terminal(pycharm)\n",
    "\n",
    "from flask import Flask, request, jsonify"
   ]
  },
  {
   "cell_type": "markdown",
   "metadata": {},
   "source": [
    "Pycharm:\n",
    "from flask import Flask, request, jsonify\n",
    "\n",
    "@app.route('/xyz', methods=['GET', 'POST']) #below this sentence as decorator and reach out this functions\n",
    "def test(a,b):\n",
    "    print(a+b)\n",
    "    return a+b\n",
    "\n",
    "test(3,4)\n",
    "\n",
    "Need the address of this function (root) to reach out for the function\n",
    "- create root in first place\n",
    "    similar like @mohana, like @app.route('xyz')\n",
    "    \n",
    "Both are send the data to different system:\n",
    "method GET - related to accessibility, sending the data but dataset is exposed, ex: google search\n",
    "method POST - related to Security, sending the data where data is not exposed (ex: email password). password is not a part of the body(Hidden)"
   ]
  },
  {
   "cell_type": "raw",
   "metadata": {},
   "source": [
    "Postman:\n",
    "Create workspace - mohanWS (for team)\n",
    "GET Request\n",
    "\n",
    "error: 404 (No URl, Server not available)\n",
    "500: program wrong\n",
    "200: program exe successful\n",
    "400: bad syntax, no such function"
   ]
  },
  {
   "cell_type": "code",
   "execution_count": 1,
   "metadata": {},
   "outputs": [],
   "source": [
    "import numpy as np\n",
    "import pandas as pd"
   ]
  },
  {
   "cell_type": "code",
   "execution_count": 7,
   "metadata": {},
   "outputs": [
    {
     "data": {
      "text/plain": [
       "array([ 6, 37, 41, 22, 27, 12, 43])"
      ]
     },
     "execution_count": 7,
     "metadata": {},
     "output_type": "execute_result"
    }
   ],
   "source": [
    "np.random.randint(1, 50, size=7)"
   ]
  },
  {
   "cell_type": "code",
   "execution_count": 8,
   "metadata": {},
   "outputs": [
    {
     "data": {
      "text/plain": [
       "array([40, 35, 46, 16, 20, 39, 49])"
      ]
     },
     "execution_count": 8,
     "metadata": {},
     "output_type": "execute_result"
    }
   ],
   "source": [
    "np.random.randint(1, 50, size=7)"
   ]
  },
  {
   "cell_type": "code",
   "execution_count": 16,
   "metadata": {},
   "outputs": [
    {
     "data": {
      "text/plain": [
       "array([19,  6, 23, 30,  3, 18, 44])"
      ]
     },
     "execution_count": 16,
     "metadata": {},
     "output_type": "execute_result"
    }
   ],
   "source": [
    "np.random.randint(1, 50, size=7)"
   ]
  },
  {
   "cell_type": "code",
   "execution_count": 10,
   "metadata": {},
   "outputs": [
    {
     "data": {
      "text/plain": [
       "array([39, 23,  3, 34, 36, 45, 18])"
      ]
     },
     "execution_count": 10,
     "metadata": {},
     "output_type": "execute_result"
    }
   ],
   "source": [
    "np.random.randint(1, 50, size=7)"
   ]
  },
  {
   "cell_type": "code",
   "execution_count": 11,
   "metadata": {},
   "outputs": [
    {
     "data": {
      "text/plain": [
       "array([12, 32, 20, 38, 33, 30, 16])"
      ]
     },
     "execution_count": 11,
     "metadata": {},
     "output_type": "execute_result"
    }
   ],
   "source": [
    "np.random.randint(1, 50, size=7)"
   ]
  },
  {
   "cell_type": "code",
   "execution_count": 12,
   "metadata": {},
   "outputs": [
    {
     "data": {
      "text/plain": [
       "array([13, 32, 28,  2, 14, 29, 47])"
      ]
     },
     "execution_count": 12,
     "metadata": {},
     "output_type": "execute_result"
    }
   ],
   "source": [
    "np.random.randint(1, 50, size=7)"
   ]
  },
  {
   "cell_type": "code",
   "execution_count": 13,
   "metadata": {},
   "outputs": [
    {
     "data": {
      "text/plain": [
       "array([23, 35, 35, 44, 31, 32, 14])"
      ]
     },
     "execution_count": 13,
     "metadata": {},
     "output_type": "execute_result"
    }
   ],
   "source": [
    "np.random.randint(1, 50, size=7)"
   ]
  },
  {
   "cell_type": "code",
   "execution_count": 14,
   "metadata": {},
   "outputs": [
    {
     "data": {
      "text/plain": [
       "array([44, 29,  3, 35, 48, 14,  3])"
      ]
     },
     "execution_count": 14,
     "metadata": {},
     "output_type": "execute_result"
    }
   ],
   "source": [
    "np.random.randint(1, 50, size=7)"
   ]
  },
  {
   "cell_type": "code",
   "execution_count": 15,
   "metadata": {},
   "outputs": [
    {
     "data": {
      "text/plain": [
       "array([ 4, 40, 21, 28, 37, 12, 22])"
      ]
     },
     "execution_count": 15,
     "metadata": {},
     "output_type": "execute_result"
    }
   ],
   "source": [
    "np.random.randint(1, 50, size=7)"
   ]
  },
  {
   "cell_type": "code",
   "execution_count": 17,
   "metadata": {},
   "outputs": [
    {
     "name": "stdout",
     "output_type": "stream",
     "text": [
      " * Serving Flask app \"__main__\" (lazy loading)\n",
      " * Environment: production\n",
      "   WARNING: This is a development server. Do not use it in a production deployment.\n",
      "   Use a production WSGI server instead.\n",
      " * Debug mode: off\n"
     ]
    },
    {
     "name": "stderr",
     "output_type": "stream",
     "text": [
      " * Running on http://127.0.0.1:5000/ (Press CTRL+C to quit)\n"
     ]
    }
   ],
   "source": [
    "from flask import Flask, request, jsonify\n",
    "\n",
    "# object of this flask, all the functions of the name is imported in flask\n",
    "app = Flask(__name__)\n",
    "\n",
    "\n",
    "# below this sentence as decorator / annotation and reach out this functions\n",
    "@app.route('/xyz', methods=['GET', 'POST'])\n",
    "def test():\n",
    "    if request.method == 'POST':\n",
    "        a = request.json['num1']\n",
    "        b = request.json['num2']\n",
    "        result = a + b\n",
    "        return jsonify(str(result))\n",
    "\n",
    "@app.route('/abc/moha', methods=['POST'])\n",
    "def test1():\n",
    "    if request.method == 'POST':\n",
    "        a = request.json['num3']\n",
    "        b = request.json['num4']\n",
    "        result = a + b\n",
    "        return jsonify(str(result))\n",
    "\n",
    "@app.route('/abc/moha/kala', methods=['POST'])\n",
    "def test2():\n",
    "    if request.method == 'POST':\n",
    "        a = request.json['num4']\n",
    "        b = request.json['num5']\n",
    "        result = a + b\n",
    "        return jsonify(str(result))\n",
    "\n",
    "@app.route('/abc/xyz', methods=['POST'])\n",
    "def test3():\n",
    "    if request.method == 'POST':\n",
    "        a = request.json['moha']\n",
    "        b = request.json['kalai']\n",
    "        result = a + b\n",
    "        return jsonify(str(result))\n",
    "\n",
    "if __name__ == '__main__':\n",
    "    app.run()\n"
   ]
  },
  {
   "cell_type": "code",
   "execution_count": 1,
   "metadata": {},
   "outputs": [
    {
     "ename": "SyntaxError",
     "evalue": "invalid syntax (<ipython-input-1-4ddf2690bb4a>, line 1)",
     "output_type": "error",
     "traceback": [
      "\u001b[1;36m  File \u001b[1;32m\"<ipython-input-1-4ddf2690bb4a>\"\u001b[1;36m, line \u001b[1;32m1\u001b[0m\n\u001b[1;33m    1 . write a function to fetch data from sql table via api\u001b[0m\n\u001b[1;37m              ^\u001b[0m\n\u001b[1;31mSyntaxError\u001b[0m\u001b[1;31m:\u001b[0m invalid syntax\n"
     ]
    }
   ],
   "source": [
    "1 . write a function to fetch data from sql table via api \n",
    "2 . write a function to fetch a data from mongodb table"
   ]
  },
  {
   "cell_type": "code",
   "execution_count": null,
   "metadata": {},
   "outputs": [],
   "source": []
  }
 ],
 "metadata": {
  "kernelspec": {
   "display_name": "Python 3",
   "language": "python",
   "name": "python3"
  },
  "language_info": {
   "codemirror_mode": {
    "name": "ipython",
    "version": 3
   },
   "file_extension": ".py",
   "mimetype": "text/x-python",
   "name": "python",
   "nbconvert_exporter": "python",
   "pygments_lexer": "ipython3",
   "version": "3.7.6"
  }
 },
 "nbformat": 4,
 "nbformat_minor": 4
}
