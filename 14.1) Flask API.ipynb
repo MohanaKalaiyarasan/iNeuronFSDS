{
 "cells": [
  {
   "cell_type": "raw",
   "metadata": {},
   "source": [
    "API With HTML:\n",
    "1) Open the Flask folder downloaded in pycharm\n",
    "2) Run the app.py of flask\n",
    "3) click on the running on http://127.0.0.1:5000/, webpage is open for you to perform the 4 operation defined functions in the app.py\n",
    "\n",
    "Virtual Environment:\n",
    "In python, it required many library to perform different operation/application\n",
    "it is dependencies on many libraries..\n",
    "for example:\n",
    "proj1, proj2, proj3 > all will use different libraries\n",
    "Proj1(visualization)\n",
    "Proj2(flask, calculator)\n",
    "proj3(EDA)\n",
    "\n",
    "for above 3 projects cannot create universal system to support, it may conflict if run in the same system.\n",
    "\n",
    "So, create new environment for each project, similarly anaconda also gives us the different ennvironment(virtual) to run our applications.\n",
    "\n",
    "Example2:\n",
    "EDA proj, using different lib (pandas, numpy, scify, matplot) currently using versions 1.5, 2.0, 3.0\n",
    "\n",
    "these versions might change after 1 or 2 year, those designed with older version may not work end up with warning, error message or some function may not perform fully. Inorder the application to continue run in updated version, these libraries are separated into virtual environment.\n",
    "\n",
    "Anaconda navigator - package (universal environment) container.\n",
    "To know, what are the packages are installed in anaconda base environment > PIP LIST\n",
    "now this base environment might have many libraries, but for our project we may / may not use all.\n",
    "for simplicity, we create new environment(virtual) and selected libraries are imported to perform our project.\n",
    "\n",
    "@ anaconda prompt: conda environment list to check is \"conda env list\"\n",
    "conda env list > list down 3 ennvironent \n",
    "1) base \n",
    "2) API Test\n",
    "3) myownproject\n",
    "\n",
    "To activate the particular environment:\n",
    "conda activate **environ name**\n",
    "ex: conda activate myownproject\n",
    "then with pip list, we get the list of libraries associated with it.\n",
    "\n",
    "@pycharm, use the anaconda base environment by referring the location listed\n",
    "\n",
    "To set the base environment of anaconda in pycharm:\n",
    "1) copy the location of anaconda base environment c:\\ProgramData\\Anaconda3\n",
    "2) at pycharm, file open setting > at project, will find the python interpreter\n",
    "    2.1) at python interperter, add interperter > add local interpreter this will add the base interpreter\n",
    "    2.2) this will list indicate the list of virtual environment(NEW) for Pycharmprojects available, click on \"conda environment.\n",
    "    2.3)Select the python interpreter for the conda  by referring the Anaconda copied base location and point to python.exe\n",
    "    2.4) set all, press OK\n",
    "    \n"
   ]
  },
  {
   "cell_type": "raw",
   "metadata": {},
   "source": [
    "Calculator is running in local server 127.0.0.1.5000(default 5000 port)\n",
    "there are 2 route is in this app.py:\n",
    "1) homepage route\n",
    "2) function route\n",
    "3) /via_postman route also available (html: UI)\n",
    "   what is request method used?\n",
    "   1. request.form (UI) interface\n",
    "   2. request.json via postman\n",
    "\n",
    "Application: MVC / MVT\n",
    "MVC: Model View Controller [to build Web app - flask]\n",
    "     (DB)   (UI)  (Backend Python code)\n",
    "     \n",
    "     from backend req user send info in html, json, text..\n",
    "\n",
    "run again the app.py\n",
    "@postman, paste the ip address http://127.0.0.1:5000/via_postman\n",
    "POST, RAW > JSON\n",
    "\n",
    "HTML > for web page\n",
    "CSS > for beautification\n",
    "JS > interface\n",
    "Flask > web fram\n",
    "    template language\n",
    "\n",
    "Web App: M  v  C >> web app can run in server/ cloud / internet\n",
    "> Client & Server\n",
    "> request and respond\n",
    "\n",
    "Now app.py is running in local server, it is requesting data from the user (client) UI, flask is a API and it is the interface between python and web app\n",
    "\n",
    "Frontend:\n",
    " html|css|JS|Json|Ajax|JQuery\n",
    " \n",
    "Backend:\n",
    "Python|Django|Flask\n",
    "\n",
    "ML: Data / Statistics / Development\n"
   ]
  },
  {
   "cell_type": "markdown",
   "metadata": {},
   "source": [
    "https://github.com/bhanu-code-repo/all-about-api/tree/main/projects/dB-app"
   ]
  },
  {
   "cell_type": "raw",
   "metadata": {},
   "source": [
    "We can assign new port to the local server location to run from it.\n",
    "\n",
    "if __name__ == '__main__':\n",
    "    app.run(debug=True, port=8000) #default port is 5000"
   ]
  },
  {
   "cell_type": "code",
   "execution_count": null,
   "metadata": {},
   "outputs": [],
   "source": []
  },
  {
   "cell_type": "code",
   "execution_count": null,
   "metadata": {},
   "outputs": [],
   "source": []
  }
 ],
 "metadata": {
  "kernelspec": {
   "display_name": "Python 3",
   "language": "python",
   "name": "python3"
  },
  "language_info": {
   "codemirror_mode": {
    "name": "ipython",
    "version": 3
   },
   "file_extension": ".py",
   "mimetype": "text/x-python",
   "name": "python",
   "nbconvert_exporter": "python",
   "pygments_lexer": "ipython3",
   "version": "3.7.6"
  }
 },
 "nbformat": 4,
 "nbformat_minor": 4
}
