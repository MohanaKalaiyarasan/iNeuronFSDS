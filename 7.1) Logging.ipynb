{
 "cells": [
  {
   "cell_type": "markdown",
   "metadata": {},
   "source": [
    "# Logging"
   ]
  },
  {
   "cell_type": "raw",
   "metadata": {},
   "source": [
    "What is logging? Why is important\n",
    "we try to write a code and anything can happen, it might crash and how much time it took to execute\n",
    "for determine the time complexity of a code.\n",
    "\n",
    "Why it need? \n",
    "ex: print > print in console (we dont write our code by print function)\n",
    "    in prod envi we wont write (strictly prohibited to use print) in (our own reference). instead use log \n",
    "    store in databases / file system.\n",
    "    \n",
    "    Adv of logging mode: logging gives you flexibility to understanding what happen and why the code has \n",
    "        crashed like warning or information to user.\n",
    "Example: scheduled to update the file from another server, there is a problem and the file is not updated\n",
    "to understand why is there file update not happened? if we didnt know the cause for file update this might repeat\n",
    "and repeat. this is where this logging comes to help(without this it cannot be replicated the same issue)\n",
    "Logging: keep track of warning, error and info (debug) about the execution, it will help in future to investigate.\n",
    "it is useful to build the rule and system to counteract the issue of file is not updated.\n"
   ]
  },
  {
   "cell_type": "code",
   "execution_count": 1,
   "metadata": {},
   "outputs": [],
   "source": [
    "import logging\n"
   ]
  },
  {
   "cell_type": "code",
   "execution_count": 2,
   "metadata": {},
   "outputs": [],
   "source": [
    "# Logging: Simple way to write a message\n",
    "logging.basicConfig(filename = \"test.log\", level = logging.INFO) #created a file"
   ]
  },
  {
   "cell_type": "code",
   "execution_count": 3,
   "metadata": {},
   "outputs": [],
   "source": [
    "logging.info(\"this is my info log\")\n",
    "logging.warning(\"this is my warning log\")\n",
    "logging.error(\"this is my error log\")"
   ]
  },
  {
   "cell_type": "code",
   "execution_count": 4,
   "metadata": {},
   "outputs": [],
   "source": [
    "logging.shutdown() #this is for closing the logging"
   ]
  },
  {
   "cell_type": "code",
   "execution_count": 5,
   "metadata": {},
   "outputs": [
    {
     "data": {
      "text/plain": [
       "'C:\\\\Users\\\\mral\\\\Mohana Kalaiyarasan_Data Scientist\\\\FSDS_iNeuron'"
      ]
     },
     "execution_count": 5,
     "metadata": {},
     "output_type": "execute_result"
    }
   ],
   "source": [
    "pwd"
   ]
  },
  {
   "cell_type": "raw",
   "metadata": {},
   "source": [
    "LIST OF LOGS AVAILABLE:\n",
    "DEBUG\n",
    "INFO\n",
    "WARNING\n",
    "ERROR\n",
    "CRITICAL"
   ]
  },
  {
   "cell_type": "raw",
   "metadata": {},
   "source": [
    "info.log is not reflected in my log file\n",
    "created the file\n",
    "logging.basicConfig(filename = \"test.log\", level = logging.INFO)\n",
    "then\n",
    "Restart the Kernel, can see the info."
   ]
  },
  {
   "cell_type": "raw",
   "metadata": {},
   "source": [
    "Create a new log file to record the debug with format date & time stamp\n",
    "To keep a label in the warning in the log itself"
   ]
  },
  {
   "cell_type": "code",
   "execution_count": 6,
   "metadata": {},
   "outputs": [],
   "source": [
    "logging.basicConfig(filename=\"test2.log\", level = logging.DEBUG, format = \"%(asctime)s %(levelname)s %(message)s\")"
   ]
  },
  {
   "cell_type": "code",
   "execution_count": 7,
   "metadata": {},
   "outputs": [],
   "source": [
    "logging.info(\"this is my info log\")\n",
    "logging.warning(\"this is my Warning log\")\n",
    "logging.error(\"this is my error log\")\n",
    "logging.debug(\"this is my debug log\")"
   ]
  },
  {
   "cell_type": "raw",
   "metadata": {},
   "source": [
    "Now set the Error log instead of Debug"
   ]
  },
  {
   "cell_type": "code",
   "execution_count": 1,
   "metadata": {},
   "outputs": [],
   "source": [
    "import logging\n",
    "logging.basicConfig(filename=\"test2.log\", level = logging.ERROR, format = \"%(asctime)s %(levelname)s %(message)s\")"
   ]
  },
  {
   "cell_type": "raw",
   "metadata": {},
   "source": [
    "By mentioning the level is logging.ERROR, we only able to see the Error log only in the log file.\n",
    "In this code, ERROR is the highest priority (rest of the log is excluded)"
   ]
  },
  {
   "cell_type": "code",
   "execution_count": 2,
   "metadata": {},
   "outputs": [],
   "source": [
    "logging.info(\"this is my info log\")\n",
    "logging.warning(\"this is my Warning log\")\n",
    "logging.debug(\"this is my debug log\")\n",
    "logging.error(\"this is my error log\")"
   ]
  },
  {
   "cell_type": "raw",
   "metadata": {},
   "source": [
    "In this code set the logging.INFO, it record only (Info, Warning and Error log)\n",
    "INFO is set to priority 3 (it include priority 1 and 2) and exclude Priority 4(DEBUG)\n",
    "Priority Level:\n",
    "1) ERROR\n",
    "2) WARNING\n",
    "3) INFO\n",
    "4) DEBUG"
   ]
  },
  {
   "cell_type": "code",
   "execution_count": 3,
   "metadata": {},
   "outputs": [],
   "source": [
    "import logging\n",
    "logging.basicConfig(filename=\"test2.log\", level = logging.INFO, format = \"%(asctime)s %(levelname)s %(message)s\")"
   ]
  },
  {
   "cell_type": "code",
   "execution_count": 4,
   "metadata": {},
   "outputs": [],
   "source": [
    "logging.info(\"this is my info log\")\n",
    "logging.warning(\"this is my Warning log\")\n",
    "logging.debug(\"this is my debug log\")\n",
    "logging.error(\"this is my error log\")"
   ]
  },
  {
   "cell_type": "raw",
   "metadata": {},
   "source": [
    "In this code set the logging.DEBUG, it record all (Info, Warning, Error and Debug log)"
   ]
  },
  {
   "cell_type": "code",
   "execution_count": 1,
   "metadata": {},
   "outputs": [],
   "source": [
    "import logging\n",
    "logging.basicConfig(filename=\"test2.log\", level = logging.DEBUG, format = \"%(asctime)s %(levelname)s %(message)s\")"
   ]
  },
  {
   "cell_type": "code",
   "execution_count": 2,
   "metadata": {},
   "outputs": [],
   "source": [
    "logging.info(\"this is my info log\")\n",
    "logging.warning(\"this is my Warning log\")\n",
    "logging.debug(\"this is my debug log\")\n",
    "logging.error(\"this is my error log\")"
   ]
  },
  {
   "cell_type": "markdown",
   "metadata": {},
   "source": [
    "# Simple PRogram: Logging use"
   ]
  },
  {
   "cell_type": "code",
   "execution_count": 1,
   "metadata": {},
   "outputs": [],
   "source": [
    "import logging\n",
    "logging.basicConfig(filename=\"test3.log\", level = logging.DEBUG, format = \"%(asctime)s %(levelname)s %(message)s\")"
   ]
  },
  {
   "cell_type": "raw",
   "metadata": {},
   "source": [
    "Hereafter we have to follow the some standards in writing the codes\n",
    "0) '''Command the code for understandability'''\n",
    "1) Write Try block\n",
    "2) perform logging, to record all your errors in the last priority DEBUG"
   ]
  },
  {
   "cell_type": "code",
   "execution_count": 2,
   "metadata": {},
   "outputs": [],
   "source": [
    "def divbyzero(a,b):\n",
    "    '''\n",
    "    This is to use the logging usage\n",
    "    '''\n",
    "    logging.info(\" this is a start of my code and i am trying to enter %s and %s\", a,b)\n",
    "    try:\n",
    "        div = a/b\n",
    "        logging.info('executed successfully')\n",
    "    except Exception as e:\n",
    "        logging.error(\"Error has happened\")\n",
    "        logging.exception(\"Exception occured \" + str(e))"
   ]
  },
  {
   "cell_type": "code",
   "execution_count": 3,
   "metadata": {},
   "outputs": [],
   "source": [
    "divbyzero(4,0)\n",
    "#with the data input 4/0 and it will give us error in the console instead of getting the error \n",
    "#message, now we are going to get all the info at test3.log"
   ]
  },
  {
   "cell_type": "code",
   "execution_count": 8,
   "metadata": {},
   "outputs": [],
   "source": [
    "logging.shutdown()"
   ]
  },
  {
   "cell_type": "code",
   "execution_count": null,
   "metadata": {},
   "outputs": [],
   "source": []
  }
 ],
 "metadata": {
  "kernelspec": {
   "display_name": "Python 3",
   "language": "python",
   "name": "python3"
  },
  "language_info": {
   "codemirror_mode": {
    "name": "ipython",
    "version": 3
   },
   "file_extension": ".py",
   "mimetype": "text/x-python",
   "name": "python",
   "nbconvert_exporter": "python",
   "pygments_lexer": "ipython3",
   "version": "3.7.6"
  }
 },
 "nbformat": 4,
 "nbformat_minor": 4
}
