{
 "cells": [
  {
   "cell_type": "code",
   "execution_count": 1,
   "metadata": {},
   "outputs": [],
   "source": [
    "import os"
   ]
  },
  {
   "cell_type": "code",
   "execution_count": 2,
   "metadata": {},
   "outputs": [],
   "source": [
    "def test(a,b):\n",
    "    ''' This function is to add 2 no'''\n",
    "    return a+b"
   ]
  },
  {
   "cell_type": "raw",
   "metadata": {},
   "source": [
    "Problem: In one of the notebook have defined the function and this function is not called in another notebook.\n",
    "similarly many functions need to be used in that notebook cannot write over and over again.\n",
    "Inorder to use the defined function in one book in to another, we use define the functions as Module.\n",
    "\n",
    "Module is nothing but having all the functions in python file (ex: test.py) then import those file in another notebook, that way can use the functions universally."
   ]
  },
  {
   "cell_type": "raw",
   "metadata": {},
   "source": [
    "One way to create the py file, using notepad++ and create a file\n",
    "another way, open command in python notebook itself."
   ]
  },
  {
   "cell_type": "code",
   "execution_count": 3,
   "metadata": {},
   "outputs": [
    {
     "data": {
      "text/plain": [
       "'C:\\\\Users\\\\mral\\\\Mohana Kalaiyarasan_Data Scientist\\\\FSDS_iNeuron'"
      ]
     },
     "execution_count": 3,
     "metadata": {},
     "output_type": "execute_result"
    }
   ],
   "source": [
    "pwd()"
   ]
  },
  {
   "cell_type": "code",
   "execution_count": 5,
   "metadata": {},
   "outputs": [
    {
     "name": "stdout",
     "output_type": "stream",
     "text": [
      " Volume in drive C has no label.\n",
      " Volume Serial Number is CE08-50A1\n",
      "\n",
      " Directory of C:\\Users\\mral\\Mohana Kalaiyarasan_Data Scientist\\FSDS_iNeuron\n",
      "\n",
      "17/08/2022  05:09 PM    <DIR>          .\n",
      "17/08/2022  05:09 PM    <DIR>          ..\n",
      "17/08/2022  04:59 PM    <DIR>          .ipynb_checkpoints\n",
      "10/08/2022  09:56 PM            69,297 1) Python basic_String_list_Indexing.ipynb\n",
      "10/08/2022  10:02 PM            50,566 2) Tuple, Set Dict.ipynb\n",
      "10/08/2022  10:43 PM           226,340 3) 19Dec_Python Prog Discussion.ipynb\n",
      "10/08/2022  10:58 PM            28,649 4) Function_23Dec21.ipynb\n",
      "10/08/2022  11:34 PM            53,772 5) Function_Part2_8Jan22.ipynb\n",
      "10/08/2022  11:55 PM            97,813 6) 9th Jan - Iterator, Generator File System.ipynb\n",
      "14/08/2022  08:32 PM         1,397,957 6.1) Function_Assignment_10Aug2022.ipynb\n",
      "16/08/2022  05:23 PM            28,483 7) Exception Handling.ipynb\n",
      "16/08/2022  08:39 PM             8,701 7.1) Logging.ipynb\n",
      "17/08/2022  05:06 PM             4,525 8) Module and Import.ipynb\n",
      "12/07/2021  09:41 AM           147,652 file1.pdf\n",
      "10/08/2022  06:16 AM             2,332 google.txt\n",
      "27/11/2021  10:00 AM       239,419,577 IMG_7526.MOV\n",
      "13/08/2022  10:45 AM            26,187 mywordfile.docx\n",
      "13/08/2022  02:24 PM             3,649 mywordfile.pdf\n",
      "13/08/2022  02:28 PM                 0 new.pdf\n",
      "13/08/2022  02:29 PM           146,057 newPDF.pdf\n",
      "17/08/2022  05:05 PM             1,519 test\n",
      "16/08/2022  07:51 PM             1,193 test.log\n",
      "17/08/2022  05:08 PM                 0 test1.py\n",
      "16/08/2022  03:59 PM                22 test1.txt\n",
      "16/08/2022  08:13 PM             4,042 test2.log\n",
      "16/08/2022  08:36 PM             4,011 test3.log\n",
      "14/08/2022  11:21 PM                 6 text1.txt\n",
      "17/08/2022  05:01 PM             1,443 Untitled.ipynb\n",
      "15/02/2018  08:15 PM           161,227 WIN_20180215_20_15_41_Pro.jpg\n",
      "              26 File(s)    241,885,020 bytes\n",
      "               3 Dir(s)  203,076,235,264 bytes free\n"
     ]
    }
   ],
   "source": [
    "ls"
   ]
  },
  {
   "cell_type": "code",
   "execution_count": 8,
   "metadata": {},
   "outputs": [
    {
     "data": {
      "text/plain": [
       "<_io.TextIOWrapper name='test2.py' mode='w' encoding='cp1252'>"
      ]
     },
     "execution_count": 8,
     "metadata": {},
     "output_type": "execute_result"
    }
   ],
   "source": [
    "#2nd method to create the python file\n",
    "open(\"test2.py\", 'w')"
   ]
  },
  {
   "cell_type": "code",
   "execution_count": 9,
   "metadata": {},
   "outputs": [
    {
     "name": "stdout",
     "output_type": "stream",
     "text": [
      " Volume in drive C has no label.\n",
      " Volume Serial Number is CE08-50A1\n",
      "\n",
      " Directory of C:\\Users\\mral\\Mohana Kalaiyarasan_Data Scientist\\FSDS_iNeuron\n",
      "\n",
      "17/08/2022  05:10 PM    <DIR>          .\n",
      "17/08/2022  05:10 PM    <DIR>          ..\n",
      "17/08/2022  04:59 PM    <DIR>          .ipynb_checkpoints\n",
      "10/08/2022  09:56 PM            69,297 1) Python basic_String_list_Indexing.ipynb\n",
      "10/08/2022  10:02 PM            50,566 2) Tuple, Set Dict.ipynb\n",
      "10/08/2022  10:43 PM           226,340 3) 19Dec_Python Prog Discussion.ipynb\n",
      "10/08/2022  10:58 PM            28,649 4) Function_23Dec21.ipynb\n",
      "10/08/2022  11:34 PM            53,772 5) Function_Part2_8Jan22.ipynb\n",
      "10/08/2022  11:55 PM            97,813 6) 9th Jan - Iterator, Generator File System.ipynb\n",
      "14/08/2022  08:32 PM         1,397,957 6.1) Function_Assignment_10Aug2022.ipynb\n",
      "16/08/2022  05:23 PM            28,483 7) Exception Handling.ipynb\n",
      "16/08/2022  08:39 PM             8,701 7.1) Logging.ipynb\n",
      "17/08/2022  05:06 PM             4,525 8) Module and Import.ipynb\n",
      "12/07/2021  09:41 AM           147,652 file1.pdf\n",
      "10/08/2022  06:16 AM             2,332 google.txt\n",
      "27/11/2021  10:00 AM       239,419,577 IMG_7526.MOV\n",
      "13/08/2022  10:45 AM            26,187 mywordfile.docx\n",
      "13/08/2022  02:24 PM             3,649 mywordfile.pdf\n",
      "13/08/2022  02:28 PM                 0 new.pdf\n",
      "13/08/2022  02:29 PM           146,057 newPDF.pdf\n",
      "17/08/2022  05:05 PM             1,519 test\n",
      "16/08/2022  07:51 PM             1,193 test.log\n",
      "17/08/2022  05:08 PM                 0 test1.py\n",
      "16/08/2022  03:59 PM                22 test1.txt\n",
      "16/08/2022  08:13 PM             4,042 test2.log\n",
      "17/08/2022  05:11 PM                 0 test2.py\n",
      "16/08/2022  08:36 PM             4,011 test3.log\n",
      "14/08/2022  11:21 PM                 6 text1.txt\n",
      "17/08/2022  05:01 PM             1,443 Untitled.ipynb\n",
      "15/02/2018  08:15 PM           161,227 WIN_20180215_20_15_41_Pro.jpg\n",
      "              27 File(s)    241,885,020 bytes\n",
      "               3 Dir(s)  203,075,674,112 bytes free\n"
     ]
    }
   ],
   "source": [
    "ls"
   ]
  },
  {
   "cell_type": "code",
   "execution_count": 10,
   "metadata": {},
   "outputs": [],
   "source": [
    "import test2 #import the test2 python file as module"
   ]
  },
  {
   "cell_type": "code",
   "execution_count": 11,
   "metadata": {},
   "outputs": [
    {
     "data": {
      "text/plain": [
       "7"
      ]
     },
     "execution_count": 11,
     "metadata": {},
     "output_type": "execute_result"
    }
   ],
   "source": [
    "test2.test1(3,4) #use the test1 function from the test2 python file"
   ]
  },
  {
   "cell_type": "code",
   "execution_count": 12,
   "metadata": {},
   "outputs": [],
   "source": [
    "# to use only particular function in the py file\n",
    "from test2 import test1 # imported only the test1 function"
   ]
  },
  {
   "cell_type": "code",
   "execution_count": 13,
   "metadata": {},
   "outputs": [
    {
     "data": {
      "text/plain": [
       "11"
      ]
     },
     "execution_count": 13,
     "metadata": {},
     "output_type": "execute_result"
    }
   ],
   "source": [
    "test1(5,6)"
   ]
  },
  {
   "cell_type": "code",
   "execution_count": 14,
   "metadata": {
    "scrolled": true
   },
   "outputs": [
    {
     "ename": "NameError",
     "evalue": "name 'test4' is not defined",
     "output_type": "error",
     "traceback": [
      "\u001b[1;31m---------------------------------------------------------------------------\u001b[0m",
      "\u001b[1;31mNameError\u001b[0m                                 Traceback (most recent call last)",
      "\u001b[1;32m<ipython-input-14-f342c205893c>\u001b[0m in \u001b[0;36m<module>\u001b[1;34m\u001b[0m\n\u001b[1;32m----> 1\u001b[1;33m \u001b[0mtest4\u001b[0m\u001b[1;33m(\u001b[0m\u001b[1;33m)\u001b[0m\u001b[1;33m\u001b[0m\u001b[1;33m\u001b[0m\u001b[0m\n\u001b[0m",
      "\u001b[1;31mNameError\u001b[0m: name 'test4' is not defined"
     ]
    }
   ],
   "source": [
    "test4() #reason we only imported the test1 function"
   ]
  },
  {
   "cell_type": "code",
   "execution_count": 1,
   "metadata": {},
   "outputs": [],
   "source": [
    "#to import all function in the py file\n",
    "from test2 import * #* means all"
   ]
  },
  {
   "cell_type": "code",
   "execution_count": 2,
   "metadata": {},
   "outputs": [
    {
     "data": {
      "text/plain": [
       "'this is my module coding in the test2 file'"
      ]
     },
     "execution_count": 2,
     "metadata": {},
     "output_type": "execute_result"
    }
   ],
   "source": [
    "test4()"
   ]
  },
  {
   "cell_type": "code",
   "execution_count": 3,
   "metadata": {},
   "outputs": [
    {
     "data": {
      "text/plain": [
       "'this is my module coding in the test2 file'"
      ]
     },
     "execution_count": 3,
     "metadata": {},
     "output_type": "execute_result"
    }
   ],
   "source": [
    "test4()"
   ]
  },
  {
   "cell_type": "markdown",
   "metadata": {},
   "source": [
    "# https://docs.python.org/3/py-modindex.html"
   ]
  },
  {
   "cell_type": "raw",
   "metadata": {},
   "source": [
    "github folder\n",
    "https://github.com/python/cpython"
   ]
  },
  {
   "cell_type": "code",
   "execution_count": 5,
   "metadata": {},
   "outputs": [
    {
     "data": {
      "text/plain": [
       "<function dir>"
      ]
     },
     "execution_count": 5,
     "metadata": {},
     "output_type": "execute_result"
    }
   ],
   "source": [
    "#to know what are the modules in the directory\n",
    "dir"
   ]
  },
  {
   "cell_type": "code",
   "execution_count": 6,
   "metadata": {},
   "outputs": [
    {
     "data": {
      "text/plain": [
       "['In',\n",
       " 'Out',\n",
       " '_',\n",
       " '_2',\n",
       " '_3',\n",
       " '_5',\n",
       " '__',\n",
       " '___',\n",
       " '__builtin__',\n",
       " '__builtins__',\n",
       " '__doc__',\n",
       " '__loader__',\n",
       " '__name__',\n",
       " '__package__',\n",
       " '__spec__',\n",
       " '_dh',\n",
       " '_i',\n",
       " '_i1',\n",
       " '_i2',\n",
       " '_i3',\n",
       " '_i4',\n",
       " '_i5',\n",
       " '_i6',\n",
       " '_ih',\n",
       " '_ii',\n",
       " '_iii',\n",
       " '_oh',\n",
       " 'exit',\n",
       " 'get_ipython',\n",
       " 'quit',\n",
       " 'test1',\n",
       " 'test2',\n",
       " 'test3',\n",
       " 'test4']"
      ]
     },
     "execution_count": 6,
     "metadata": {},
     "output_type": "execute_result"
    }
   ],
   "source": [
    "dir()"
   ]
  },
  {
   "cell_type": "code",
   "execution_count": 7,
   "metadata": {},
   "outputs": [
    {
     "data": {
      "text/plain": [
       "<_io.TextIOWrapper name='my_module.py' mode='w' encoding='cp1252'>"
      ]
     },
     "execution_count": 7,
     "metadata": {},
     "output_type": "execute_result"
    }
   ],
   "source": [
    "open(\"my_module.py\", \"w\")"
   ]
  },
  {
   "cell_type": "code",
   "execution_count": 8,
   "metadata": {},
   "outputs": [
    {
     "name": "stdout",
     "output_type": "stream",
     "text": [
      " Volume in drive C has no label.\n",
      " Volume Serial Number is CE08-50A1\n",
      "\n",
      " Directory of C:\\Users\\mral\\Mohana Kalaiyarasan_Data Scientist\\FSDS_iNeuron\n",
      "\n",
      "17/08/2022  05:44 PM    <DIR>          .\n",
      "17/08/2022  05:44 PM    <DIR>          ..\n",
      "17/08/2022  04:59 PM    <DIR>          .ipynb_checkpoints\n",
      "17/08/2022  05:26 PM    <DIR>          __pycache__\n",
      "10/08/2022  09:56 PM            69,297 1) Python basic_String_list_Indexing.ipynb\n",
      "10/08/2022  10:02 PM            50,566 2) Tuple, Set Dict.ipynb\n",
      "10/08/2022  10:43 PM           226,340 3) 19Dec_Python Prog Discussion.ipynb\n",
      "10/08/2022  10:58 PM            28,649 4) Function_23Dec21.ipynb\n",
      "10/08/2022  11:34 PM            53,772 5) Function_Part2_8Jan22.ipynb\n",
      "10/08/2022  11:55 PM            97,813 6) 9th Jan - Iterator, Generator File System.ipynb\n",
      "14/08/2022  08:32 PM         1,397,957 6.1) Function_Assignment_10Aug2022.ipynb\n",
      "16/08/2022  05:23 PM            28,483 7) Exception Handling.ipynb\n",
      "16/08/2022  08:39 PM             8,701 7.1) Logging.ipynb\n",
      "17/08/2022  05:43 PM            12,101 8) Module and Import.ipynb\n",
      "12/07/2021  09:41 AM           147,652 file1.pdf\n",
      "10/08/2022  06:16 AM             2,332 google.txt\n",
      "27/11/2021  10:00 AM       239,419,577 IMG_7526.MOV\n",
      "17/08/2022  05:44 PM                 0 my_module.py\n",
      "13/08/2022  10:45 AM            26,187 mywordfile.docx\n",
      "13/08/2022  02:24 PM             3,649 mywordfile.pdf\n",
      "13/08/2022  02:28 PM                 0 new.pdf\n",
      "13/08/2022  02:29 PM           146,057 newPDF.pdf\n",
      "17/08/2022  05:05 PM             1,519 test\n",
      "16/08/2022  07:51 PM             1,193 test.log\n",
      "17/08/2022  05:08 PM                 0 test1.py\n",
      "16/08/2022  03:59 PM                22 test1.txt\n",
      "16/08/2022  08:13 PM             4,042 test2.log\n",
      "17/08/2022  05:25 PM               262 test2.py\n",
      "16/08/2022  08:36 PM             4,011 test3.log\n",
      "14/08/2022  11:21 PM                 6 text1.txt\n",
      "17/08/2022  05:17 PM             1,880 Untitled.ipynb\n",
      "15/02/2018  08:15 PM           161,227 WIN_20180215_20_15_41_Pro.jpg\n",
      "              28 File(s)    241,893,295 bytes\n",
      "               4 Dir(s)  203,108,188,160 bytes free\n"
     ]
    }
   ],
   "source": [
    "ls"
   ]
  },
  {
   "cell_type": "code",
   "execution_count": 9,
   "metadata": {},
   "outputs": [
    {
     "name": "stdout",
     "output_type": "stream",
     "text": [
      " Volume in drive C has no label.\n",
      " Volume Serial Number is CE08-50A1\n",
      "\n",
      " Directory of C:\\Users\\mral\\Mohana Kalaiyarasan_Data Scientist\\FSDS_iNeuron\n",
      "\n",
      "17/08/2022  05:48 PM    <DIR>          .\n",
      "17/08/2022  05:48 PM    <DIR>          ..\n",
      "17/08/2022  04:59 PM    <DIR>          .ipynb_checkpoints\n",
      "17/08/2022  05:26 PM    <DIR>          __pycache__\n",
      "10/08/2022  09:56 PM            69,297 1) Python basic_String_list_Indexing.ipynb\n",
      "10/08/2022  10:02 PM            50,566 2) Tuple, Set Dict.ipynb\n",
      "10/08/2022  10:43 PM           226,340 3) 19Dec_Python Prog Discussion.ipynb\n",
      "10/08/2022  10:58 PM            28,649 4) Function_23Dec21.ipynb\n",
      "10/08/2022  11:34 PM            53,772 5) Function_Part2_8Jan22.ipynb\n",
      "10/08/2022  11:55 PM            97,813 6) 9th Jan - Iterator, Generator File System.ipynb\n",
      "14/08/2022  08:32 PM         1,397,957 6.1) Function_Assignment_10Aug2022.ipynb\n",
      "16/08/2022  05:23 PM            28,483 7) Exception Handling.ipynb\n",
      "16/08/2022  08:39 PM             8,701 7.1) Logging.ipynb\n",
      "17/08/2022  05:45 PM            15,169 8) Module and Import.ipynb\n",
      "12/07/2021  09:41 AM           147,652 file1.pdf\n",
      "10/08/2022  06:16 AM             2,332 google.txt\n",
      "27/11/2021  10:00 AM       239,419,577 IMG_7526.MOV\n",
      "17/08/2022  05:48 PM               230 my_module.py\n",
      "13/08/2022  10:45 AM            26,187 mywordfile.docx\n",
      "13/08/2022  02:24 PM             3,649 mywordfile.pdf\n",
      "13/08/2022  02:28 PM                 0 new.pdf\n",
      "13/08/2022  02:29 PM           146,057 newPDF.pdf\n",
      "17/08/2022  05:05 PM             1,519 test\n",
      "16/08/2022  07:51 PM             1,193 test.log\n",
      "17/08/2022  05:08 PM                 0 test1.py\n",
      "16/08/2022  03:59 PM                22 test1.txt\n",
      "16/08/2022  08:13 PM             4,042 test2.log\n",
      "17/08/2022  05:25 PM               262 test2.py\n",
      "16/08/2022  08:36 PM             4,011 test3.log\n",
      "14/08/2022  11:21 PM                 6 text1.txt\n",
      "17/08/2022  05:17 PM             1,880 Untitled.ipynb\n",
      "15/02/2018  08:15 PM           161,227 WIN_20180215_20_15_41_Pro.jpg\n",
      "              28 File(s)    241,896,593 bytes\n",
      "               4 Dir(s)  203,109,068,800 bytes free\n"
     ]
    }
   ],
   "source": [
    "ls"
   ]
  },
  {
   "cell_type": "code",
   "execution_count": 10,
   "metadata": {},
   "outputs": [],
   "source": [
    "import my_module"
   ]
  },
  {
   "cell_type": "code",
   "execution_count": 11,
   "metadata": {},
   "outputs": [
    {
     "data": {
      "text/plain": [
       "['data science', 'blockchain', 'drone', 'robotics', 'cloud']"
      ]
     },
     "execution_count": 11,
     "metadata": {},
     "output_type": "execute_result"
    }
   ],
   "source": [
    "my_module.get_course()"
   ]
  },
  {
   "cell_type": "code",
   "execution_count": 12,
   "metadata": {},
   "outputs": [
    {
     "data": {
      "text/plain": [
       "'greeting from inueron'"
      ]
     },
     "execution_count": 12,
     "metadata": {},
     "output_type": "execute_result"
    }
   ],
   "source": [
    "my_module.greetings()"
   ]
  },
  {
   "cell_type": "raw",
   "metadata": {},
   "source": [
    "Collection of modules (multiple py file) is a package, created under certain directory\n",
    "Pycharm is useful in storing the packages and modules for full scale project(N2N projects)\n",
    "\n",
    "@pyrcharm\n",
    "myownproject #directory\n",
    "    pkg1 #package folder\n",
    "        pkg1test1.py #module1 python file\n",
    "        pkg1test2.py #module2 python file\n",
    "    pkg2 #package2\n",
    "        pkg2test1.py #module1 at package2\n",
    "        pkg2test2.py\n",
    "    test.py #module\n",
    "        \n",
    "problem statement in a factory:\n",
    "Person1: Code for data processing\n",
    "Person2: code for data collection\n",
    "Person3: code for data deployment\n",
    "\n",
    "Incharge will assign the work to individuals\n",
    "so, each person create packages(folders) and modules(py files)\n",
    "\n",
    "Incharge will integrate all in to one.\n",
    "\n",
    "#return will need a variable to deliver the output in Pycharm console\n",
    "Whereas jupyter notebook will have its own console, so it doesnt need the variable to display the output.\n"
   ]
  },
  {
   "cell_type": "raw",
   "metadata": {},
   "source": [
    "Task:\n",
    "1. create a tool which you can access the files like a browser (directories), list down all files.\n",
    "2. find is there a pdf file or not? if have multiple pdf,  merge all and give 1 file\n",
    "GUI interface>  kivy, tkinter library\n",
    "\n",
    "use packages, modules, exception handling and logging in the program"
   ]
  },
  {
   "cell_type": "code",
   "execution_count": null,
   "metadata": {},
   "outputs": [],
   "source": []
  }
 ],
 "metadata": {
  "kernelspec": {
   "display_name": "Python 3",
   "language": "python",
   "name": "python3"
  },
  "language_info": {
   "codemirror_mode": {
    "name": "ipython",
    "version": 3
   },
   "file_extension": ".py",
   "mimetype": "text/x-python",
   "name": "python",
   "nbconvert_exporter": "python",
   "pygments_lexer": "ipython3",
   "version": "3.7.6"
  }
 },
 "nbformat": 4,
 "nbformat_minor": 4
}
