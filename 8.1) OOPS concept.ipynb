{
 "cells": [
  {
   "cell_type": "markdown",
   "metadata": {},
   "source": [
    "# OOPS Concept"
   ]
  },
  {
   "cell_type": "raw",
   "metadata": {},
   "source": [
    "How is it different from python?\n",
    "    create a structured module and can be used multiple times\n",
    "    \n",
    "OOPS - object oriented programming\n",
    "python programming is scripting\n",
    "\n",
    "Classes and Objects in OOPS:\n",
    "Classes: \n",
    "ex: there is a bird flying (have some sense of flying above, but not sure which bird is it)\n",
    "It is a kind of blueprint\n",
    "ex: cup, car\n",
    "Object: it is a kind of entity which is exist and real(specification)\n",
    "ex: melton cup, honda car\n",
    "\n",
    "write a code for databases, ls, file handling, logging..\n",
    "Write a code for list? Not sure what are we going to do? what kind, what type of list?\n",
    "for which? list as so many inbuilt function, be specific like\n",
    "write a code to reverse the list, count a list, append the list..\n",
    "\n",
    "OOPS> derive everything into an object and bind inside a classes and perform some task.\n"
   ]
  },
  {
   "cell_type": "code",
   "execution_count": 4,
   "metadata": {},
   "outputs": [],
   "source": [
    "class car:\n",
    "    pass"
   ]
  },
  {
   "cell_type": "code",
   "execution_count": 5,
   "metadata": {},
   "outputs": [],
   "source": [
    "class car:\n",
    "    def __init__(self, brand_name, fueltype, body_type): #inbuilt function constructor\n",
    "        self.brand_name = brand_name\n",
    "        self.fueltype = fueltype\n",
    "        self.body_type = body_type\n",
    "        \n",
    "    def desc_car():\n",
    "        print(self.brand_name, self.fueltype, self.body_type)\n",
    "        "
   ]
  },
  {
   "cell_type": "code",
   "execution_count": 6,
   "metadata": {},
   "outputs": [
    {
     "ename": "TypeError",
     "evalue": "__init__() missing 3 required positional arguments: 'brand_name', 'fueltype', and 'body_type'",
     "output_type": "error",
     "traceback": [
      "\u001b[1;31m---------------------------------------------------------------------------\u001b[0m",
      "\u001b[1;31mTypeError\u001b[0m                                 Traceback (most recent call last)",
      "\u001b[1;32m<ipython-input-6-4739df149d2c>\u001b[0m in \u001b[0;36m<module>\u001b[1;34m\u001b[0m\n\u001b[1;32m----> 1\u001b[1;33m \u001b[0minnova\u001b[0m \u001b[1;33m=\u001b[0m \u001b[0mcar\u001b[0m\u001b[1;33m(\u001b[0m\u001b[1;33m)\u001b[0m\u001b[1;33m\u001b[0m\u001b[1;33m\u001b[0m\u001b[0m\n\u001b[0m",
      "\u001b[1;31mTypeError\u001b[0m: __init__() missing 3 required positional arguments: 'brand_name', 'fueltype', and 'body_type'"
     ]
    }
   ],
   "source": [
    "innova = car() # missing 3 arguments, Innova is a CAR Class"
   ]
  },
  {
   "cell_type": "raw",
   "metadata": {},
   "source": [
    "__init__ > Constructor, kind of a entity or function to get input to the variable/class\n",
    "self -> pointer, which is pointing to the class (not necessary self can be anything like mohan, args..)\n"
   ]
  },
  {
   "cell_type": "code",
   "execution_count": 7,
   "metadata": {},
   "outputs": [],
   "source": [
    "innova = car(\"toyota\", \"petrol\", \"suv\")"
   ]
  },
  {
   "cell_type": "code",
   "execution_count": 8,
   "metadata": {},
   "outputs": [
    {
     "data": {
      "text/plain": [
       "<__main__.car at 0x29e38d9a648>"
      ]
     },
     "execution_count": 8,
     "metadata": {},
     "output_type": "execute_result"
    }
   ],
   "source": [
    "innova"
   ]
  },
  {
   "cell_type": "code",
   "execution_count": 9,
   "metadata": {},
   "outputs": [
    {
     "ename": "TypeError",
     "evalue": "desc_car() takes 0 positional arguments but 1 was given",
     "output_type": "error",
     "traceback": [
      "\u001b[1;31m---------------------------------------------------------------------------\u001b[0m",
      "\u001b[1;31mTypeError\u001b[0m                                 Traceback (most recent call last)",
      "\u001b[1;32m<ipython-input-9-cfdb7103a8d5>\u001b[0m in \u001b[0;36m<module>\u001b[1;34m\u001b[0m\n\u001b[1;32m----> 1\u001b[1;33m \u001b[0minnova\u001b[0m\u001b[1;33m.\u001b[0m\u001b[0mdesc_car\u001b[0m\u001b[1;33m(\u001b[0m\u001b[1;33m)\u001b[0m\u001b[1;33m\u001b[0m\u001b[1;33m\u001b[0m\u001b[0m\n\u001b[0m",
      "\u001b[1;31mTypeError\u001b[0m: desc_car() takes 0 positional arguments but 1 was given"
     ]
    }
   ],
   "source": [
    "innova.desc_car() #error > there is no pointer. insert a pointer in the line Class Car:...."
   ]
  },
  {
   "cell_type": "code",
   "execution_count": 10,
   "metadata": {},
   "outputs": [],
   "source": [
    "class car:\n",
    "    def __init__(self, brand_name, fueltype, body_type): #inbuilt function constructor\n",
    "        self.brand_name = brand_name\n",
    "        self.fueltype = fueltype\n",
    "        self.body_type = body_type\n",
    "        \n",
    "    def desc_car(self):\n",
    "        print(self.brand_name, self.fueltype, self.body_type)"
   ]
  },
  {
   "cell_type": "code",
   "execution_count": 19,
   "metadata": {},
   "outputs": [],
   "source": [
    "#List of cars under CLASS CAR \n",
    "innova = car(\"toyota\", \"petrol\", \"suv\")\n",
    "nexon = car(\"tata\", \"petrol\", \"mini_suv\")\n",
    "fortune = car(\"toyato\", \"diesel\", \"suv\")"
   ]
  },
  {
   "cell_type": "code",
   "execution_count": 12,
   "metadata": {},
   "outputs": [
    {
     "name": "stdout",
     "output_type": "stream",
     "text": [
      "toyota petrol suv\n"
     ]
    }
   ],
   "source": [
    "innova.desc_car()"
   ]
  },
  {
   "cell_type": "code",
   "execution_count": 15,
   "metadata": {},
   "outputs": [
    {
     "ename": "TypeError",
     "evalue": "'str' object is not callable",
     "output_type": "error",
     "traceback": [
      "\u001b[1;31m---------------------------------------------------------------------------\u001b[0m",
      "\u001b[1;31mTypeError\u001b[0m                                 Traceback (most recent call last)",
      "\u001b[1;32m<ipython-input-15-c4c31d908780>\u001b[0m in \u001b[0;36m<module>\u001b[1;34m\u001b[0m\n\u001b[1;32m----> 1\u001b[1;33m \u001b[0minnova\u001b[0m\u001b[1;33m.\u001b[0m\u001b[0mbody_type\u001b[0m\u001b[1;33m(\u001b[0m\u001b[1;33m)\u001b[0m\u001b[1;33m\u001b[0m\u001b[1;33m\u001b[0m\u001b[0m\n\u001b[0m",
      "\u001b[1;31mTypeError\u001b[0m: 'str' object is not callable"
     ]
    }
   ],
   "source": [
    "innova.body_type() #it is not a function, body_type is key"
   ]
  },
  {
   "cell_type": "code",
   "execution_count": 17,
   "metadata": {},
   "outputs": [
    {
     "data": {
      "text/plain": [
       "'suv'"
      ]
     },
     "execution_count": 17,
     "metadata": {},
     "output_type": "execute_result"
    }
   ],
   "source": [
    "innova.body_type #by giving the key gets the value(assigned)"
   ]
  },
  {
   "cell_type": "code",
   "execution_count": 20,
   "metadata": {},
   "outputs": [
    {
     "data": {
      "text/plain": [
       "'mini_suv'"
      ]
     },
     "execution_count": 20,
     "metadata": {},
     "output_type": "execute_result"
    }
   ],
   "source": [
    "nexon.body_type"
   ]
  },
  {
   "cell_type": "code",
   "execution_count": 21,
   "metadata": {},
   "outputs": [
    {
     "data": {
      "text/plain": [
       "'toyato'"
      ]
     },
     "execution_count": 21,
     "metadata": {},
     "output_type": "execute_result"
    }
   ],
   "source": [
    "fortune.brand_name"
   ]
  },
  {
   "cell_type": "code",
   "execution_count": 22,
   "metadata": {},
   "outputs": [
    {
     "name": "stdout",
     "output_type": "stream",
     "text": [
      "tata petrol mini_suv\n"
     ]
    }
   ],
   "source": [
    "nexon.desc_car()"
   ]
  },
  {
   "cell_type": "code",
   "execution_count": 23,
   "metadata": {},
   "outputs": [
    {
     "name": "stdout",
     "output_type": "stream",
     "text": [
      "toyato diesel suv\n"
     ]
    }
   ],
   "source": [
    "fortune.desc_car()"
   ]
  },
  {
   "cell_type": "code",
   "execution_count": 26,
   "metadata": {},
   "outputs": [
    {
     "name": "stdout",
     "output_type": "stream",
     "text": [
      "<class 'int'>\n"
     ]
    }
   ],
   "source": [
    "a = 10\n",
    "print(type(a))"
   ]
  },
  {
   "cell_type": "code",
   "execution_count": 27,
   "metadata": {},
   "outputs": [
    {
     "name": "stdout",
     "output_type": "stream",
     "text": [
      "<class 'str'>\n"
     ]
    }
   ],
   "source": [
    "s = \"mohan\"\n",
    "print(type(s))"
   ]
  },
  {
   "cell_type": "raw",
   "metadata": {},
   "source": [
    "What is class variable?\n",
    "class car:\n",
    "    def __init__(self, brand_name, fueltype, body_type): #inbuilt function constructor\n",
    "        self.brand_name = brand_name\n",
    "        self.fueltype = fueltype\n",
    "        self.body_type = body_type\n",
    " self.brand_name, self.fueltype and self.body_type is a class variable.\n",
    " \n",
    " ex: fortuna = class(\"toyato\", \"diesel\", \"suv\")\n",
    " by providing the value at class fortuna, the init constructor pass the the values brand_name, fueltype and bodytype. then it transfers values to brand_name and so on, now self.brand_name is the class variable will get the \"toyota\". \n",
    " \n",
    "now for calling the brand_name (it is indirectly calling the class variable fortuna.self.brand_name == fortuna.brand_name (no self pointer in it)\n",
    "\n",
    "fortuna.brand_name > calling from the fortuna class variable.\n",
    " \n",
    " "
   ]
  },
  {
   "cell_type": "code",
   "execution_count": 4,
   "metadata": {},
   "outputs": [],
   "source": [
    "class car:\n",
    "    def __init__(self, brand_name, fueltype, body_type): #inbuilt function constructor\n",
    "        self.brand = brand_name\n",
    "        self.fueltype = fueltype\n",
    "        self.body_type = body_type\n",
    "        \n",
    "    def desc_car(self):\n",
    "        print(self.brand_name, self.fueltype, self.body_type)"
   ]
  },
  {
   "cell_type": "code",
   "execution_count": 5,
   "metadata": {},
   "outputs": [],
   "source": [
    "innova = car(\"toyota\", \"petrol\", \"suv\")\n",
    "nexon = car(\"tata\", \"petrol\", \"mini_suv\")\n",
    "fortune = car(\"toyato\", \"diesel\", \"suv\")"
   ]
  },
  {
   "cell_type": "code",
   "execution_count": 6,
   "metadata": {},
   "outputs": [
    {
     "ename": "AttributeError",
     "evalue": "'car' object has no attribute 'brand_name'",
     "output_type": "error",
     "traceback": [
      "\u001b[1;31m---------------------------------------------------------------------------\u001b[0m",
      "\u001b[1;31mAttributeError\u001b[0m                            Traceback (most recent call last)",
      "\u001b[1;32m<ipython-input-6-f76ab97fd910>\u001b[0m in \u001b[0;36m<module>\u001b[1;34m\u001b[0m\n\u001b[1;32m----> 1\u001b[1;33m \u001b[0minnova\u001b[0m\u001b[1;33m.\u001b[0m\u001b[0mbrand_name\u001b[0m \u001b[1;31m#reason for this error is due to\u001b[0m\u001b[1;33m\u001b[0m\u001b[1;33m\u001b[0m\u001b[0m\n\u001b[0m",
      "\u001b[1;31mAttributeError\u001b[0m: 'car' object has no attribute 'brand_name'"
     ]
    }
   ],
   "source": [
    "innova.brand_name #reason for this error is due to no such class variable"
   ]
  },
  {
   "cell_type": "code",
   "execution_count": 7,
   "metadata": {},
   "outputs": [
    {
     "data": {
      "text/plain": [
       "'toyota'"
      ]
     },
     "execution_count": 7,
     "metadata": {},
     "output_type": "execute_result"
    }
   ],
   "source": [
    "innova.brand"
   ]
  },
  {
   "cell_type": "code",
   "execution_count": 8,
   "metadata": {},
   "outputs": [
    {
     "ename": "TypeError",
     "evalue": "__init__() missing 1 required positional argument: 'body_type'",
     "output_type": "error",
     "traceback": [
      "\u001b[1;31m---------------------------------------------------------------------------\u001b[0m",
      "\u001b[1;31mTypeError\u001b[0m                                 Traceback (most recent call last)",
      "\u001b[1;32m<ipython-input-8-c5b300b5888a>\u001b[0m in \u001b[0;36m<module>\u001b[1;34m\u001b[0m\n\u001b[1;32m----> 1\u001b[1;33m \u001b[0mmercedes\u001b[0m \u001b[1;33m=\u001b[0m \u001b[0mcar\u001b[0m\u001b[1;33m(\u001b[0m\u001b[1;34m\"benz\"\u001b[0m\u001b[1;33m,\u001b[0m \u001b[1;34m\"petrol\"\u001b[0m\u001b[1;33m)\u001b[0m\u001b[1;33m\u001b[0m\u001b[1;33m\u001b[0m\u001b[0m\n\u001b[0m",
      "\u001b[1;31mTypeError\u001b[0m: __init__() missing 1 required positional argument: 'body_type'"
     ]
    }
   ],
   "source": [
    "mercedes = car(\"benz\", \"petrol\")"
   ]
  },
  {
   "cell_type": "code",
   "execution_count": 14,
   "metadata": {},
   "outputs": [],
   "source": [
    "class car:\n",
    "    def __init__(mohan, brand_name, fueltype, body_type): #inbuilt function constructor\n",
    "        mohan.a = brand_name\n",
    "        mohan.b = fueltype\n",
    "        mohan.c = body_type\n",
    "        \n",
    "    def desc_car(mohan):\n",
    "        print(mohan.a, mohan.b, mohan.c)\n",
    "        \n",
    "#not necessary pointer must be self, it could be other name. i used mohan as pointer."
   ]
  },
  {
   "cell_type": "code",
   "execution_count": 15,
   "metadata": {},
   "outputs": [],
   "source": [
    "mercedes = car(\"benz\", \"petrol\", \"suv\")"
   ]
  },
  {
   "cell_type": "code",
   "execution_count": 16,
   "metadata": {},
   "outputs": [
    {
     "data": {
      "text/plain": [
       "'benz'"
      ]
     },
     "execution_count": 16,
     "metadata": {},
     "output_type": "execute_result"
    }
   ],
   "source": [
    "mercedes.a"
   ]
  },
  {
   "cell_type": "code",
   "execution_count": 17,
   "metadata": {},
   "outputs": [
    {
     "name": "stdout",
     "output_type": "stream",
     "text": [
      "benz petrol suv\n"
     ]
    }
   ],
   "source": [
    "mercedes.desc_car()"
   ]
  },
  {
   "cell_type": "raw",
   "metadata": {},
   "source": [
    "Not defining the any variable (it is not necessary to define the variable)"
   ]
  },
  {
   "cell_type": "code",
   "execution_count": 23,
   "metadata": {},
   "outputs": [],
   "source": [
    "class car:\n",
    "    def test(mohan):\n",
    "        print(\"this is my first method in my car class\")"
   ]
  },
  {
   "cell_type": "code",
   "execution_count": 24,
   "metadata": {},
   "outputs": [],
   "source": [
    "x =car() #not passing any class variable"
   ]
  },
  {
   "cell_type": "code",
   "execution_count": 25,
   "metadata": {},
   "outputs": [
    {
     "name": "stdout",
     "output_type": "stream",
     "text": [
      "this is my first method in my car class\n"
     ]
    }
   ],
   "source": [
    "x.test()"
   ]
  },
  {
   "cell_type": "code",
   "execution_count": 26,
   "metadata": {},
   "outputs": [
    {
     "name": "stdout",
     "output_type": "stream",
     "text": [
      "<class '__main__.car'>\n"
     ]
    }
   ],
   "source": [
    "print(type(x))"
   ]
  },
  {
   "cell_type": "code",
   "execution_count": 28,
   "metadata": {},
   "outputs": [
    {
     "name": "stdout",
     "output_type": "stream",
     "text": [
      "this is my first method in my car class\n",
      "<class 'NoneType'>\n"
     ]
    }
   ],
   "source": [
    "print(type(x.test()))"
   ]
  },
  {
   "cell_type": "code",
   "execution_count": 36,
   "metadata": {},
   "outputs": [],
   "source": [
    "class list_parser:\n",
    "    def __init__(self, l):\n",
    "        self.l = l\n",
    "\n",
    "    def parcer(self):\n",
    "        if type(self.l) == list:\n",
    "            for i in self.l:\n",
    "                print(i)\n",
    "                \n",
    "    def reverse_list(self):\n",
    "         if type(self.l) == list:\n",
    "            return self.l[::-1]"
   ]
  },
  {
   "cell_type": "code",
   "execution_count": 37,
   "metadata": {},
   "outputs": [
    {
     "name": "stdout",
     "output_type": "stream",
     "text": [
      "2\n",
      "3\n",
      "5\n",
      "6\n",
      "67\n"
     ]
    }
   ],
   "source": [
    "c = list_parser([2,3,5,6,67])\n",
    "c.parcer()"
   ]
  },
  {
   "cell_type": "raw",
   "metadata": {},
   "source": [
    "get a list\n",
    "reverse a list\n",
    "odd element\n",
    "indexing\n"
   ]
  },
  {
   "cell_type": "code",
   "execution_count": 39,
   "metadata": {},
   "outputs": [
    {
     "data": {
      "text/plain": [
       "[67, 6, 5, 3, 2]"
      ]
     },
     "execution_count": 39,
     "metadata": {},
     "output_type": "execute_result"
    }
   ],
   "source": [
    "c.reverse_list()"
   ]
  },
  {
   "cell_type": "raw",
   "metadata": {},
   "source": [
    "Create a class for dictionary parsing\n",
    "1. write a func to give all the keys\n",
    "2. write a func to give all the values\n",
    "3. write a func to throw an exception in case of input is not dictionary\n",
    "4. write a func to take user input and then parse a key and value out of dictionary\n",
    "5. write a func to insert new key value parse into dictionary"
   ]
  },
  {
   "cell_type": "code",
   "execution_count": 30,
   "metadata": {},
   "outputs": [],
   "source": [
    "class dict_parse:\n",
    "    def __init__(self, d):\n",
    "        self.d = d\n",
    "    \n",
    "    def keys_dict(self):\n",
    "        '''1. write a func to give all the keys'''\n",
    "        if self.check_dict():\n",
    "            return list(self.d.keys())\n",
    "            \n",
    "    def values_dict(self):\n",
    "        '''2. write a func to give all the values'''\n",
    "        if self.check_dict():\n",
    "            return list(self.d.values())\n",
    "            \n",
    "    def check_dict(self):\n",
    "        '''3. write a func to throw an exception in case of input is not dictionary'''\n",
    "        if type(self.d) != dict:\n",
    "            raise Exception(self.d, \"Input is not a dictionary\")\n",
    "        return 1\n",
    "    \n",
    "    def get_input(self):\n",
    "        '''4. write a func to take user input and then parse a key and value out of dictionary'''\n",
    "        self.d= eval(input())\n",
    "        print(self.d, type(self.d))\n",
    "        print(self.keys_dict())\n",
    "        print(self.values_dict())\n",
    "    \n",
    "    def insertion(self, key, value):\n",
    "        '''5. write a func to insert new key value parse into dictionary'''\n",
    "        self.d[key]=value\n",
    "        return self.d"
   ]
  },
  {
   "cell_type": "raw",
   "metadata": {},
   "source": [
    "Code1 and code2: when you perform the keys_dict() & Values_dict(), it first confirm code3 check_dict() function whether the input is dict or not, if it is dictionary then return 1(TRUE) then check_dict is TRUE and returns the list(self.d.keys() and self.d.values()) for code1 and code2.\n",
    "\n",
    "Code3: if the input is not Dict, then it will raise a custom Exception that Self.d, \"Input is not a dictionary\"\n",
    "\n",
    "Code4: (mostly reuse the codes again and again)\n",
    "Get_input(self), input the value for self.d then it evaluate the input value. if the input is dictionary, it prints out the type of the input then reuse the keys_dict(), values_dict() from code1 and code2.\n",
    "\n",
    "Code5: insertion() upon giving the arguments, it takes the 1st argument as Key and second as Values, then returns the self.d (dictionary)"
   ]
  },
  {
   "cell_type": "code",
   "execution_count": 37,
   "metadata": {},
   "outputs": [],
   "source": [
    "d=dict_parse({'k1':23, \"k20\":[2,3,5,6]})"
   ]
  },
  {
   "cell_type": "code",
   "execution_count": 38,
   "metadata": {},
   "outputs": [
    {
     "data": {
      "text/plain": [
       "['k1', 'k20']"
      ]
     },
     "execution_count": 38,
     "metadata": {},
     "output_type": "execute_result"
    }
   ],
   "source": [
    "d.keys_dict()"
   ]
  },
  {
   "cell_type": "code",
   "execution_count": 39,
   "metadata": {},
   "outputs": [
    {
     "data": {
      "text/plain": [
       "[23, [2, 3, 5, 6]]"
      ]
     },
     "execution_count": 39,
     "metadata": {},
     "output_type": "execute_result"
    }
   ],
   "source": [
    "d.values_dict()"
   ]
  },
  {
   "cell_type": "code",
   "execution_count": 40,
   "metadata": {},
   "outputs": [
    {
     "data": {
      "text/plain": [
       "1"
      ]
     },
     "execution_count": 40,
     "metadata": {},
     "output_type": "execute_result"
    }
   ],
   "source": [
    "d.check_dict()"
   ]
  },
  {
   "cell_type": "code",
   "execution_count": 41,
   "metadata": {},
   "outputs": [
    {
     "name": "stdout",
     "output_type": "stream",
     "text": [
      "{\"k22\":[2,3,5,6]}\n",
      "{'k22': [2, 3, 5, 6]} <class 'dict'>\n",
      "['k22']\n",
      "[[2, 3, 5, 6]]\n"
     ]
    }
   ],
   "source": [
    "d.get_input()"
   ]
  },
  {
   "cell_type": "code",
   "execution_count": 42,
   "metadata": {},
   "outputs": [
    {
     "data": {
      "text/plain": [
       "{'k22': [2, 3, 5, 6], 23: [5, 6, 7, 8]}"
      ]
     },
     "execution_count": 42,
     "metadata": {},
     "output_type": "execute_result"
    }
   ],
   "source": [
    "d.insertion(23,[5,6,7,8])"
   ]
  },
  {
   "cell_type": "code",
   "execution_count": 43,
   "metadata": {},
   "outputs": [
    {
     "data": {
      "text/plain": [
       "<_io.TextIOWrapper name='mydict.py' mode='w' encoding='cp1252'>"
      ]
     },
     "execution_count": 43,
     "metadata": {},
     "output_type": "execute_result"
    }
   ],
   "source": [
    "open(\"mydict.py\", \"w\")"
   ]
  },
  {
   "cell_type": "code",
   "execution_count": 44,
   "metadata": {},
   "outputs": [
    {
     "name": "stdout",
     "output_type": "stream",
     "text": [
      " Volume in drive C has no label.\n",
      " Volume Serial Number is CE08-50A1\n",
      "\n",
      " Directory of C:\\Users\\mral\\Mohana Kalaiyarasan_Data Scientist\\FSDS_iNeuron\n",
      "\n",
      "21/08/2022  04:18 PM    <DIR>          .\n",
      "21/08/2022  04:18 PM    <DIR>          ..\n",
      "21/08/2022  04:11 PM    <DIR>          .ipynb_checkpoints\n",
      "17/08/2022  05:49 PM    <DIR>          __pycache__\n",
      "10/08/2022  09:56 PM            69,297 1) Python basic_String_list_Indexing.ipynb\n",
      "10/08/2022  10:02 PM            50,566 2) Tuple, Set Dict.ipynb\n",
      "10/08/2022  10:43 PM           226,340 3) 19Dec_Python Prog Discussion.ipynb\n",
      "10/08/2022  10:58 PM            28,649 4) Function_23Dec21.ipynb\n",
      "10/08/2022  11:34 PM            53,772 5) Function_Part2_8Jan22.ipynb\n",
      "10/08/2022  11:55 PM            97,813 6) 9th Jan - Iterator, Generator File System.ipynb\n",
      "14/08/2022  08:32 PM         1,397,957 6.1) Function_Assignment_10Aug2022.ipynb\n",
      "16/08/2022  05:23 PM            28,483 7) Exception Handling.ipynb\n",
      "16/08/2022  08:39 PM             8,701 7.1) Logging.ipynb\n",
      "17/08/2022  08:30 PM            20,292 8) Module and Import.ipynb\n",
      "21/08/2022  04:09 PM            21,962 8.1) OOPS concept.ipynb\n",
      "21/08/2022  04:16 PM             5,385 8.2) OOPS with Module_Packages.ipynb\n",
      "12/07/2021  09:41 AM           147,652 file1.pdf\n",
      "10/08/2022  06:16 AM             2,332 google.txt\n",
      "27/11/2021  10:00 AM       239,419,577 IMG_7526.MOV\n",
      "17/08/2022  05:48 PM               230 my_module.py\n",
      "21/08/2022  04:18 PM                 0 mydict.py\n",
      "13/08/2022  10:45 AM            26,187 mywordfile.docx\n",
      "13/08/2022  02:24 PM             3,649 mywordfile.pdf\n",
      "13/08/2022  02:28 PM                 0 new.pdf\n",
      "13/08/2022  02:29 PM           146,057 newPDF.pdf\n",
      "17/08/2022  05:05 PM             1,519 test\n",
      "16/08/2022  07:51 PM             1,193 test.log\n",
      "17/08/2022  05:08 PM                 0 test1.py\n",
      "16/08/2022  03:59 PM                22 test1.txt\n",
      "16/08/2022  08:13 PM             4,042 test2.log\n",
      "17/08/2022  05:25 PM               262 test2.py\n",
      "16/08/2022  08:36 PM             4,011 test3.log\n",
      "14/08/2022  11:21 PM                 6 text1.txt\n",
      "15/02/2018  08:15 PM           161,227 WIN_20180215_20_15_41_Pro.jpg\n",
      "              30 File(s)    241,927,183 bytes\n",
      "               4 Dir(s)  203,043,835,904 bytes free\n"
     ]
    }
   ],
   "source": [
    "ls"
   ]
  },
  {
   "cell_type": "code",
   "execution_count": null,
   "metadata": {},
   "outputs": [],
   "source": []
  }
 ],
 "metadata": {
  "kernelspec": {
   "display_name": "Python 3",
   "language": "python",
   "name": "python3"
  },
  "language_info": {
   "codemirror_mode": {
    "name": "ipython",
    "version": 3
   },
   "file_extension": ".py",
   "mimetype": "text/x-python",
   "name": "python",
   "nbconvert_exporter": "python",
   "pygments_lexer": "ipython3",
   "version": "3.7.6"
  }
 },
 "nbformat": 4,
 "nbformat_minor": 4
}
