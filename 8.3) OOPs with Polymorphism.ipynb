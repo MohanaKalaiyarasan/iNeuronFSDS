{
 "cells": [
  {
   "cell_type": "raw",
   "metadata": {},
   "source": [
    "Polymorphism: Poly means multiple, morphism means forms > Many forms\n",
    "    Ex: daughter\n",
    "    She can be a mother,\n",
    "    she can be a wife,\n",
    "    she can be a sister..\n",
    "    Same person in many form and she fullfill their needs in that role."
   ]
  },
  {
   "cell_type": "raw",
   "metadata": {},
   "source": [
    "Multilabel vs Multiple class\n",
    "Multilable: Class A in Class B > Class B will be in class C..\n",
    "Multiple: Class A and Class B will be in Class C (Child of parents)\n",
    "    \n",
    "Absolute path vs Relative path\n",
    "Absolute: c:\\....\\filename (pin point location)\n",
    "Relative path: file name (will be searched in whole folder)"
   ]
  },
  {
   "cell_type": "code",
   "execution_count": 2,
   "metadata": {},
   "outputs": [],
   "source": [
    "def test(a,b):\n",
    "    return a+b\n",
    "#same function "
   ]
  },
  {
   "cell_type": "code",
   "execution_count": 3,
   "metadata": {},
   "outputs": [
    {
     "data": {
      "text/plain": [
       "7"
      ]
     },
     "execution_count": 3,
     "metadata": {},
     "output_type": "execute_result"
    }
   ],
   "source": [
    "test(3,4) # here it perform addition"
   ]
  },
  {
   "cell_type": "code",
   "execution_count": 5,
   "metadata": {},
   "outputs": [
    {
     "data": {
      "text/plain": [
       "'mohan kalaiyarasan'"
      ]
     },
     "execution_count": 5,
     "metadata": {},
     "output_type": "execute_result"
    }
   ],
   "source": [
    "test(\"mohan\", \" kalaiyarasan\") # here it perform concatenation"
   ]
  },
  {
   "cell_type": "code",
   "execution_count": 2,
   "metadata": {},
   "outputs": [],
   "source": [
    "class insta():\n",
    "    def share_stories(self):\n",
    "        print(\"this is my insta story\")\n",
    "        \n",
    "class facebook():\n",
    "    def share_stories(self):\n",
    "        print(\"this is my facebook story\")"
   ]
  },
  {
   "cell_type": "code",
   "execution_count": 3,
   "metadata": {},
   "outputs": [],
   "source": [
    "def sharestories(app):\n",
    "    app.share_stories()"
   ]
  },
  {
   "cell_type": "code",
   "execution_count": 4,
   "metadata": {},
   "outputs": [],
   "source": [
    "i = insta()\n",
    "f=facebook()"
   ]
  },
  {
   "cell_type": "raw",
   "metadata": {},
   "source": [
    "sharestories(i) > sharestories(insta())\n",
    "sharestories(insta())\n",
    "    insta().share_stories"
   ]
  },
  {
   "cell_type": "code",
   "execution_count": 5,
   "metadata": {},
   "outputs": [
    {
     "name": "stdout",
     "output_type": "stream",
     "text": [
      "this is my insta story\n"
     ]
    }
   ],
   "source": [
    "sharestories(i) #sharestories is a function and it is called by the class insta or facebook"
   ]
  },
  {
   "cell_type": "code",
   "execution_count": 6,
   "metadata": {},
   "outputs": [
    {
     "name": "stdout",
     "output_type": "stream",
     "text": [
      "this is my facebook story\n"
     ]
    }
   ],
   "source": [
    "sharestories(f)"
   ]
  },
  {
   "cell_type": "code",
   "execution_count": 8,
   "metadata": {},
   "outputs": [],
   "source": [
    "class social_media:\n",
    "    def share_stories(self) :\n",
    "        print(\"share a stroies\")\n",
    "    def upload_pic(self) :\n",
    "        print(\"this will help you to upload pic on social media\")\n",
    "        \n",
    "class facebook(social_media) :\n",
    "    def share_stories(self):\n",
    "        print(\"this is a fun for sharing a story for facebook\")\n",
    "    \n",
    "class insta(social_media):\n",
    "    def share_stories(self) :\n",
    "        print(\"this will print a story from insta\")\n",
    "   "
   ]
  },
  {
   "cell_type": "code",
   "execution_count": 9,
   "metadata": {},
   "outputs": [],
   "source": [
    "i = insta()\n",
    "f=facebook()"
   ]
  },
  {
   "cell_type": "code",
   "execution_count": 12,
   "metadata": {},
   "outputs": [
    {
     "name": "stdout",
     "output_type": "stream",
     "text": [
      "this will print a story from insta\n"
     ]
    }
   ],
   "source": [
    "#here the facebook(social_media) has the classes of social media in it\n",
    "# even when it called, it overwrite the parent class and print only the own class definition\n",
    "i.share_stories()"
   ]
  },
  {
   "cell_type": "code",
   "execution_count": 11,
   "metadata": {},
   "outputs": [
    {
     "name": "stdout",
     "output_type": "stream",
     "text": [
      "this is a fun for sharing a story for facebook\n"
     ]
    }
   ],
   "source": [
    "f.share_stories()"
   ]
  },
  {
   "cell_type": "code",
   "execution_count": 13,
   "metadata": {},
   "outputs": [],
   "source": [
    "#raising our own classes at any point of time\n",
    "class test(Exception): #exception class - superclass\n",
    "    def __init__(self , msg  , myval) :\n",
    "        self.msg = msg\n",
    "        self.myval =myval"
   ]
  },
  {
   "cell_type": "code",
   "execution_count": 14,
   "metadata": {},
   "outputs": [
    {
     "name": "stdout",
     "output_type": "stream",
     "text": [
      "('this is my own exception class ', 'Mohana Kalaiyarasan')\n"
     ]
    }
   ],
   "source": [
    "try :\n",
    "    raise(test(\"this is my own exception class \" , \"Mohana Kalaiyarasan\"))\n",
    "except test as t :\n",
    "    print(t)"
   ]
  },
  {
   "cell_type": "raw",
   "metadata": {},
   "source": [
    "q1 create your own class to achive multiple  , multilevel inheritance \n",
    "q2 create your own class to represent ploymorprism \n",
    "q3 create your own class for custom exception\n",
    "q4 create your own class to achieve encaptulation (Protected, private variable)\n",
    "q5 create your own class to achive method overloading and overriding."
   ]
  },
  {
   "cell_type": "code",
   "execution_count": 33,
   "metadata": {},
   "outputs": [
    {
     "name": "stdout",
     "output_type": "stream",
     "text": [
      "Batch : 2\n",
      "course : FSDS\n"
     ]
    }
   ],
   "source": [
    "#Multiple inheritance\n",
    "#q1 create your own class to achive multiple  , multilevel inheritance \n",
    " \n",
    "# Parent class1\n",
    "class Batch_number:\n",
    "    batchnumber = \"\" #Class / static variable\n",
    "    def __init__(self,a,b,c):\n",
    "        self.a = a  #instance variable / object varaible (a,b,c)\n",
    "        self.b= b  \n",
    "        self.c = c \n",
    "    #@staticmethod   # it is decorater, static method, system considered it as a class function not instance method\n",
    "    def batch(self):\n",
    "        print(self.batchnumber)\n",
    " \n",
    "# Parent class2\n",
    "class course_name:\n",
    "    cname = \"\" #static variable\n",
    "    def course(self):\n",
    "        print(self.cname)\n",
    " \n",
    "# Child class\n",
    "class Student(Batch_number, course_name):\n",
    "    def deets(self):\n",
    "        print(\"Batch :\", self.batchnumber)\n",
    "        print(\"course :\", self.cname)\n",
    " \n",
    "# Child class code\n",
    "s1 = Student(4,5,6)\n",
    "s1.batchnumber = \"2\" #overwriting own values\n",
    "s1.cname = \"FSDS\" #overwriting own values\n",
    "s1.deets()\n"
   ]
  },
  {
   "cell_type": "code",
   "execution_count": 45,
   "metadata": {},
   "outputs": [
    {
     "data": {
      "text/plain": [
       "'Mohana Kalaiyarasan'"
      ]
     },
     "execution_count": 45,
     "metadata": {},
     "output_type": "execute_result"
    }
   ],
   "source": [
    "#how can we access the class variable\n",
    "bn = Batch_number(4,5,6)\n",
    "bn.batchnumber"
   ]
  },
  {
   "cell_type": "code",
   "execution_count": 22,
   "metadata": {},
   "outputs": [
    {
     "data": {
      "text/plain": [
       "4"
      ]
     },
     "execution_count": 22,
     "metadata": {},
     "output_type": "execute_result"
    }
   ],
   "source": [
    "bn.a"
   ]
  },
  {
   "cell_type": "code",
   "execution_count": 23,
   "metadata": {},
   "outputs": [
    {
     "data": {
      "text/plain": [
       "1"
      ]
     },
     "execution_count": 23,
     "metadata": {},
     "output_type": "execute_result"
    }
   ],
   "source": [
    "bn1 = Batch_number(1,2,3)\n",
    "bn1.a"
   ]
  },
  {
   "cell_type": "code",
   "execution_count": 46,
   "metadata": {},
   "outputs": [
    {
     "data": {
      "text/plain": [
       "'mohan'"
      ]
     },
     "execution_count": 46,
     "metadata": {},
     "output_type": "execute_result"
    }
   ],
   "source": [
    "bn1.batchnumber"
   ]
  },
  {
   "cell_type": "code",
   "execution_count": 25,
   "metadata": {},
   "outputs": [
    {
     "data": {
      "text/plain": [
       "''"
      ]
     },
     "execution_count": 25,
     "metadata": {},
     "output_type": "execute_result"
    }
   ],
   "source": [
    "Batch_number.batchnumber"
   ]
  },
  {
   "cell_type": "code",
   "execution_count": 26,
   "metadata": {},
   "outputs": [],
   "source": [
    "#what if we define new value\n",
    "bn1.batchnumber = \"mohan\""
   ]
  },
  {
   "cell_type": "code",
   "execution_count": 27,
   "metadata": {},
   "outputs": [
    {
     "data": {
      "text/plain": [
       "'mohan'"
      ]
     },
     "execution_count": 27,
     "metadata": {},
     "output_type": "execute_result"
    }
   ],
   "source": [
    "bn1.batchnumber #new value accessed"
   ]
  },
  {
   "cell_type": "code",
   "execution_count": 39,
   "metadata": {},
   "outputs": [
    {
     "data": {
      "text/plain": [
       "''"
      ]
     },
     "execution_count": 39,
     "metadata": {},
     "output_type": "execute_result"
    }
   ],
   "source": [
    "bn.batchnumber #still remain the same"
   ]
  },
  {
   "cell_type": "code",
   "execution_count": 44,
   "metadata": {},
   "outputs": [],
   "source": [
    "Batch_number.batchnumber = \"Mohana Kalaiyarasan\""
   ]
  },
  {
   "cell_type": "code",
   "execution_count": 40,
   "metadata": {},
   "outputs": [
    {
     "data": {
      "text/plain": [
       "'mohan'"
      ]
     },
     "execution_count": 40,
     "metadata": {},
     "output_type": "execute_result"
    }
   ],
   "source": [
    "bn1.batchnumber"
   ]
  },
  {
   "cell_type": "code",
   "execution_count": 41,
   "metadata": {},
   "outputs": [
    {
     "data": {
      "text/plain": [
       "''"
      ]
     },
     "execution_count": 41,
     "metadata": {},
     "output_type": "execute_result"
    }
   ],
   "source": [
    "bn.batchnumber"
   ]
  },
  {
   "cell_type": "raw",
   "metadata": {},
   "source": [
    "# Parent class1\n",
    "class Batch_number:\n",
    "    batchnumber = \"\" #Class / static variable\n",
    "    def __init__(self,a,b,c):\n",
    "        self.a = a  #instance variable / object varaible (a,b,c)\n",
    "        self.b= b  \n",
    "        self.c = c \n",
    "    #@staticmethod   # it is decorater, static method, system considered it as a class function not instance method\n",
    "    def batch(self):\n",
    "        print(self.batchnumber)\n",
    "        \n",
    "If dont want to treat the batch(self) is a instance, define the @staticmethod then this would like class function, then remove self in the function.\n"
   ]
  },
  {
   "cell_type": "code",
   "execution_count": 55,
   "metadata": {},
   "outputs": [],
   "source": [
    "# Parent class1\n",
    "class Batch_number:\n",
    "    batchnumber = \"\" #Class / static variable\n",
    "    def __init__(self,a,b,c):\n",
    "        self.a = a  #instance variable / object varaible (a,b,c)\n",
    "        self.b= b  \n",
    "        self.c = c \n",
    "    #@staticmethod   # it is decorater, static method, system considered it as a class function not instance method\n",
    "    def batch():\n",
    "        print(self.batchnumber)"
   ]
  },
  {
   "cell_type": "code",
   "execution_count": 56,
   "metadata": {},
   "outputs": [],
   "source": [
    "bn = Batch_number(2,3,4)"
   ]
  },
  {
   "cell_type": "code",
   "execution_count": 57,
   "metadata": {},
   "outputs": [
    {
     "ename": "TypeError",
     "evalue": "batch() takes 0 positional arguments but 1 was given",
     "output_type": "error",
     "traceback": [
      "\u001b[1;31m---------------------------------------------------------------------------\u001b[0m",
      "\u001b[1;31mTypeError\u001b[0m                                 Traceback (most recent call last)",
      "\u001b[1;32m<ipython-input-57-d10156fc677b>\u001b[0m in \u001b[0;36m<module>\u001b[1;34m\u001b[0m\n\u001b[1;32m----> 1\u001b[1;33m \u001b[0mbn\u001b[0m\u001b[1;33m.\u001b[0m\u001b[0mbatch\u001b[0m\u001b[1;33m(\u001b[0m\u001b[1;33m)\u001b[0m\u001b[1;33m\u001b[0m\u001b[1;33m\u001b[0m\u001b[0m\n\u001b[0m\u001b[0;32m      2\u001b[0m \u001b[1;31m#error is not defined as Static method and self is not removed from the batch function.\u001b[0m\u001b[1;33m\u001b[0m\u001b[1;33m\u001b[0m\u001b[1;33m\u001b[0m\u001b[0m\n",
      "\u001b[1;31mTypeError\u001b[0m: batch() takes 0 positional arguments but 1 was given"
     ]
    }
   ],
   "source": [
    "bn.batch()\n",
    "#error is self not defined in the function."
   ]
  },
  {
   "cell_type": "code",
   "execution_count": 60,
   "metadata": {},
   "outputs": [],
   "source": [
    "# Parent class1\n",
    "class Batch_number:\n",
    "    batchnumber = \"\" #Class / static variable\n",
    "    def __init__(self,a,b,c):\n",
    "        self.a = a  #instance variable / object varaible (a,b,c)\n",
    "        self.b= b  \n",
    "        self.c = c \n",
    "    @staticmethod   # it is decorater, static method, predefined function, system considered it as a class function not instance method\n",
    "    def batch():\n",
    "        print(\"this is static method\")"
   ]
  },
  {
   "cell_type": "code",
   "execution_count": 62,
   "metadata": {},
   "outputs": [
    {
     "name": "stdout",
     "output_type": "stream",
     "text": [
      "this is static method\n"
     ]
    }
   ],
   "source": [
    "bn = Batch_number(2,3,4)\n",
    "bn.batch()"
   ]
  },
  {
   "cell_type": "raw",
   "metadata": {},
   "source": [
    "To access the Static varaible:    "
   ]
  },
  {
   "cell_type": "code",
   "execution_count": 63,
   "metadata": {},
   "outputs": [
    {
     "data": {
      "text/plain": [
       "''"
      ]
     },
     "execution_count": 63,
     "metadata": {},
     "output_type": "execute_result"
    }
   ],
   "source": [
    "Batch_number.batchnumber"
   ]
  },
  {
   "cell_type": "raw",
   "metadata": {},
   "source": [
    "To access the Instance varaible, must create a object then access it (without object cannot access it)"
   ]
  },
  {
   "cell_type": "code",
   "execution_count": 64,
   "metadata": {},
   "outputs": [],
   "source": [
    "bn = Batch_number(3,4,5)"
   ]
  },
  {
   "cell_type": "code",
   "execution_count": 65,
   "metadata": {},
   "outputs": [
    {
     "data": {
      "text/plain": [
       "3"
      ]
     },
     "execution_count": 65,
     "metadata": {},
     "output_type": "execute_result"
    }
   ],
   "source": [
    "bn.a"
   ]
  },
  {
   "cell_type": "code",
   "execution_count": 71,
   "metadata": {},
   "outputs": [],
   "source": [
    "# Static class varaible and instance varaible\n",
    "class Batch_number:\n",
    "    batchnumber = \"FSDS\" #Class / static variable\n",
    "    def __init__(self,a,b,c):\n",
    "        self.a = a  #instance variable / object varaible (a,b,c)\n",
    "        self.b= b  \n",
    "        self.c = c \n",
    "    @staticmethod   # it is decorater, static method, predefined function, system considered it as a class function not instance method\n",
    "    def batch():\n",
    "        print(\"this is static method\")\n",
    "        \n",
    "    def batch1(self):\n",
    "        print(\"this is a Instance varaible, must assign object varaible to access it in static batch 1 method\")"
   ]
  },
  {
   "cell_type": "code",
   "execution_count": 67,
   "metadata": {},
   "outputs": [
    {
     "name": "stdout",
     "output_type": "stream",
     "text": [
      "this is static method\n"
     ]
    }
   ],
   "source": [
    "Batch_number.batch()"
   ]
  },
  {
   "cell_type": "code",
   "execution_count": 68,
   "metadata": {},
   "outputs": [
    {
     "ename": "TypeError",
     "evalue": "batch1() missing 1 required positional argument: 'self'",
     "output_type": "error",
     "traceback": [
      "\u001b[1;31m---------------------------------------------------------------------------\u001b[0m",
      "\u001b[1;31mTypeError\u001b[0m                                 Traceback (most recent call last)",
      "\u001b[1;32m<ipython-input-68-375e9f5672c3>\u001b[0m in \u001b[0;36m<module>\u001b[1;34m\u001b[0m\n\u001b[1;32m----> 1\u001b[1;33m \u001b[0mBatch_number\u001b[0m\u001b[1;33m.\u001b[0m\u001b[0mbatch1\u001b[0m\u001b[1;33m(\u001b[0m\u001b[1;33m)\u001b[0m\u001b[1;33m\u001b[0m\u001b[1;33m\u001b[0m\u001b[0m\n\u001b[0m",
      "\u001b[1;31mTypeError\u001b[0m: batch1() missing 1 required positional argument: 'self'"
     ]
    }
   ],
   "source": [
    "Batch_number.batch1() #this is not a static method, which is a instance variable and must define the arguments"
   ]
  },
  {
   "cell_type": "code",
   "execution_count": 72,
   "metadata": {},
   "outputs": [
    {
     "data": {
      "text/plain": [
       "<bound method Batch_number.batch1 of <__main__.Batch_number object at 0x00000290E9B15DC8>>"
      ]
     },
     "execution_count": 72,
     "metadata": {},
     "output_type": "execute_result"
    }
   ],
   "source": [
    "bn1 = Batch_number(1,2,3)\n",
    "bn1.batch1"
   ]
  },
  {
   "cell_type": "code",
   "execution_count": 73,
   "metadata": {},
   "outputs": [
    {
     "name": "stdout",
     "output_type": "stream",
     "text": [
      "this is a Instance varaible, must assign object varaible to access it in static batch 1 method\n"
     ]
    }
   ],
   "source": [
    "bn1.batch1()"
   ]
  },
  {
   "cell_type": "raw",
   "metadata": {},
   "source": [
    "2 ways to differentiate the static variable\n",
    "1) defined @staticmethod  (decorator / utility function)\n",
    "    def batch():\n",
    "        print(\"this is static method\")\n",
    "2) Dont define self\n",
    "    def batch():\n",
    "        print(\"this is static method\")"
   ]
  },
  {
   "cell_type": "code",
   "execution_count": 74,
   "metadata": {},
   "outputs": [],
   "source": [
    "class accountdetail :\n",
    "    account_no = \"2354535345435\" #static varaible\n",
    "    def __init__(self, amount) :\n",
    "        self.amount = amount\n",
    "        \n",
    "    def show_balance(self , deduction) :\n",
    "        self.amount = self.amount - deduction\n",
    "        return self.amount ,account_no"
   ]
  },
  {
   "cell_type": "code",
   "execution_count": 75,
   "metadata": {},
   "outputs": [
    {
     "name": "stdout",
     "output_type": "stream",
     "text": [
      "This is my method of xyz1 class\n"
     ]
    }
   ],
   "source": [
    "#multilevel inheritance\n",
    "class xyz:\n",
    "    def __init__(self,a,b,c):\n",
    "        self.a=a\n",
    "        self.b=b\n",
    "        self.c=c\n",
    "    \n",
    "    def test(self):\n",
    "            print(\"This is my method of xyz class\")\n",
    "class xyz1(xyz):\n",
    "    def test1(self):\n",
    "        print(\"This is my method of xyz1 class\")\n",
    "        \n",
    "class xyz2(xyz1):\n",
    "    def test2(self):\n",
    "        print(\"method of xyz2 class\")\n",
    "        \n",
    "n=xyz1(3,4,5)\n",
    "n.test1()\n"
   ]
  },
  {
   "cell_type": "code",
   "execution_count": 83,
   "metadata": {},
   "outputs": [
    {
     "name": "stdout",
     "output_type": "stream",
     "text": [
      "enter first number 2\n",
      "enter second number 5\n",
      "division by 5 error\n"
     ]
    }
   ],
   "source": [
    "#q3 create your own class for custom exception\n",
    "class division_by_5 (Exception):\n",
    "    def __init__ (self,msg):\n",
    "        self.msg = msg\n",
    "try:\n",
    "    a= int(input(\"enter first number \"))\n",
    "    b= int(input(\"enter second number \"))\n",
    "\n",
    "    if b == 5:\n",
    "        raise division_by_5(\"division by 5 error\")\n",
    "except ValueError as msg:\n",
    "        print(msg)\n",
    "except ZeroDivisionError as msg:\n",
    "        print(msg)\n",
    "except division_by_5 as msg:\n",
    "         print(msg)\n",
    "else:\n",
    "    result = a/b\n",
    "    print(result)\n",
    "        "
   ]
  },
  {
   "cell_type": "code",
   "execution_count": 84,
   "metadata": {},
   "outputs": [
    {
     "name": "stdout",
     "output_type": "stream",
     "text": [
      "enter first number 4\n",
      "enter second number 0\n"
     ]
    },
    {
     "ename": "ZeroDivisionError",
     "evalue": "division by zero",
     "output_type": "error",
     "traceback": [
      "\u001b[1;31m---------------------------------------------------------------------------\u001b[0m",
      "\u001b[1;31mZeroDivisionError\u001b[0m                         Traceback (most recent call last)",
      "\u001b[1;32m<ipython-input-84-6af09d4d2028>\u001b[0m in \u001b[0;36m<module>\u001b[1;34m\u001b[0m\n\u001b[0;32m     14\u001b[0m          \u001b[0mprint\u001b[0m\u001b[1;33m(\u001b[0m\u001b[0mmsg\u001b[0m\u001b[1;33m)\u001b[0m\u001b[1;33m\u001b[0m\u001b[1;33m\u001b[0m\u001b[0m\n\u001b[0;32m     15\u001b[0m \u001b[1;32melse\u001b[0m\u001b[1;33m:\u001b[0m\u001b[1;33m\u001b[0m\u001b[1;33m\u001b[0m\u001b[0m\n\u001b[1;32m---> 16\u001b[1;33m     \u001b[0mresult\u001b[0m \u001b[1;33m=\u001b[0m \u001b[0ma\u001b[0m\u001b[1;33m/\u001b[0m\u001b[0mb\u001b[0m\u001b[1;33m\u001b[0m\u001b[1;33m\u001b[0m\u001b[0m\n\u001b[0m\u001b[0;32m     17\u001b[0m     \u001b[0mprint\u001b[0m\u001b[1;33m(\u001b[0m\u001b[0mresult\u001b[0m\u001b[1;33m)\u001b[0m\u001b[1;33m\u001b[0m\u001b[1;33m\u001b[0m\u001b[0m\n",
      "\u001b[1;31mZeroDivisionError\u001b[0m: division by zero"
     ]
    }
   ],
   "source": [
    "class division_by_5 (Exception):\n",
    "    def __init__ (self,msg):\n",
    "        self.msg = msg\n",
    "try:\n",
    "    a= int(input(\"enter first number \"))\n",
    "    b= int(input(\"enter second number \"))\n",
    "    if b == 5:\n",
    "        raise division_by_5(\"division by 5 error\")\n",
    "except ValueError as msg:\n",
    "        print(msg)\n",
    "except ZeroDivisionError as msg:\n",
    "        print(msg)\n",
    "except division_by_5 as msg:\n",
    "         print(msg)\n",
    "else:\n",
    "    result = a/b\n",
    "    print(result)"
   ]
  },
  {
   "cell_type": "code",
   "execution_count": 85,
   "metadata": {},
   "outputs": [
    {
     "name": "stdout",
     "output_type": "stream",
     "text": [
      "enter first number 4\n",
      "enter second number 0\n",
      "division by zero\n"
     ]
    }
   ],
   "source": [
    "#try .. Except ... Else block\n",
    "# if no issue at try block then only Else block will be executed, \n",
    "# if there is issue at try block and it is handled by exception block\n",
    "\n",
    "class division_by_5 (Exception):\n",
    "    def __init__ (self,msg):\n",
    "        self.msg = msg\n",
    "try:\n",
    "    a= int(input(\"enter first number \"))\n",
    "    b= int(input(\"enter second number \"))\n",
    "    if b == 5:\n",
    "        raise division_by_5(\"division by 5 error\")\n",
    "except ValueError as msg:\n",
    "        print(msg)\n",
    "except ZeroDivisionError as msg:\n",
    "        print(msg)\n",
    "except division_by_5 as msg:\n",
    "         print(msg)\n",
    "else:\n",
    "    try :\n",
    "        result = a/b\n",
    "        print(result)\n",
    "        \n",
    "    except Exception as e :\n",
    "        print(e)"
   ]
  },
  {
   "cell_type": "code",
   "execution_count": 90,
   "metadata": {},
   "outputs": [
    {
     "name": "stdout",
     "output_type": "stream",
     "text": [
      "enter first number 4\n",
      "enter second number 0\n",
      "division by zero :handled by exception\n"
     ]
    }
   ],
   "source": [
    "class division_by_5 (Exception):\n",
    "    def __init__ (self,msg):\n",
    "        self.msg = msg\n",
    "try:\n",
    "    a= int(input(\"enter first number \"))\n",
    "    b= int(input(\"enter second number \"))\n",
    "    a/b #by having this a/b will have try block failure and then it is handled in the exception block\n",
    "    if b == 5:\n",
    "        raise division_by_5(\"division by 5 error\")\n",
    "except ValueError as msg:\n",
    "        print(msg)\n",
    "except ZeroDivisionError as msg:\n",
    "        print(msg, \":handled by exception\")\n",
    "except division_by_5 as msg:\n",
    "         print(msg)\n",
    "else:\n",
    "    result = a/b\n",
    "    print(result)\n",
    "   "
   ]
  },
  {
   "cell_type": "markdown",
   "metadata": {},
   "source": [
    "# Abstraction"
   ]
  },
  {
   "cell_type": "raw",
   "metadata": {},
   "source": [
    "Leader, who handle multiple team, packages and files\n",
    "it is very difficult to remember all the classes, packages and files, people are working on..\n",
    "\n",
    "as a leader, we create a class abstract (blue print) structure to know about the work..\n",
    "we discuss and create a abstraction, list down the task for each and averyone\n",
    "Below is the list of work that the leader divide to each member\n",
    "readfile, validate file, datatype, db connection, create conn, insert data, delete data, update data, perform statistics and perform eda function"
   ]
  },
  {
   "cell_type": "code",
   "execution_count": 93,
   "metadata": {},
   "outputs": [],
   "source": [
    "class abc:\n",
    "    pass"
   ]
  },
  {
   "cell_type": "code",
   "execution_count": 95,
   "metadata": {},
   "outputs": [],
   "source": [
    "#abstraction concept:\n",
    "\n",
    "from abc import abstractmethod\n",
    "\n",
    "class data_project :\n",
    "    \n",
    "    @abstractmethod #decorator, without also can create the abstraction\n",
    "    def read_file(self) :\n",
    "        pass\n",
    "    \n",
    "    def validate_file_name(self) :\n",
    "        pass\n",
    "    \n",
    "    def validate_datatype(self) :\n",
    "        pass\n",
    "    \n",
    "    def validate_db_connn(self) :\n",
    "        pass\n",
    "    \n",
    "    def create_connn(self) :\n",
    "        pass\n",
    "    \n",
    "    def insert_data(self) :\n",
    "        pass\n",
    "    \n",
    "    def delete_data(self):\n",
    "        pass\n",
    "    \n",
    "    def update_data(self) :\n",
    "        pass\n",
    "    \n",
    "    def perform_stats(self) :\n",
    "        pass\n",
    "    \n",
    "    def perform_eda(self) :\n",
    "        pass\n",
    "    "
   ]
  },
  {
   "cell_type": "code",
   "execution_count": 97,
   "metadata": {},
   "outputs": [],
   "source": [
    "#person1\n",
    "class db_ops(data_project):\n",
    "    pass\n",
    "    \n",
    "    "
   ]
  },
  {
   "cell_type": "raw",
   "metadata": {},
   "source": [
    "Overloading vs Overriding:\n",
    "Overriding means same fun in child classes that is inheritance and try to redefine it.\n",
    "Overloading means inherited with some independent function but try to give new definition\n",
    "\n",
    "class test:\n",
    "    def fun(self):\n",
    "        print(\"this is my sample class\")\n",
    "    def __str__(self): #overloading function\n",
    "        return str(\"this is a fun called at a time of object print\")        \n",
    "        "
   ]
  },
  {
   "cell_type": "code",
   "execution_count": 98,
   "metadata": {},
   "outputs": [],
   "source": [
    "class test:\n",
    "    def fun(self):\n",
    "        print(\"this is my sample class\")"
   ]
  },
  {
   "cell_type": "code",
   "execution_count": 99,
   "metadata": {},
   "outputs": [],
   "source": [
    "t = test()"
   ]
  },
  {
   "cell_type": "code",
   "execution_count": 103,
   "metadata": {},
   "outputs": [
    {
     "name": "stdout",
     "output_type": "stream",
     "text": [
      "<bound method test.fun of <__main__.test object at 0x00000290EA632188>>\n"
     ]
    }
   ],
   "source": [
    "print(t.fun)"
   ]
  },
  {
   "cell_type": "code",
   "execution_count": 111,
   "metadata": {},
   "outputs": [
    {
     "name": "stdout",
     "output_type": "stream",
     "text": [
      "<__main__.test object at 0x00000290EA632188>\n"
     ]
    }
   ],
   "source": [
    "print(t)"
   ]
  },
  {
   "cell_type": "code",
   "execution_count": 104,
   "metadata": {},
   "outputs": [
    {
     "name": "stdout",
     "output_type": "stream",
     "text": [
      "this is my sample class\n"
     ]
    }
   ],
   "source": [
    "t.fun()"
   ]
  },
  {
   "cell_type": "code",
   "execution_count": 105,
   "metadata": {},
   "outputs": [
    {
     "name": "stdout",
     "output_type": "stream",
     "text": [
      "this is my sample class\n",
      "None\n"
     ]
    }
   ],
   "source": [
    "print(t.fun())"
   ]
  },
  {
   "cell_type": "code",
   "execution_count": 113,
   "metadata": {},
   "outputs": [],
   "source": [
    "class test:\n",
    "    def fun(self):\n",
    "        print(\"this is my sample class\")\n",
    "    \n",
    "    def __str__(self): #__init__ is a overload function, inbuilt fun which give you a messages at any time\n",
    "        return str(\"this is a fun called at a time of object print\") #type casting"
   ]
  },
  {
   "cell_type": "code",
   "execution_count": 107,
   "metadata": {},
   "outputs": [],
   "source": [
    "t1= test()"
   ]
  },
  {
   "cell_type": "code",
   "execution_count": 108,
   "metadata": {},
   "outputs": [
    {
     "data": {
      "text/plain": [
       "<__main__.test at 0x290e9a38348>"
      ]
     },
     "execution_count": 108,
     "metadata": {},
     "output_type": "execute_result"
    }
   ],
   "source": [
    "t1"
   ]
  },
  {
   "cell_type": "code",
   "execution_count": 109,
   "metadata": {},
   "outputs": [
    {
     "name": "stdout",
     "output_type": "stream",
     "text": [
      "this is my sample class\n"
     ]
    }
   ],
   "source": [
    "t1.fun()"
   ]
  },
  {
   "cell_type": "code",
   "execution_count": 112,
   "metadata": {},
   "outputs": [
    {
     "name": "stdout",
     "output_type": "stream",
     "text": [
      "this is a fun called at a time of object print\n"
     ]
    }
   ],
   "source": [
    "print(t1) #here i am printing a function but now it is printing my custom defined description at __str__"
   ]
  },
  {
   "cell_type": "raw",
   "metadata": {},
   "source": [
    "__init__ >> behave like constructor, gets the values for your variables/arguments in the class\n",
    "__str__ >> behave like providing a message for your object."
   ]
  },
  {
   "cell_type": "raw",
   "metadata": {},
   "source": [
    "SQL:\n",
    "SQL lite\n",
    "SQL\n",
    "\n",
    "NOSQL:\n",
    "Mongo DB\n",
    "cassandra\n",
    "\n",
    "MongoDB Atlas (online platform, signup)\n",
    "Datastax Cassandra (Online)\n",
    "\n",
    "Write code in python, and test in those platform"
   ]
  },
  {
   "cell_type": "code",
   "execution_count": 115,
   "metadata": {},
   "outputs": [],
   "source": [
    "#overriding means inherited and modified in another class\n",
    "\n",
    "class test :\n",
    "    def __init__(self, a , b , c):\n",
    "        self.a = a \n",
    "        self.b = b \n",
    "        self.c = c \n",
    "    def __str__(self) :\n",
    "        return \"fsfsafsdfsaf\"\n",
    "    \n",
    "    def class_fun(self) :\n",
    "        print(\"this is a print form class_fun\")\n",
    "    \n",
    "class test1(test):\n",
    "    def class_fun(self) :\n",
    "        print(\"fsdfdsfsfs dfdsf dsf sds\")\n",
    "#here, the class_fun is in class test and class test1, but execute and print from both\n",
    "# will be different. \n",
    "#this is called overriding"
   ]
  },
  {
   "cell_type": "code",
   "execution_count": 116,
   "metadata": {},
   "outputs": [],
   "source": [
    "test1_obj = test1(2,3,4)\n",
    "test_obj = test(4,5,6)"
   ]
  },
  {
   "cell_type": "code",
   "execution_count": 117,
   "metadata": {},
   "outputs": [
    {
     "name": "stdout",
     "output_type": "stream",
     "text": [
      "fsdfdsfsfs dfdsf dsf sds\n"
     ]
    }
   ],
   "source": [
    "test1_obj.class_fun()"
   ]
  },
  {
   "cell_type": "code",
   "execution_count": 118,
   "metadata": {},
   "outputs": [
    {
     "name": "stdout",
     "output_type": "stream",
     "text": [
      "this is a print form class_fun\n"
     ]
    }
   ],
   "source": [
    "test_obj.class_fun()"
   ]
  },
  {
   "cell_type": "code",
   "execution_count": 1,
   "metadata": {},
   "outputs": [
    {
     "name": "stdout",
     "output_type": "stream",
     "text": [
      "1\n",
      "2\n",
      "2\n",
      "1\n",
      "1\n",
      "5\n"
     ]
    }
   ],
   "source": [
    "l=[]\n",
    "for i in range(6):\n",
    "    l.append(int(input()))"
   ]
  },
  {
   "cell_type": "code",
   "execution_count": 2,
   "metadata": {},
   "outputs": [
    {
     "data": {
      "text/plain": [
       "[1, 2, 2, 1, 1, 5]"
      ]
     },
     "execution_count": 2,
     "metadata": {},
     "output_type": "execute_result"
    }
   ],
   "source": [
    "l"
   ]
  },
  {
   "cell_type": "code",
   "execution_count": 3,
   "metadata": {},
   "outputs": [],
   "source": [
    "#overloading example with above fun\n",
    "\n",
    "class test :\n",
    "    l = []\n",
    "    def __init__(self , b , c):\n",
    "        for i in range(6) :\n",
    "               l.append(int(input()))\n",
    "        self.l = l\n",
    "        self.b = b \n",
    "        self.c = c \n",
    "    def __str__(self) :\n",
    "        return \"fsfsafsdfsaf\""
   ]
  },
  {
   "cell_type": "code",
   "execution_count": 4,
   "metadata": {},
   "outputs": [
    {
     "name": "stdout",
     "output_type": "stream",
     "text": [
      "2\n",
      "4\n",
      "4\n",
      "5\n",
      "6\n",
      "7\n"
     ]
    }
   ],
   "source": [
    "t = test(3,5)"
   ]
  },
  {
   "cell_type": "code",
   "execution_count": 6,
   "metadata": {},
   "outputs": [
    {
     "data": {
      "text/plain": [
       "[1, 2, 2, 1, 1, 5, 2, 4, 4, 5, 6, 7]"
      ]
     },
     "execution_count": 6,
     "metadata": {},
     "output_type": "execute_result"
    }
   ],
   "source": [
    "l"
   ]
  },
  {
   "cell_type": "code",
   "execution_count": 20,
   "metadata": {},
   "outputs": [
    {
     "data": {
      "text/plain": [
       "' My Name is mohan and Roll is  12 salary is 1200'"
      ]
     },
     "execution_count": 20,
     "metadata": {},
     "output_type": "execute_result"
    }
   ],
   "source": [
    "class A:\n",
    "    def __init__(self,name,roll):\n",
    "        self.name = name\n",
    "        self.roll = roll \n",
    "    def get(self):\n",
    "        return f\"{self.name} and {self.roll}\"\n",
    "\n",
    "class B(A):\n",
    "    def __init__(self,name, roll, salary):\n",
    "        self.salary = salary\n",
    "        A.__init__(self,name, roll)\n",
    "    def get(self):\n",
    "        return f\" My Name is {self.name} and Roll is  {self.roll} salary is {self.salary}\"\n",
    "    \n",
    "\n",
    "b = B(\"mohan\", 12, 1200)\n",
    "b.get()\n"
   ]
  },
  {
   "cell_type": "code",
   "execution_count": 21,
   "metadata": {},
   "outputs": [
    {
     "ename": "TypeError",
     "evalue": "Cannot create a consistent method resolution\norder (MRO) for bases A, B",
     "output_type": "error",
     "traceback": [
      "\u001b[1;31m---------------------------------------------------------------------------\u001b[0m",
      "\u001b[1;31mTypeError\u001b[0m                                 Traceback (most recent call last)",
      "\u001b[1;32m<ipython-input-21-0f9067b53e0d>\u001b[0m in \u001b[0;36m<module>\u001b[1;34m\u001b[0m\n\u001b[1;32m----> 1\u001b[1;33m \u001b[1;32mclass\u001b[0m \u001b[0mC\u001b[0m\u001b[1;33m(\u001b[0m\u001b[0mA\u001b[0m\u001b[1;33m,\u001b[0m\u001b[0mB\u001b[0m\u001b[1;33m)\u001b[0m\u001b[1;33m:\u001b[0m\u001b[1;33m\u001b[0m\u001b[1;33m\u001b[0m\u001b[0m\n\u001b[0m\u001b[0;32m      2\u001b[0m     \u001b[1;32mdef\u001b[0m \u001b[0m__init__\u001b[0m\u001b[1;33m(\u001b[0m\u001b[0mself\u001b[0m\u001b[1;33m,\u001b[0m \u001b[0maddress\u001b[0m \u001b[1;33m,\u001b[0m \u001b[1;33m*\u001b[0m\u001b[0margs\u001b[0m  \u001b[1;33m,\u001b[0m \u001b[1;33m**\u001b[0m\u001b[0mkwargs\u001b[0m\u001b[1;33m)\u001b[0m\u001b[1;33m:\u001b[0m\u001b[1;33m\u001b[0m\u001b[1;33m\u001b[0m\u001b[0m\n\u001b[0;32m      3\u001b[0m         \u001b[0mself\u001b[0m\u001b[1;33m.\u001b[0m\u001b[0maddress\u001b[0m \u001b[1;33m=\u001b[0m \u001b[0maddress\u001b[0m\u001b[1;33m\u001b[0m\u001b[1;33m\u001b[0m\u001b[0m\n\u001b[0;32m      4\u001b[0m         \u001b[0mA\u001b[0m\u001b[1;33m.\u001b[0m\u001b[0m__init__\u001b[0m\u001b[1;33m(\u001b[0m\u001b[0mself\u001b[0m\u001b[1;33m,\u001b[0m\u001b[1;33m*\u001b[0m\u001b[0margs\u001b[0m\u001b[1;33m)\u001b[0m\u001b[1;33m\u001b[0m\u001b[1;33m\u001b[0m\u001b[0m\n\u001b[0;32m      5\u001b[0m         \u001b[0mB\u001b[0m\u001b[1;33m.\u001b[0m\u001b[0m__init__\u001b[0m\u001b[1;33m(\u001b[0m\u001b[0mself\u001b[0m\u001b[1;33m,\u001b[0m \u001b[1;33m**\u001b[0m\u001b[0mkwargs\u001b[0m \u001b[1;33m)\u001b[0m\u001b[1;33m\u001b[0m\u001b[1;33m\u001b[0m\u001b[0m\n",
      "\u001b[1;31mTypeError\u001b[0m: Cannot create a consistent method resolution\norder (MRO) for bases A, B"
     ]
    }
   ],
   "source": [
    "class C(A,B):\n",
    "    def __init__(self, address , *args  , **kwargs):\n",
    "        self.address = address\n",
    "        A.__init__(self,*args)\n",
    "        B.__init__(self, **kwargs )\n",
    "    def get(self):\n",
    "        return f\" My Name is {self.name} and Roll is  {self.roll} salary is {self.salary} and address is {self.address}\" \n",
    "    \n",
    "#     class xyz:\n",
    "#     def __init__(self, a,b,c) :\n",
    "#         self.a= a \n",
    "#         self.b= b \n",
    "#         self.c= c \n",
    "        \n",
    "        \n",
    "#     def test(self) : \n",
    "#         print(\"this is a meth of xyz class \")\n",
    "    \n",
    "# class xyz1:\n",
    "    \n",
    "#     def __init__(self , p,q,v) :\n",
    "#         self.p = p \n",
    "#         self.v = v \n",
    "#         self.q = q \n",
    "        \n",
    "#     def test1(self) : \n",
    "#         print(\"this is a meth form class xyz1\")\n",
    "        \n",
    "# class child(xyz1,xyz):\n",
    "#     def __init__(self , *args ,**kwargs):\n",
    "#         xyz.__init__(self,*args) \n",
    "#         xyz1.__init__(self,**kwargs)\n",
    "    "
   ]
  },
  {
   "cell_type": "raw",
   "metadata": {},
   "source": [
    "OOPS:\n",
    "3 varaibles\n",
    "1) local variable\n",
    "2) instance variable / object variable\n",
    "3) class variable / static variable\n",
    "\n",
    "class student:\n",
    "    course = \"iNeuron\" #class / static variable\n",
    "    def __init__(self, fname, lname, age, classes): #constructor\n",
    "        self.fname = fname #instance variable\n",
    "        self.lname = lname\n",
    "        name = lname #Local variable, cannot be called in show function and its scope is inside the init function only\n",
    "        self.age = age\n",
    "        self.classes = classes\n",
    "        print(name)\n",
    "        \n",
    "    def show(self):\n",
    "        print(self.fname, self.lname, self.age, self.classes, #(connect access)name, self.course)"
   ]
  },
  {
   "cell_type": "code",
   "execution_count": 56,
   "metadata": {},
   "outputs": [],
   "source": [
    "class student:\n",
    "    course = \"iNeuron\" #class / static variable\n",
    "    def __init__(self, fname, lname, age, classes):\n",
    "        self.fname = fname #instance variable\n",
    "        self.lname = lname\n",
    "        name = lname #Local variable\n",
    "        self.age = age\n",
    "        self.classes = classes\n",
    "        print(name)\n",
    "        \n",
    "    def show(self):\n",
    "        print(self.fname, self.lname, self.age, self.classes, self.course)"
   ]
  },
  {
   "cell_type": "code",
   "execution_count": 57,
   "metadata": {},
   "outputs": [
    {
     "ename": "TypeError",
     "evalue": "__init__() missing 4 required positional arguments: 'fname', 'lname', 'age', and 'classes'",
     "output_type": "error",
     "traceback": [
      "\u001b[1;31m---------------------------------------------------------------------------\u001b[0m",
      "\u001b[1;31mTypeError\u001b[0m                                 Traceback (most recent call last)",
      "\u001b[1;32m<ipython-input-57-2fd7d0dd711c>\u001b[0m in \u001b[0;36m<module>\u001b[1;34m\u001b[0m\n\u001b[1;32m----> 1\u001b[1;33m \u001b[0mraksha\u001b[0m \u001b[1;33m=\u001b[0m \u001b[0mstudent\u001b[0m\u001b[1;33m(\u001b[0m\u001b[1;33m)\u001b[0m\u001b[1;33m\u001b[0m\u001b[1;33m\u001b[0m\u001b[0m\n\u001b[0m",
      "\u001b[1;31mTypeError\u001b[0m: __init__() missing 4 required positional arguments: 'fname', 'lname', 'age', and 'classes'"
     ]
    }
   ],
   "source": [
    "raksha = student()"
   ]
  },
  {
   "cell_type": "code",
   "execution_count": 58,
   "metadata": {},
   "outputs": [
    {
     "name": "stdout",
     "output_type": "stream",
     "text": [
      "mohan\n"
     ]
    }
   ],
   "source": [
    "#by calling the function student, it has printed out the local variable\n",
    "raksha = student(\"rakshanna\", \"mohan\", 8, \"p2\")"
   ]
  },
  {
   "cell_type": "code",
   "execution_count": 59,
   "metadata": {},
   "outputs": [
    {
     "data": {
      "text/plain": [
       "'rakshanna'"
      ]
     },
     "execution_count": 59,
     "metadata": {},
     "output_type": "execute_result"
    }
   ],
   "source": [
    "#object / instance variable is accessed\n",
    "raksha.fname"
   ]
  },
  {
   "cell_type": "code",
   "execution_count": 60,
   "metadata": {},
   "outputs": [
    {
     "name": "stdout",
     "output_type": "stream",
     "text": [
      "rakshanna mohan 8 p2 iNeuron\n"
     ]
    }
   ],
   "source": [
    "#why the show function called has the error, reason the name must contain self.name\n",
    "#even the name is defined as local variable to called in Show function\n",
    "raksha.show()"
   ]
  },
  {
   "cell_type": "code",
   "execution_count": 61,
   "metadata": {},
   "outputs": [
    {
     "data": {
      "text/plain": [
       "'iNeuron'"
      ]
     },
     "execution_count": 61,
     "metadata": {},
     "output_type": "execute_result"
    }
   ],
   "source": [
    "#class variable is accessed by class and its functions (with the help of self) only\n",
    "student.course"
   ]
  },
  {
   "cell_type": "code",
   "execution_count": 62,
   "metadata": {},
   "outputs": [
    {
     "data": {
      "text/plain": [
       "'iNeuron'"
      ]
     },
     "execution_count": 62,
     "metadata": {},
     "output_type": "execute_result"
    }
   ],
   "source": [
    "raksha.course #raksha is nothing but student class, so can access the class variable"
   ]
  },
  {
   "cell_type": "code",
   "execution_count": null,
   "metadata": {},
   "outputs": [],
   "source": []
  }
 ],
 "metadata": {
  "kernelspec": {
   "display_name": "Python 3",
   "language": "python",
   "name": "python3"
  },
  "language_info": {
   "codemirror_mode": {
    "name": "ipython",
    "version": 3
   },
   "file_extension": ".py",
   "mimetype": "text/x-python",
   "name": "python",
   "nbconvert_exporter": "python",
   "pygments_lexer": "ipython3",
   "version": "3.7.6"
  }
 },
 "nbformat": 4,
 "nbformat_minor": 4
}
