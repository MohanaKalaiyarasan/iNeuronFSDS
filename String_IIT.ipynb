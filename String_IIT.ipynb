{
 "cells": [
  {
   "cell_type": "markdown",
   "metadata": {},
   "source": [
    "# Live Python Class By IIT Bombay Alumin\n",
    "# String Lesson 1\n",
    "Free Live Python Classes by IIT BOMBAY Alumnus.\n",
    "Complete Strings MasterClass this weekend:\n",
    "1. Strings Lesson 1 : 5th, June, Saturday, 2pm IST. Link: https://youtu.be/-b_JY1FWBdU\n",
    "2. Strings Lesson 2 : 5th, June, Saturday, 4pm IST. Link: https://youtu.be/Nd-bgOaRTag\n",
    "3. Strings Lesson 3 : 6th, June, Sunday, 2pm IST. Link: https://youtu.be/uLUObeYgRRc\n",
    "4. Strings Lesson 4 : 6th, June, Sunday, 4pm IST. Link: https://youtu.be/QVTFTyF7XEU"
   ]
  },
  {
   "cell_type": "code",
   "execution_count": 2,
   "metadata": {},
   "outputs": [],
   "source": [
    "# What are strings? group of characters\n",
    "# represented in single ' ' or double quotes \" \"\n",
    "# single line or multiline ''' ''', \"\"\"  \"\"\""
   ]
  },
  {
   "cell_type": "code",
   "execution_count": 2,
   "metadata": {},
   "outputs": [],
   "source": [
    "x ='thatascience'\n",
    "y = \"thatascience\""
   ]
  },
  {
   "cell_type": "code",
   "execution_count": 3,
   "metadata": {},
   "outputs": [],
   "source": [
    "## Index in Slicing, keep index in range\n",
    "## characters at index can be fetched by string[index]\n",
    "name =\"thatascience\""
   ]
  },
  {
   "cell_type": "code",
   "execution_count": 4,
   "metadata": {},
   "outputs": [
    {
     "name": "stdout",
     "output_type": "stream",
     "text": [
      "s\n"
     ]
    }
   ],
   "source": [
    "print(name[5])"
   ]
  },
  {
   "cell_type": "markdown",
   "metadata": {},
   "source": [
    "### Looping over a String"
   ]
  },
  {
   "cell_type": "code",
   "execution_count": 5,
   "metadata": {},
   "outputs": [
    {
     "name": "stdout",
     "output_type": "stream",
     "text": [
      "0 t\n",
      "1 h\n",
      "2 a\n",
      "3 t\n",
      "4 a\n",
      "5 s\n",
      "6 c\n",
      "7 i\n",
      "8 e\n",
      "9 n\n",
      "10 c\n",
      "11 e\n"
     ]
    }
   ],
   "source": [
    "# enumerate is used to get index and characters\n",
    "for i, ch in enumerate(name):\n",
    "    print(i, ch)"
   ]
  },
  {
   "cell_type": "markdown",
   "metadata": {},
   "source": [
    "## String Slicing"
   ]
  },
  {
   "cell_type": "code",
   "execution_count": 17,
   "metadata": {},
   "outputs": [],
   "source": [
    "pc = 'computer is  known as pc'\n",
    "## getting some portion of it from PC\n",
    "## string_var[start:end]\n",
    "## string_var[start:end:step]"
   ]
  },
  {
   "cell_type": "code",
   "execution_count": 18,
   "metadata": {},
   "outputs": [
    {
     "data": {
      "text/plain": [
       "'computer'"
      ]
     },
     "execution_count": 18,
     "metadata": {},
     "output_type": "execute_result"
    }
   ],
   "source": [
    "pc[0:8]"
   ]
  },
  {
   "cell_type": "code",
   "execution_count": 19,
   "metadata": {},
   "outputs": [
    {
     "data": {
      "text/plain": [
       "'cmue s'"
      ]
     },
     "execution_count": 19,
     "metadata": {},
     "output_type": "execute_result"
    }
   ],
   "source": [
    "pc[0:11:2]"
   ]
  },
  {
   "cell_type": "markdown",
   "metadata": {},
   "source": [
    "## Reverse Slicing"
   ]
  },
  {
   "cell_type": "code",
   "execution_count": 20,
   "metadata": {},
   "outputs": [],
   "source": [
    "#use negative slicing for reverse slicing, index from last start with -1, -2, -3...\n",
    "# with negative step"
   ]
  },
  {
   "cell_type": "code",
   "execution_count": 21,
   "metadata": {},
   "outputs": [
    {
     "data": {
      "text/plain": [
       "'cp sa nwo'"
      ]
     },
     "execution_count": 21,
     "metadata": {},
     "output_type": "execute_result"
    }
   ],
   "source": [
    "pc[-1:-10:-1]"
   ]
  },
  {
   "cell_type": "markdown",
   "metadata": {},
   "source": [
    "## Adding string / concatenation"
   ]
  },
  {
   "cell_type": "code",
   "execution_count": 6,
   "metadata": {},
   "outputs": [],
   "source": [
    "name = 'thatascience'\n",
    "age = '3 years'"
   ]
  },
  {
   "cell_type": "code",
   "execution_count": 7,
   "metadata": {},
   "outputs": [
    {
     "data": {
      "text/plain": [
       "'thatascience 3 years'"
      ]
     },
     "execution_count": 7,
     "metadata": {},
     "output_type": "execute_result"
    }
   ],
   "source": [
    "name + ' ' + age"
   ]
  },
  {
   "cell_type": "markdown",
   "metadata": {},
   "source": [
    "    # name + 3"
   ]
  },
  {
   "cell_type": "code",
   "execution_count": 26,
   "metadata": {},
   "outputs": [
    {
     "data": {
      "text/plain": [
       "'thatascience3'"
      ]
     },
     "execution_count": 26,
     "metadata": {},
     "output_type": "execute_result"
    }
   ],
   "source": [
    "name +str(3) #cannot add the int and str type (concatenate)"
   ]
  },
  {
   "cell_type": "markdown",
   "metadata": {},
   "source": [
    "## Multiplying string with a numbers"
   ]
  },
  {
   "cell_type": "code",
   "execution_count": 27,
   "metadata": {},
   "outputs": [
    {
     "data": {
      "text/plain": [
       "'thatasciencethatasciencethatascience'"
      ]
     },
     "execution_count": 27,
     "metadata": {},
     "output_type": "execute_result"
    }
   ],
   "source": [
    "name*3"
   ]
  },
  {
   "cell_type": "code",
   "execution_count": 28,
   "metadata": {},
   "outputs": [],
   "source": [
    "# problem1: create a simple string variables"
   ]
  },
  {
   "cell_type": "code",
   "execution_count": 30,
   "metadata": {},
   "outputs": [
    {
     "data": {
      "text/plain": [
       "'i am mohan'"
      ]
     },
     "execution_count": 30,
     "metadata": {},
     "output_type": "execute_result"
    }
   ],
   "source": [
    "x ='i am mohan'\n",
    "x"
   ]
  },
  {
   "cell_type": "code",
   "execution_count": 31,
   "metadata": {},
   "outputs": [
    {
     "data": {
      "text/plain": [
       "'i a'"
      ]
     },
     "execution_count": 31,
     "metadata": {},
     "output_type": "execute_result"
    }
   ],
   "source": [
    "# problem2: create a string and access the 1st 3 elements from the characters\n",
    "x ='i am mohan'\n",
    "x[0:3]"
   ]
  },
  {
   "cell_type": "code",
   "execution_count": 32,
   "metadata": {},
   "outputs": [
    {
     "name": "stdout",
     "output_type": "stream",
     "text": [
      "i\n",
      " \n",
      "a\n",
      "m\n",
      " \n",
      "m\n",
      "o\n",
      "h\n",
      "a\n",
      "n\n"
     ]
    }
   ],
   "source": [
    "# problem 3: loop over a string and print its characters\n",
    "x ='i am mohan'\n",
    "for i in x:\n",
    "    print(i)"
   ]
  },
  {
   "cell_type": "code",
   "execution_count": 33,
   "metadata": {},
   "outputs": [
    {
     "name": "stdout",
     "output_type": "stream",
     "text": [
      "0 i\n",
      "1  \n",
      "2 a\n",
      "3 m\n",
      "4  \n",
      "5 m\n",
      "6 o\n",
      "7 h\n",
      "8 a\n",
      "9 n\n"
     ]
    }
   ],
   "source": [
    "# problem 4: print characters and their indices a string\n",
    "x ='i am mohan'\n",
    "for i, a in enumerate(x):\n",
    "    print(i, a)"
   ]
  },
  {
   "cell_type": "code",
   "execution_count": 34,
   "metadata": {},
   "outputs": [
    {
     "data": {
      "text/plain": [
       "'i am mohan learning'"
      ]
     },
     "execution_count": 34,
     "metadata": {},
     "output_type": "execute_result"
    }
   ],
   "source": [
    "# problem 5: Add 2 string\n",
    "x = 'i am mohan'\n",
    "y = 'learning'\n",
    "x + ' ' + y"
   ]
  },
  {
   "cell_type": "code",
   "execution_count": 10,
   "metadata": {},
   "outputs": [],
   "source": [
    "## Tips and Tricks by the Master\n",
    "## 1) List to string\n",
    "## List() function converts string into characters"
   ]
  },
  {
   "cell_type": "code",
   "execution_count": 44,
   "metadata": {},
   "outputs": [
    {
     "data": {
      "text/plain": [
       "['i',\n",
       " ' ',\n",
       " 'a',\n",
       " 'm',\n",
       " ' ',\n",
       " 'a',\n",
       " ' ',\n",
       " 'g',\n",
       " 'r',\n",
       " 'e',\n",
       " 'a',\n",
       " 't',\n",
       " ' ',\n",
       " 'c',\n",
       " 'o',\n",
       " 'd',\n",
       " 'e',\n",
       " 'r']"
      ]
     },
     "execution_count": 44,
     "metadata": {},
     "output_type": "execute_result"
    }
   ],
   "source": [
    "name = 'i am a great coder'\n",
    "list(name)"
   ]
  },
  {
   "cell_type": "code",
   "execution_count": 45,
   "metadata": {},
   "outputs": [],
   "source": [
    "#2) Check presence of a string in another string\n",
    "x = 'i am mohan'\n",
    "y = 'mohan'\n",
    "## 'in' keyword"
   ]
  },
  {
   "cell_type": "code",
   "execution_count": 46,
   "metadata": {},
   "outputs": [
    {
     "data": {
      "text/plain": [
       "True"
      ]
     },
     "execution_count": 46,
     "metadata": {},
     "output_type": "execute_result"
    }
   ],
   "source": [
    "y in x"
   ]
  },
  {
   "cell_type": "code",
   "execution_count": 13,
   "metadata": {},
   "outputs": [
    {
     "name": "stdout",
     "output_type": "stream",
     "text": [
      "i a 0\n",
      "  n 1\n",
      "a d 2\n",
      "m   3\n",
      "  d 4\n",
      "l e 5\n",
      "e v 6\n",
      "a e 7\n",
      "r l 8\n",
      "n o 9\n",
      "i p 10\n",
      "n e 11\n",
      "g d 12\n"
     ]
    }
   ],
   "source": [
    "## Take Home Assignment\n",
    "##1) Create two strings and print the characters index by index together\n",
    "# make the string into tuples and list of strings by zip.\n",
    "# to get the output of zip, need to be a list\n",
    "x = \"i am learning\"\n",
    "y = \"and developed\"\n",
    "\n",
    "# z = list(zip(x,y)) #zip will do tuples of list as [(x[0], y[0]), (x[1], y[1])...], accessed by index 0 and 1 for 1st tuples\n",
    "z = list(zip(x,y))\n",
    "for i, ch in enumerate(z):\n",
    "    print(ch[0], ch[1], i)"
   ]
  },
  {
   "cell_type": "code",
   "execution_count": 54,
   "metadata": {},
   "outputs": [
    {
     "data": {
      "text/plain": [
       "' oaakliaa'"
      ]
     },
     "execution_count": 54,
     "metadata": {},
     "output_type": "execute_result"
    }
   ],
   "source": [
    "## Take Home Assignment\n",
    "##2) Show String Slicing\n",
    "x = \" mohana kalaiyarasan\"\n",
    "x[0:17:2]"
   ]
  },
  {
   "cell_type": "code",
   "execution_count": 55,
   "metadata": {},
   "outputs": [
    {
     "data": {
      "text/plain": [
       "'nayl '"
      ]
     },
     "execution_count": 55,
     "metadata": {},
     "output_type": "execute_result"
    }
   ],
   "source": [
    "x[-1:-14:-3]"
   ]
  },
  {
   "cell_type": "code",
   "execution_count": 57,
   "metadata": {},
   "outputs": [
    {
     "name": "stdout",
     "output_type": "stream",
     "text": [
      "Yes str1 contains str2\n",
      "No str1 does not contain str3\n"
     ]
    }
   ],
   "source": [
    "# Let's creat a string\n",
    "str1 = 'We will learn Data Science'\n",
    "str2 = 'Data Science'\n",
    "str3 = 'I will'\n",
    "\n",
    "# We want to check if str1 contains str2\n",
    "if str2 in str1:\n",
    "    print('Yes str1 contains str2')\n",
    "\n",
    "# Now let's check if str1 contains str3\n",
    "if str3 in str1:\n",
    "    print('Yes str1 contains str3')\n",
    "else:\n",
    "    print('No str1 does not contain str3')\n",
    "# Yes str1 contains str2\n",
    "# No str1 does not contain str3"
   ]
  },
  {
   "cell_type": "markdown",
   "metadata": {},
   "source": [
    "## Lesson 2 String"
   ]
  },
  {
   "cell_type": "code",
   "execution_count": 15,
   "metadata": {},
   "outputs": [
    {
     "ename": "TypeError",
     "evalue": "'str' object does not support item assignment",
     "output_type": "error",
     "traceback": [
      "\u001b[1;31m---------------------------------------------------------------------------\u001b[0m",
      "\u001b[1;31mTypeError\u001b[0m                                 Traceback (most recent call last)",
      "\u001b[1;32m<ipython-input-15-168380d4b4ab>\u001b[0m in \u001b[0;36m<module>\u001b[1;34m\u001b[0m\n\u001b[0;32m      1\u001b[0m \u001b[1;31m# Strings are immutable (cannot change)\u001b[0m\u001b[1;33m\u001b[0m\u001b[1;33m\u001b[0m\u001b[1;33m\u001b[0m\u001b[0m\n\u001b[0;32m      2\u001b[0m \u001b[0mname\u001b[0m \u001b[1;33m=\u001b[0m \u001b[1;34m'mohan'\u001b[0m\u001b[1;33m\u001b[0m\u001b[1;33m\u001b[0m\u001b[0m\n\u001b[1;32m----> 3\u001b[1;33m \u001b[0mname\u001b[0m\u001b[1;33m[\u001b[0m\u001b[1;36m3\u001b[0m\u001b[1;33m]\u001b[0m \u001b[1;33m=\u001b[0m \u001b[1;34m's'\u001b[0m\u001b[1;33m\u001b[0m\u001b[1;33m\u001b[0m\u001b[0m\n\u001b[0m",
      "\u001b[1;31mTypeError\u001b[0m: 'str' object does not support item assignment"
     ]
    }
   ],
   "source": [
    "# Strings are immutable (cannot change, it doesnt support item assignment)\n",
    "name = 'mohan'\n",
    "name[3] = 's'"
   ]
  },
  {
   "cell_type": "code",
   "execution_count": 19,
   "metadata": {},
   "outputs": [
    {
     "name": "stdout",
     "output_type": "stream",
     "text": [
      " thatascience is determined ti orovide quality edu to all youngsters aaa \n",
      "asdas\n",
      "asd\n",
      "sdsad\n",
      "asda\n",
      "asdand that they can achieve greatness in their life \n"
     ]
    }
   ],
   "source": [
    "# Multiline strings\n",
    "# Strings which span accross multiple lines can be created using triple quote or triple double quote\n",
    "\n",
    "about = \"\"\" thatascience is determined ti orovide quality edu to all youngsters aaa \n",
    "asdas\n",
    "asd\n",
    "sdsad\n",
    "asda\n",
    "asdand that they can achieve greatness in their life \"\"\"\n",
    "print(about)"
   ]
  },
  {
   "cell_type": "code",
   "execution_count": 20,
   "metadata": {},
   "outputs": [],
   "source": [
    "# Delete a string\n",
    "age = '3 years'\n",
    "del age"
   ]
  },
  {
   "cell_type": "code",
   "execution_count": 21,
   "metadata": {},
   "outputs": [
    {
     "ename": "NameError",
     "evalue": "name 'age' is not defined",
     "output_type": "error",
     "traceback": [
      "\u001b[1;31m---------------------------------------------------------------------------\u001b[0m",
      "\u001b[1;31mNameError\u001b[0m                                 Traceback (most recent call last)",
      "\u001b[1;32m<ipython-input-21-5f7a7c5b2c60>\u001b[0m in \u001b[0;36m<module>\u001b[1;34m\u001b[0m\n\u001b[1;32m----> 1\u001b[1;33m \u001b[0mprint\u001b[0m\u001b[1;33m(\u001b[0m\u001b[0mage\u001b[0m\u001b[1;33m)\u001b[0m\u001b[1;33m\u001b[0m\u001b[1;33m\u001b[0m\u001b[0m\n\u001b[0m",
      "\u001b[1;31mNameError\u001b[0m: name 'age' is not defined"
     ]
    }
   ],
   "source": [
    "print(age)"
   ]
  },
  {
   "cell_type": "code",
   "execution_count": 22,
   "metadata": {},
   "outputs": [
    {
     "data": {
      "text/plain": [
       "12"
      ]
     },
     "execution_count": 22,
     "metadata": {},
     "output_type": "execute_result"
    }
   ],
   "source": [
    "# length of string, len()\n",
    "prof = \"Data science\"\n",
    "len(prof)"
   ]
  },
  {
   "cell_type": "code",
   "execution_count": 23,
   "metadata": {},
   "outputs": [
    {
     "data": {
      "text/plain": [
       "'[1, 2, 3, 4, 5]'"
      ]
     },
     "execution_count": 23,
     "metadata": {},
     "output_type": "execute_result"
    }
   ],
   "source": [
    "# String Function, str(), used to get the string representation of python object\n",
    "str([1,2,3,4,5])"
   ]
  },
  {
   "cell_type": "code",
   "execution_count": 24,
   "metadata": {},
   "outputs": [
    {
     "name": "stdout",
     "output_type": "stream",
     "text": [
      "sameer\n"
     ]
    }
   ],
   "source": [
    "# Given a list of name, print all names in which a given string is present\n",
    "ls =['sameer', 'rahul', 'mohan', 'preeti']\n",
    "key = 'sam'\n",
    "\n",
    "for name in ls:\n",
    "    if key in name:\n",
    "        print(name)"
   ]
  },
  {
   "cell_type": "code",
   "execution_count": 25,
   "metadata": {},
   "outputs": [
    {
     "data": {
      "text/plain": [
       "'ecneicsataht'"
      ]
     },
     "execution_count": 25,
     "metadata": {},
     "output_type": "execute_result"
    }
   ],
   "source": [
    "#reverse a string, start and end will be taken automatically\n",
    "name =\"thatascience\"\n",
    "name[::-1]"
   ]
  },
  {
   "cell_type": "code",
   "execution_count": 28,
   "metadata": {},
   "outputs": [
    {
     "name": "stdout",
     "output_type": "stream",
     "text": [
      "True\n",
      "False\n"
     ]
    }
   ],
   "source": [
    "# check absence of string in another string\n",
    "x = \"i am mohan\"\n",
    "y = \"mohan\"\n",
    "z = \"san\"\n",
    "print(y in x)\n",
    "print(z in x)"
   ]
  },
  {
   "cell_type": "markdown",
   "metadata": {},
   "source": [
    "## Lesson 3"
   ]
  },
  {
   "cell_type": "code",
   "execution_count": null,
   "metadata": {},
   "outputs": [],
   "source": [
    "# String Formatting\n",
    "# one can create formatted strings in multiple manners in python"
   ]
  },
  {
   "cell_type": "code",
   "execution_count": null,
   "metadata": {},
   "outputs": [],
   "source": [
    "# # Placeholder Old String Formatting\n",
    "# %s - string (any object with a string representation, like numbers)\n",
    "# %d - Integers\n",
    "# %f = Floating point number\n",
    "# %.<2> = Floating decimal point number"
   ]
  },
  {
   "cell_type": "code",
   "execution_count": 6,
   "metadata": {},
   "outputs": [
    {
     "name": "stdout",
     "output_type": "stream",
     "text": [
      "Hello everyone, my name is mohan\n",
      "Hello everyone, my name is mohan and my deal is to learn\n",
      "Hello everyone, my name is mohan and my deal is to learn and get score of 98.35 at age 39\n",
      "my list is: [1, 2, 3, 4]\n",
      "my name is {'name': 'apple', 'age': 6}\n",
      "my name is apple and age is 6\n"
     ]
    }
   ],
   "source": [
    "# placeholder %s string\n",
    "name = \"my name is mohan\"\n",
    "format_str = 'Hello everyone, %s' %name\n",
    "print(format_str)\n",
    "\n",
    "# 1st argument in the bracket takes the 1st place\n",
    "name = \"my name is mohan\"\n",
    "prog = \"my deal is to learn\"\n",
    "format_str = 'Hello everyone, %s and %s' %(name, prog)\n",
    "print(format_str)\n",
    "\n",
    "# here, Float decimal representation %.2f, and decimal %d\n",
    "name = \"my name is mohan\"\n",
    "prog = \"my deal is to learn\"\n",
    "score = 98.3456\n",
    "age = 39\n",
    "format_str = 'Hello everyone, %s and %s and get score of %.2f at age %d' %(name, prog, score, age)\n",
    "print(format_str)\n",
    "\n",
    "#list of string representation, %ls\n",
    "ls = [1,2,3,4]\n",
    "format_str = 'my list is: %s'%ls\n",
    "print(format_str)\n",
    "\n",
    "# dictionary\n",
    "dic = {'name': 'apple', 'age': 6}\n",
    "format_str = 'my name is %s' %dic\n",
    "print(format_str)\n",
    "\n",
    "# By reference by Dictionary keys {key: value}, indicating the key to get the value in the print out \n",
    "dic = {'name': 'apple', 'age': 6}\n",
    "format_str = 'my name is %(name)s and age is %(age)s' %dic\n",
    "print(format_str)"
   ]
  },
  {
   "cell_type": "code",
   "execution_count": 24,
   "metadata": {},
   "outputs": [
    {
     "name": "stdout",
     "output_type": "stream",
     "text": [
      "my name is appleberry\n",
      "my name is name\n",
      "my name is robot\n",
      "my name is rock and my friends are sand, water, and stone\n",
      "my name is sand and my friends are rock, stone, and water\n",
      "my name is stone and my friends are water, sand, and rock\n",
      "my list is 3\n"
     ]
    }
   ],
   "source": [
    "#Format Method: Use the format() method to format strings\n",
    "print('my name is {}'.format('appleberry'))\n",
    "\n",
    "# mistake: at format, variable should not represented as string\n",
    "name = 'robot'\n",
    "print('my name is {}'.format('name'))\n",
    "\n",
    "name = 'robot'\n",
    "print('my name is {}'.format(name))\n",
    "\n",
    "# multiple inputs\n",
    "name = 'rock'\n",
    "f1 = 'sand'\n",
    "f2 = 'water'\n",
    "f3 = 'stone'\n",
    "print('my name is {} and my friends are {}, {}, and {}'.format(name, f1, f2, f3))\n",
    "\n",
    "# multiple inputs represented by indexing\n",
    "name = 'rock'\n",
    "f1 = 'sand'\n",
    "f2 = 'water'\n",
    "f3 = 'stone'\n",
    "print('my name is {1} and my friends are {0}, {3}, and {2}'.format(name, f1, f2, f3))\n",
    "\n",
    "# with reference\n",
    "print('my name is {f3} and my friends are {f2}, {f1}, and {name}'.format(name = 'rock', f1 = 'sand', f2 = 'water', f3 = 'stone'))\n",
    "\n",
    "#list at format method\n",
    "ls =[1,2,3]\n",
    "#print('my list is {ls[::1]}'.format(ls = ls)) #list indices must be integers or slices, not str, i have represented as string\n",
    "\n",
    "print('my list is {ls[2]}'.format(ls = ls))\n"
   ]
  },
  {
   "cell_type": "code",
   "execution_count": 42,
   "metadata": {},
   "outputs": [
    {
     "name": "stdout",
     "output_type": "stream",
     "text": [
      "robot               \n",
      "robot***************\n",
      "robot$$$$$$$$$$$$$$$\n",
      "\n",
      "               robot\n",
      "***************robot\n",
      "robot$$$$$$$$$$$$$$$\n",
      "\n",
      "       robot        \n",
      "*******robot********\n",
      "$$$$$$$robot$$$$$$$$\n",
      "\n"
     ]
    }
   ],
   "source": [
    "#Align (right, left and center) with format method\n",
    "#left align\n",
    "print('{:<20}'.format('robot'))\n",
    "print('{:*<20}'.format('robot'))\n",
    "print('{:$<20}'.format('robot'))\n",
    "print( end='\\n')\n",
    "#right align\n",
    "print('{:>20}'.format('robot'))\n",
    "print('{:*>20}'.format('robot'))\n",
    "print('{:$<20}'.format('robot'))\n",
    "print( end='\\n')\n",
    "#center align\n",
    "print('{:^20}'.format('robot'))\n",
    "print('{:*^20}'.format('robot'))\n",
    "print('{:$^20}'.format('robot'))\n",
    "print( end='\\n')"
   ]
  },
  {
   "cell_type": "code",
   "execution_count": 45,
   "metadata": {},
   "outputs": [
    {
     "name": "stdout",
     "output_type": "stream",
     "text": [
      "1 is the element of list\n",
      "2 is the element of list\n",
      "3 is the element of list\n",
      "4 is the element of list\n"
     ]
    }
   ],
   "source": [
    "#loop over a list and pint its content using a format string\n",
    "ls = [1,2,3,4]\n",
    "for i in ls:\n",
    "    print('{} is the element of list'. format(i))"
   ]
  },
  {
   "cell_type": "code",
   "execution_count": 47,
   "metadata": {},
   "outputs": [
    {
     "name": "stdout",
     "output_type": "stream",
     "text": [
      "1$$$$\n",
      "2$$$$\n",
      "3$$$$\n",
      "4$$$$\n"
     ]
    }
   ],
   "source": [
    "#print all the contents of the list as left aligned\n",
    "ls = [1,2,3,4]\n",
    "for i in ls:\n",
    "    print('{:$<5}'. format(i))"
   ]
  },
  {
   "cell_type": "code",
   "execution_count": 5,
   "metadata": {},
   "outputs": [
    {
     "name": "stdout",
     "output_type": "stream",
     "text": [
      "                Name                 Age                 Sex\n",
      "               mohan                  40                male\n",
      "               surya                  37              female\n",
      "              Raksha                   6              female\n",
      "             shavesh                   2                male\n"
     ]
    }
   ],
   "source": [
    "# print  a right aligned tabular structure data using format method\n",
    "form = '{:>20}{:>20}{:>20}'\n",
    "ls = [('mohan', 40, 'male'), ('surya', 37, 'female'), ('Raksha', 6, 'female'),\n",
    "     ('shavesh', 2, 'male')]\n",
    "print(form.format('Name', 'Age', \"Sex\"))\n",
    "\n",
    "for i in ls:\n",
    "    print(form.format(i[0], i[1], i[2]))"
   ]
  },
  {
   "cell_type": "code",
   "execution_count": 4,
   "metadata": {},
   "outputs": [
    {
     "name": "stdout",
     "output_type": "stream",
     "text": [
      "Name                 Age                 Sex                 \n",
      "mohan                40                  male                \n",
      "surya                37                  female              \n",
      "Raksha               6                   female              \n",
      "shavesh              2                   male                \n"
     ]
    }
   ],
   "source": [
    "# Tips and Trick by master\n",
    "# create a table like structure with format\n",
    "\n",
    "form = '{:<20} {:<20}{:<20}'\n",
    "ls = [('mohan', 40, 'male'), ('surya', 37, 'female'), ('Raksha', 6, 'female'),\n",
    "     ('shavesh', 2, 'male')]\n",
    "print(form.format('Name', 'Age', \"Sex\"))\n",
    "\n",
    "for i in ls:\n",
    "    print(form.format(i[0], i[1], i[2]))\n"
   ]
  },
  {
   "cell_type": "code",
   "execution_count": 6,
   "metadata": {},
   "outputs": [
    {
     "name": "stdout",
     "output_type": "stream",
     "text": [
      "                Name                 Age                 Sex\n",
      "               mohan                  40                male\n",
      "               surya                  37              female\n",
      "              Raksha                   6              female\n",
      "             shavesh                   2                male\n"
     ]
    }
   ],
   "source": [
    "#print  a right aligned tabular structure data using format method with dic reference\n",
    "form = '{:>20}{:>20}{:>20}'\n",
    "dic = {'entry1': ['mohan', 40, 'male'], \n",
    "       'entry2': ['surya', 37, 'female'], \n",
    "       'entry3': ['Raksha', 6, 'female'],\n",
    "     'entry4': ['shavesh', 2, 'male']}\n",
    "print(form.format('Name', 'Age', \"Sex\"))\n",
    "\n",
    "for key in dic:\n",
    "    val = dic[key]\n",
    "    print(form.format(val[0], val[1], val[2]))"
   ]
  },
  {
   "cell_type": "code",
   "execution_count": 13,
   "metadata": {},
   "outputs": [
    {
     "ename": "SyntaxError",
     "evalue": "invalid syntax (<ipython-input-13-b302d573a53a>, line 6)",
     "output_type": "error",
     "traceback": [
      "\u001b[1;36m  File \u001b[1;32m\"<ipython-input-13-b302d573a53a>\"\u001b[1;36m, line \u001b[1;32m6\u001b[0m\n\u001b[1;33m    print('I'll be going home')\u001b[0m\n\u001b[1;37m              ^\u001b[0m\n\u001b[1;31mSyntaxError\u001b[0m\u001b[1;31m:\u001b[0m invalid syntax\n"
     ]
    }
   ],
   "source": [
    "#String Lesson 4:\n",
    "# String formatting\n",
    "\n",
    "#Escaping Characters:\n",
    "# Double Quote\n",
    "print('I'll be going home')\n",
    "      # it didnt understand where to stop the line, represent in double quote\n"
   ]
  },
  {
   "cell_type": "code",
   "execution_count": 18,
   "metadata": {},
   "outputs": [
    {
     "name": "stdout",
     "output_type": "stream",
     "text": [
      "I'll be going home\n",
      "\n",
      "I'll be going home\n"
     ]
    }
   ],
   "source": [
    "print(\"I'll be going home\", end='\\n\\n')\n",
    "print('I\\'ll be going home') # with backlash in front of apostrophe, next word will be avoided"
   ]
  },
  {
   "cell_type": "code",
   "execution_count": 21,
   "metadata": {},
   "outputs": [
    {
     "name": "stdout",
     "output_type": "stream",
     "text": [
      "I will win the \n",
      " you can't beat me\n",
      "\n",
      "I will win the \\n you can't beat me\n"
     ]
    }
   ],
   "source": [
    "# Raw string, will avoid all escaping characters in the string\n",
    "print (\"I will win the \\n you can't beat me\", end ='\\n\\n') # it execute the sentence in 2 line\n",
    "print (r\"I will win the \\n you can't beat me\") # r in front exclude all escaping characters"
   ]
  },
  {
   "cell_type": "code",
   "execution_count": 24,
   "metadata": {},
   "outputs": [
    {
     "name": "stdout",
     "output_type": "stream",
     "text": [
      "my name is winner\n",
      "my name is winner\n"
     ]
    }
   ],
   "source": [
    "# for string \n",
    "name = 'winner'\n",
    "print('my name is {}'.format(name)) # old sytle of string formatting\n",
    "print(f'my name is {name}') # New format string with f"
   ]
  },
  {
   "cell_type": "code",
   "execution_count": 31,
   "metadata": {},
   "outputs": [
    {
     "name": "stdout",
     "output_type": "stream",
     "text": [
      "my name is rak and i am 3.5 years old\n",
      "my name is RAK and i am 3.50 years old\n"
     ]
    }
   ],
   "source": [
    "# multiple input\n",
    "name ='rak'\n",
    "age= 3.5\n",
    "print(f'my name is {name} and i am {age} years old')\n",
    "print(f'my name is {name.upper()} and i am {age:.2f} years old')"
   ]
  },
  {
   "cell_type": "code",
   "execution_count": 32,
   "metadata": {},
   "outputs": [
    {
     "name": "stdout",
     "output_type": "stream",
     "text": [
      " rak is awesome)\n",
      "3.5 is good\n",
      "\n"
     ]
    }
   ],
   "source": [
    "#multi line strings\n",
    "print(f\"\"\" {name} is awesome)\n",
    "{age} is good\n",
    "\"\"\")"
   ]
  },
  {
   "cell_type": "code",
   "execution_count": 34,
   "metadata": {},
   "outputs": [
    {
     "data": {
      "text/plain": [
       "'rak***************** is my name'"
      ]
     },
     "execution_count": 34,
     "metadata": {},
     "output_type": "execute_result"
    }
   ],
   "source": [
    "#alignment in f string\n",
    "# left align\n",
    "f'{name:*<20} is my name'"
   ]
  },
  {
   "cell_type": "code",
   "execution_count": 39,
   "metadata": {},
   "outputs": [
    {
     "name": "stdout",
     "output_type": "stream",
     "text": [
      "header1             header2             header3             \n",
      "a                   b                   c                   \n",
      "d                   e                   f                   \n",
      "g                   h                   i                   \n"
     ]
    }
   ],
   "source": [
    "#print tabular structire using f format string\n",
    "ls = [('a', 'b', 'c'), ('d', 'e', 'f'), ('g', 'h', 'i')]\n",
    "print(f\"{'header1':<20}{'header2':<20}{'header3':<20}\")\n",
    "for i in ls:\n",
    "    print(f\"{i[0]:<20}{i[1]:<20}{i[2]:<20}\")"
   ]
  },
  {
   "cell_type": "code",
   "execution_count": 52,
   "metadata": {},
   "outputs": [
    {
     "data": {
      "text/plain": [
       "'                  10'"
      ]
     },
     "execution_count": 52,
     "metadata": {},
     "output_type": "execute_result"
    }
   ],
   "source": [
    "# Tips and Tricks\n",
    "# using f string and format method together\n",
    "x= 10\n",
    "size = 20\n",
    "f\"{{0:>{size}}}\".format(x)"
   ]
  },
  {
   "cell_type": "code",
   "execution_count": 16,
   "metadata": {},
   "outputs": [
    {
     "data": {
      "text/plain": [
       "27"
      ]
     },
     "execution_count": 16,
     "metadata": {},
     "output_type": "execute_result"
    }
   ],
   "source": [
    "def cube(x,y,z):\n",
    "    return x**3\n",
    "    return \n",
    "cube(3,4,5)"
   ]
  },
  {
   "cell_type": "code",
   "execution_count": 10,
   "metadata": {},
   "outputs": [
    {
     "data": {
      "text/plain": [
       "27"
      ]
     },
     "execution_count": 10,
     "metadata": {},
     "output_type": "execute_result"
    }
   ],
   "source": [
    "no = 3\n",
    "no**3"
   ]
  },
  {
   "cell_type": "code",
   "execution_count": null,
   "metadata": {},
   "outputs": [],
   "source": []
  },
  {
   "cell_type": "code",
   "execution_count": null,
   "metadata": {},
   "outputs": [],
   "source": []
  },
  {
   "cell_type": "code",
   "execution_count": null,
   "metadata": {},
   "outputs": [],
   "source": []
  },
  {
   "cell_type": "code",
   "execution_count": null,
   "metadata": {},
   "outputs": [],
   "source": []
  },
  {
   "cell_type": "code",
   "execution_count": null,
   "metadata": {},
   "outputs": [],
   "source": []
  },
  {
   "cell_type": "code",
   "execution_count": null,
   "metadata": {},
   "outputs": [],
   "source": []
  },
  {
   "cell_type": "code",
   "execution_count": null,
   "metadata": {},
   "outputs": [],
   "source": []
  },
  {
   "cell_type": "code",
   "execution_count": null,
   "metadata": {},
   "outputs": [],
   "source": []
  },
  {
   "cell_type": "code",
   "execution_count": null,
   "metadata": {},
   "outputs": [],
   "source": []
  },
  {
   "cell_type": "code",
   "execution_count": null,
   "metadata": {},
   "outputs": [],
   "source": []
  },
  {
   "cell_type": "code",
   "execution_count": null,
   "metadata": {},
   "outputs": [],
   "source": []
  },
  {
   "cell_type": "code",
   "execution_count": null,
   "metadata": {},
   "outputs": [],
   "source": []
  }
 ],
 "metadata": {
  "kernelspec": {
   "display_name": "Python 3",
   "language": "python",
   "name": "python3"
  },
  "language_info": {
   "codemirror_mode": {
    "name": "ipython",
    "version": 3
   },
   "file_extension": ".py",
   "mimetype": "text/x-python",
   "name": "python",
   "nbconvert_exporter": "python",
   "pygments_lexer": "ipython3",
   "version": "3.7.6"
  }
 },
 "nbformat": 4,
 "nbformat_minor": 4
}
